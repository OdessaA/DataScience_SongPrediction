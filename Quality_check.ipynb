{
 "cells": [
  {
   "cell_type": "markdown",
   "id": "30e6cb45",
   "metadata": {},
   "source": [
    "Is de dataset compleet?\n",
    "\n",
    "Is de data correct of zijn er veel fouten? \n",
    "\n",
    "Zijn er ontbrekende waarden? "
   ]
  },
  {
   "cell_type": "markdown",
   "id": "9d98bc47",
   "metadata": {},
   "source": [
    "## Compleetheid\n",
    "\n",
    "Ontbrekende data? (df.info()) \n",
    "Nee. \n",
    "## Correctheid \n",
    "Dubbele data? \n",
    "Ja. 2896 waardes in song_name\n",
    "en 1015 waardes in song_popularity (zie cel met 'dubbel' tag)\n",
    "\n",
    "Outliers? \n",
    "Ja. Zie cel met outliers tag \n",
    "\n",
    "Niet geaccepteerde waardes? \n",
    "Ja. \n",
    "time_signature waardes van 0 en 1 > kan niet \n",
    "loudness waardes van boven 0. Ongebruikelijk \n",
    "tempo, twee nummers met een tempo van 0 > kan niet \n",
    "\n"
   ]
  },
  {
   "cell_type": "markdown",
   "id": "9cadf636",
   "metadata": {},
   "source": []
  }
 ],
 "metadata": {
  "language_info": {
   "name": "python"
  }
 },
 "nbformat": 4,
 "nbformat_minor": 5
}
