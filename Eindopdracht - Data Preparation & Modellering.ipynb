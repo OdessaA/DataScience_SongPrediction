{
 "cells": [
  {
   "cell_type": "markdown",
   "id": "d5ae150c",
   "metadata": {},
   "source": [
    "# Data Preparation, Pipelines & Model "
   ]
  },
  {
   "cell_type": "code",
   "execution_count": 1,
   "id": "ff3be992",
   "metadata": {},
   "outputs": [],
   "source": [
    "# Modules importeren\n",
    "import pandas as pd\n",
    "from pandas.plotting import scatter_matrix\n",
    "import matplotlib.pyplot as plt\n",
    "import seaborn as sns \n",
    "import numpy as np\n",
    "from sklearn.preprocessing import StandardScaler, OneHotEncoder, FunctionTransformer\n",
    "from sklearn.pipeline import Pipeline\n",
    "from sklearn.linear_model import LinearRegression\n",
    "from sklearn.model_selection import train_test_split\n",
    "from sklearn.metrics import mean_squared_error, r2_score\n",
    "from sklearn.compose import ColumnTransformer\n",
    "from sklearn.base import BaseEstimator, TransformerMixin\n",
    "\n",
    "# Dataset importeren \n",
    "df = pd.read_csv(\"/Users/odessa/Desktop/Applied Data Science & AI/Data Science/Code Inleiding data science/song_data.csv\")\n",
    "\n",
    "# Target variabele maken \n",
    "target = 'song_popularity'\n",
    "#df.drop(columns=[\"song_name\"], inplace=True) # inplace=True veranderd de originele dataframe zonder nieuwe dataframe te maken "
   ]
  },
  {
   "cell_type": "markdown",
   "id": "1a787fa6",
   "metadata": {},
   "source": [
    "### Phase 3: Data Preparation"
   ]
  },
  {
   "cell_type": "code",
   "execution_count": 2,
   "id": "9dc18af5",
   "metadata": {},
   "outputs": [],
   "source": [
    "# 2 nummers droppen\n",
    "df = df.drop([7119, 11171]).reset_index(drop=True)"
   ]
  },
  {
   "cell_type": "code",
   "execution_count": 3,
   "id": "71414a8c",
   "metadata": {},
   "outputs": [
    {
     "name": "stdout",
     "output_type": "stream",
     "text": [
      "Totaal aantal waardes in de dataframe vóór het verwijderen van dubbele waardes uit song_name en song_duration_ms: 18833\n",
      "Totaal aantal waardes in de dataframe na verwijderen van dubbele waardes uit song_name en song_duration_ms: 14466\n"
     ]
    }
   ],
   "source": [
    "print(f\"Totaal aantal waardes in de dataframe vóór het verwijderen van dubbele waardes uit song_name en song_duration_ms: {len(df)}\")\n",
    "\n",
    "# Dubbele waardes droppen van song_name en song_duration \n",
    "# Als ik alleen song_name duplicates zou verwijderen, zou ik misschien covers van nummers verwijderen, dus daarom check ik ook de song_duration \n",
    "df.drop_duplicates(subset=['song_name', 'song_duration_ms'], inplace = True)\n",
    "print(f\"Totaal aantal waardes in de dataframe na verwijderen van dubbele waardes uit song_name en song_duration_ms: {len(df)}\")"
   ]
  },
  {
   "cell_type": "code",
   "execution_count": 4,
   "id": "cfd97395",
   "metadata": {},
   "outputs": [],
   "source": [
    "df.drop(columns=[\"song_name\"], inplace=True) # inplace=True veranderd de originele dataframe zonder nieuwe dataframe te maken "
   ]
  },
  {
   "cell_type": "code",
   "execution_count": 5,
   "id": "3a0835b1",
   "metadata": {},
   "outputs": [],
   "source": [
    "X = df.drop(columns=[target], axis=1)\n",
    "y = df[target]"
   ]
  },
  {
   "cell_type": "markdown",
   "id": "c9a4ec21",
   "metadata": {},
   "source": [
    "### Phase 4: Modeling "
   ]
  },
  {
   "cell_type": "markdown",
   "id": "8cd89d72",
   "metadata": {},
   "source": [
    "Supervised learning, omdat je de uitkomst al hebt \n",
    "<br>\n",
    "Supervised learning heeft 2 hoofdtakken: regressie en classificatie \n",
    "<br>\n",
    "RMSE \n",
    "<br>\n",
    "Meervoudige lineare regressie \n",
    "<br>\n",
    "Logistieke lineare regressie is classification \n",
    "<br>\n",
    "Random forests is het begin van dat machine learning slim werd "
   ]
  },
  {
   "cell_type": "code",
   "execution_count": 6,
   "id": "c8d25fa9",
   "metadata": {},
   "outputs": [],
   "source": [
    "# BaseEstimator zorgt dat sklearn mijn class kan herkennen als model/stap in pipeline.\n",
    "# TransformerMixin geeft .fit_transform().\n",
    "class Winsorizer(BaseEstimator, TransformerMixin):\n",
    "    def __init__(self, kolommen): \n",
    "        self.kolommen = kolommen \n",
    "        self.grenzen_ = None # '_' betekent dat het attribuut pas beschikbaar wordt, nadat fit() is uitgevoerd. \n",
    "                             # None, omdat de grenzen nog niet bestaan -- worden berekend bij fit().\n",
    "\n",
    "    def fit(self, X, y=None):\n",
    "        \"\"\"Bereken de onder- en bovengrenzen per kolom met interkwartielafstand-regel.\"\"\"\n",
    "        self.grenzen_ = {}\n",
    "        for kolom in self.kolommen:\n",
    "            Q1 = X[kolom].quantile(0.25)\n",
    "            Q3 = X[kolom].quantile(0.75)\n",
    "            IKR = Q3 - Q1 \n",
    "            ondergrens = Q1 - 1.5 * IKR\n",
    "            bovengrens = Q3 + 1.5 * IKR\n",
    "            self.grenzen_[kolom] = (ondergrens, bovengrens)\n",
    "        return self \n",
    "    \n",
    "    def transform(self, X):\n",
    "        \"\"\"Winsoriseer uitschieters: vervang alle waardes buiten de grenzen met de dichtstbijzijnde grenswaarde.\"\"\"\n",
    "        X = X.copy() # Kopie maken van data \n",
    "        for kolom, (ondergrens, bovengrens) in self.grenzen_.items():\n",
    "            X.loc[X[kolom] < ondergrens, kolom] = ondergrens \n",
    "            X.loc[X[kolom] > bovengrens, kolom] = bovengrens \n",
    "        return X"
   ]
  },
  {
   "cell_type": "code",
   "execution_count": 7,
   "id": "a4b509f2",
   "metadata": {},
   "outputs": [],
   "source": [
    "def nieuwe_features(X):\n",
    "    X = X.copy()\n",
    "    df['energy_dance'] = df['energy'] * df['danceability']\n",
    "    df['tempo_loudness'] = df['tempo'] * df['loudness']\n",
    "    df['valence_energy'] = df['audio_valence'] * df['energy']\n",
    "    df['acoustic_energy_ratio'] = df['acousticness'] / (df['energy'] + 0.001)\n",
    "    df['duration_min'] = df['song_duration_ms'] / 60000\n",
    "    return X\n",
    "\n",
    "feature_engineering = FunctionTransformer(nieuwe_features, validate=False)"
   ]
  },
  {
   "cell_type": "code",
   "execution_count": 8,
   "id": "970024d4",
   "metadata": {},
   "outputs": [],
   "source": [
    "# Kolommen indelen\n",
    "kolommen_winsoriseren = ['song_duration_ms', 'loudness', 'tempo', 'time_signature']\n",
    "categorische_kolommen = ['key', 'audio_mode']\n",
    "\n",
    "#Alle nummerieke kolommen behalve target\n",
    "numerieke_kolommen = X.select_dtypes(include=['int64', 'float64'])\n",
    "overige_kolommen = [\n",
    "    c for c in numerieke_kolommen \n",
    "    if c not in kolommen_winsoriseren + categorische_kolommen\n",
    "]"
   ]
  },
  {
   "cell_type": "code",
   "execution_count": 9,
   "id": "38095c30",
   "metadata": {},
   "outputs": [],
   "source": [
    "# Preprocessing\n",
    "\n",
    "preprocessor = ColumnTransformer([\n",
    "    ('winsor_scale', Pipeline ([\n",
    "        ('winsor', Winsorizer(kolommen=kolommen_winsoriseren)),\n",
    "        ('scaler', StandardScaler())\n",
    "    ]), kolommen_winsoriseren),\n",
    "\n",
    "    ('scale_rest', StandardScaler(), overige_kolommen),\n",
    "\n",
    "    ('onehot', OneHotEncoder(drop='first', sparse_output=False), categorische_kolommen) # sparse_output = False zorgt ervoor dat de output een gewone DataFrame-array is, nodig voor lineaire regressie.\n",
    "])"
   ]
  },
  {
   "cell_type": "code",
   "execution_count": 10,
   "id": "7ea04ccb",
   "metadata": {},
   "outputs": [],
   "source": [
    "pipeline = Pipeline([\n",
    "    ('feature_creation', feature_engineering),\n",
    "    ('preprocess', preprocessor),\n",
    "    ('model', LinearRegression())\n",
    "])"
   ]
  },
  {
   "cell_type": "code",
   "execution_count": 11,
   "id": "4c3f6e57",
   "metadata": {},
   "outputs": [],
   "source": [
    "# Train en test set maken \n",
    "X_train, X_test, y_train, y_test = train_test_split(\n",
    "   X, y, test_size=0.2, random_state = 42\n",
    ")"
   ]
  },
  {
   "cell_type": "code",
   "execution_count": 12,
   "id": "33ab262e",
   "metadata": {},
   "outputs": [
    {
     "name": "stdout",
     "output_type": "stream",
     "text": [
      "R²: 0.026\n",
      "MSE: 414.369\n"
     ]
    }
   ],
   "source": [
    "# Trainen en evalueren \n",
    "pipeline.fit(X_train, y_train)\n",
    "y_pred = pipeline.predict(X_test)\n",
    "\n",
    "print(f'R²: {r2_score(y_test, y_pred):.3f}')\n",
    "print(f'MSE: {mean_squared_error(y_test, y_pred):.3f}')"
   ]
  }
 ],
 "metadata": {
  "kernelspec": {
   "display_name": ".venv (3.13.3)",
   "language": "python",
   "name": "python3"
  },
  "language_info": {
   "codemirror_mode": {
    "name": "ipython",
    "version": 3
   },
   "file_extension": ".py",
   "mimetype": "text/x-python",
   "name": "python",
   "nbconvert_exporter": "python",
   "pygments_lexer": "ipython3",
   "version": "3.13.3"
  }
 },
 "nbformat": 4,
 "nbformat_minor": 5
}
