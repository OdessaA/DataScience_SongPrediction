{
 "cells": [
  {
   "cell_type": "markdown",
   "id": "0ba0bdd7",
   "metadata": {},
   "source": [
    "https://www.kaggle.com/datasets/yasserh/song-popularity-dataset\n",
    "\n",
    "https://developer.spotify.com/documentation/web-api/reference/get-audio-analysis"
   ]
  },
  {
   "cell_type": "markdown",
   "id": "66e9c977",
   "metadata": {},
   "source": [
    "Vragen: \n",
    "- Moet je bij data dictionary range, specifiek alle waardes vd dataset neerzetten (bv 0.00107 - 0.999), of 0.0 - 1.0 van spotify api documentatie \n",
    "- Wat zijn keys en default values? \n",
    "- Moet nullable ook in de dictionary als je geen nulwaardes hebt?\n",
    "- MLC: hoe gedetailleerd moet de MLC worden?\n",
    "\n",
    "- MLC: Value proposition, wat word er bedoeld met \"workflow/interfaces\"?  Hoeft niet\n",
    "\n",
    "\n",
    "\n",
    "\n",
    "\n",
    "class winsorising maken en in pipeline zetten \n",
    "aparte data understanding notebook maken \n",
    "\n",
    "feature engineering "
   ]
  },
  {
   "cell_type": "markdown",
   "id": "790cf89c",
   "metadata": {},
   "source": []
  },
  {
   "cell_type": "code",
   "execution_count": null,
   "id": "db84c328",
   "metadata": {},
   "outputs": [],
   "source": [
    "# Selecting column optie 1 \n",
    "song_name = df['song_name']\n",
    "# Selecting column optie 2\n",
    "song_name = df.song_name\n",
    "print(song_name)"
   ]
  },
  {
   "cell_type": "markdown",
   "id": "b46182cf",
   "metadata": {},
   "source": [
    "In pandas Series of NumPy Arrays gebruik je: \n",
    "| -> or \n",
    "& -> and \n",
    "~ -> not \n"
   ]
  }
 ],
 "metadata": {
  "kernelspec": {
   "display_name": ".venv (3.13.3)",
   "language": "python",
   "name": "python3"
  },
  "language_info": {
   "name": "python",
   "version": "3.13.3"
  }
 },
 "nbformat": 4,
 "nbformat_minor": 5
}
