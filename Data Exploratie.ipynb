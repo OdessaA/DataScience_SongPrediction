{
 "cells": [
  {
   "cell_type": "markdown",
   "id": "642690fe",
   "metadata": {},
   "source": [
    "# Data Exploratie notebook"
   ]
  },
  {
   "cell_type": "markdown",
   "id": "5067e796",
   "metadata": {},
   "source": [
    "# Index\n",
    "- 1. [Phase 1: Business Understanding](#1-business-understanding)\n",
    "- 2. [Phase 2: Data Understanding](#data-understanding)\n",
    "    - 2.1 [2.1 Basis analyse](#basis-anaylyse)\n",
    "    - 2.2 [Skewness](#skewness)\n",
    "    - 2.3 [Grafieken](#grafieken)\n",
    "    - 2.4 [Correlaties en Scatter Matrix](#correlaties-scatter)\n",
    "- 3. [Phase 3: Data Preparation](#data-prep)\n",
    "    - 3.1 [Afwijkingen uit fase 2 onderzoeken en oplossen](#afwijkingen)\n",
    "    - 3.2 [Keys feature](#keys-feature)\n",
    "    - 3.3 [Uitschieters detecteren](#uitschieters)\n",
    "    - 3.4 [Feature Engineering](#feature-eng)"
   ]
  },
  {
   "cell_type": "markdown",
   "id": "5a772ddc",
   "metadata": {},
   "source": [
    "<a id=\"business-understanding\"></a>\n",
    "# Phase 1: Business Understanding"
   ]
  },
  {
   "cell_type": "markdown",
   "id": "3f84e867",
   "metadata": {},
   "source": [
    "Het doel van dit model is om te testen of populariteit van een nummer \n",
    "<br>\n",
    "voorspelt kan worden met lineaire regressie o.b.v de audio-features \n",
    "<br>\n",
    "in deze dataset. "
   ]
  },
  {
   "cell_type": "markdown",
   "id": "5c77f14f",
   "metadata": {},
   "source": [
    "<a id=\"data-understanding\"></a>\n",
    "# Phase 2: Data Understanding\n",
    "\n",
    "Alle afwijkingen uit deze fase worden verder onderzocht in de derde fase. "
   ]
  },
  {
   "cell_type": "code",
   "execution_count": null,
   "id": "06bd96e7",
   "metadata": {},
   "outputs": [],
   "source": [
    "# Modules importeren\n",
    "import pandas as pd\n",
    "from pandas.plotting import scatter_matrix\n",
    "import matplotlib.pyplot as plt\n",
    "import seaborn as sns \n",
    "import numpy as np\n",
    "from sklearn.preprocessing import StandardScaler, OneHotEncoder\n",
    "from sklearn.pipeline import Pipeline\n",
    "from sklearn.linear_model import LinearRegression\n",
    "from sklearn.model_selection import train_test_split\n",
    "from sklearn.metrics import mean_squared_error, r2_score\n",
    "from sklearn.compose import ColumnTransformer\n",
    "from sklearn.preprocessing import PowerTransformer"
   ]
  },
  {
   "cell_type": "code",
   "execution_count": null,
   "id": "78a6dd31",
   "metadata": {},
   "outputs": [],
   "source": [
    "df = pd.read_csv(\"/Users/odessa/Desktop/Applied Data Science & AI/Data Science/Code Inleiding data science/song_data.csv\") # Dataset importeren "
   ]
  },
  {
   "cell_type": "markdown",
   "id": "21a59a63",
   "metadata": {},
   "source": [
    "<a id=\"basis-anaylyse\"></a>\n",
    "## 2.1 Basis analyse"
   ]
  },
  {
   "cell_type": "code",
   "execution_count": null,
   "id": "149e42ac",
   "metadata": {},
   "outputs": [],
   "source": [
    "display(df.head()) # eerste 5 rijen van de dataset weergeven"
   ]
  },
  {
   "cell_type": "code",
   "execution_count": null,
   "id": "e5285e5c",
   "metadata": {},
   "outputs": [],
   "source": [
    "df.shape # rijen en kolommen tellen\n",
    "print(f\"De dataset bevat {df.shape[0]} rijen en {df.shape[1]} kolommen.\")"
   ]
  },
  {
   "cell_type": "code",
   "execution_count": null,
   "id": "3a4a2932",
   "metadata": {},
   "outputs": [],
   "source": [
    "df.info() # dtypes en null waarden bekijken"
   ]
  },
  {
   "cell_type": "code",
   "execution_count": null,
   "id": "9bb92475",
   "metadata": {},
   "outputs": [],
   "source": [
    "df.describe().T # Statistiche informatie weergeven over numerieke kolommen"
   ]
  },
  {
   "cell_type": "markdown",
   "id": "1eeac2e2",
   "metadata": {},
   "source": [
    "### Observatie statistische informatie\n",
    "Time_signature minimum = 0, kan niet volgens spotify API\n",
    "<br>\n",
    "Tempo minimum = 0, kan eigenlijk niet \n",
    "<br>\n",
    "Deze punten worden aangepakt in fase 3 \n",
    "<br>\n",
    "audio_valence = 0, danceability = 0. Kan, maar even checken "
   ]
  },
  {
   "cell_type": "markdown",
   "id": "882c744e",
   "metadata": {},
   "source": [
    "### Dubbele waardes bekijken"
   ]
  },
  {
   "cell_type": "code",
   "execution_count": null,
   "id": "8afe7ef4",
   "metadata": {},
   "outputs": [],
   "source": [
    "dubbel = pd.DataFrame({\n",
    "    'Aantal dubbele waarden': [df[col].duplicated().sum() for col in df.columns],\n",
    "    'Percentage dubbele waarden (%)': [\n",
    "        round(df[col].duplicated().mean() * 100, 2) for col in df.columns\n",
    "    ]\n",
    "}, index=df.columns)\n",
    "dubbel = dubbel.sort_values(by='Percentage dubbele waarden (%)', ascending=True)\n",
    "print(dubbel)"
   ]
  },
  {
   "cell_type": "markdown",
   "id": "6e3c4d54",
   "metadata": {},
   "source": [
    "### Observaties basis analyse \n",
    "Er zijn geen missende waardes. \n",
    "<br>\n",
    "Alle features behalve song_name hebben numerieke waardes.\n",
    "<br>\n",
    "Er zijn veel dubbele waardes. Bij sommige kolommen is dit logisch (key, audio_mode, time_signature, song_popularity), bij anderen mogelijk onlogisch. \n"
   ]
  },
  {
   "cell_type": "markdown",
   "id": "a0b9a4f9",
   "metadata": {},
   "source": [
    "## 2.2 Correlatie heatmap originele features"
   ]
  },
  {
   "cell_type": "code",
   "execution_count": null,
   "id": "6f4f8705",
   "metadata": {},
   "outputs": [],
   "source": [
    "df_num = df.select_dtypes(include=['number']).copy() # Dataframe maken met alleen numerieke kolommen"
   ]
  },
  {
   "cell_type": "code",
   "execution_count": null,
   "id": "5e7e5737",
   "metadata": {},
   "outputs": [],
   "source": [
    "corr = df_num.corr()\n",
    "\n",
    "n = len(corr.columns)\n",
    "scale = 0.7   # pas aan om de grootte van de vakjes te wijzigen\n",
    "size = min(14, n * scale)\n",
    "\n",
    "f, ax = plt.subplots(figsize=(size, size))\n",
    "\n",
    "# Masker voor bovenste helft\n",
    "mask = np.zeros_like(corr)\n",
    "mask[np.triu_indices_from(mask)] = True\n",
    "\n",
    "# Tekstgrootte voor annotaties\n",
    "annot_size = max(6, 14 - n // 2)\n",
    "\n",
    "sns.heatmap(\n",
    "    corr,\n",
    "    annot=True,\n",
    "    fmt=\".2f\",\n",
    "    cmap=\"Reds\",\n",
    "    linewidths=0.4,\n",
    "    mask=mask,\n",
    "    square=True,\n",
    "    annot_kws={\"size\": annot_size},\n",
    "    cbar_kws={\"shrink\": 0.6, \"aspect\": 30}  # <<< colorbar smaller maken\n",
    ")\n",
    "\n",
    "plt.xticks(rotation=45, ha=\"right\")\n",
    "plt.yticks(rotation=0)\n",
    "plt.tight_layout()\n",
    "plt.savefig('corrplot.png', dpi=600)\n",
    "plt.show()"
   ]
  },
  {
   "cell_type": "markdown",
   "id": "730460df",
   "metadata": {},
   "source": [
    "## 2.3 Distributies originele features "
   ]
  },
  {
   "cell_type": "code",
   "execution_count": null,
   "id": "2fa45ced",
   "metadata": {},
   "outputs": [],
   "source": [
    "# Histogrammen van originele dataframe\n",
    "df_num.hist(figsize=(15,12), bins=30)\n",
    "plt.title(\"Distributie van numerieke featrures\")\n",
    "plt.tight_layout\n",
    "plt.show()"
   ]
  },
  {
   "cell_type": "markdown",
   "id": "e243027c",
   "metadata": {},
   "source": [
    "### Observatie histogrammen originele df \n",
    "right skewed: song_duration_ms, acousticness, liveness, speechiness \n",
    "<br>\n",
    "left skewed: danceability, tempo \n",
    "<br>\n",
    "Discrete features: audio_mode, time_signature, key(cyclisch)\n",
    "<br>\n",
    "Continue features: alle andere features\n",
    "<br>\n",
    "Skewness komt overeen met skewness berekeningen"
   ]
  },
  {
   "cell_type": "code",
   "execution_count": null,
   "id": "e92647fa",
   "metadata": {},
   "outputs": [],
   "source": [
    "# Plot popularity distribution\n",
    "plt.hist(df[\"song_popularity\"], bins=20, color=\"skyblue\", edgecolor=\"black\")\n",
    "plt.title(\"Populariteit Distributie\")\n",
    "plt.xlabel(\"Popularity (0-100)\")\n",
    "plt.ylabel(\"Aantal songs\")\n",
    "plt.show()"
   ]
  },
  {
   "cell_type": "markdown",
   "id": "8756460b",
   "metadata": {},
   "source": [
    "### Observatie populariteit distributie\n",
    "Piek tussen 50 en 75."
   ]
  },
  {
   "cell_type": "markdown",
   "id": "aa0f9704",
   "metadata": {},
   "source": [
    "## 2.4 Feature Engineering"
   ]
  },
  {
   "cell_type": "code",
   "execution_count": null,
   "id": "6f3033a6",
   "metadata": {},
   "outputs": [],
   "source": [
    "def nieuwe_features(df):\n",
    "    df = df.copy()\n",
    "    df['valence_dance'] = df['audio_valence'] * df['danceability']\n",
    "    \n",
    "    # Ratio features\n",
    "    df['acoustic_dance_ratio'] = df['acousticness'] / (df['danceability'] + 0.001)\n",
    "    df['duration_energy_ratio'] = df['song_duration_ms'] / (df['energy'] + 0.001)\n",
    "    \n",
    "    return df"
   ]
  },
  {
   "cell_type": "markdown",
   "id": "b039f9be",
   "metadata": {},
   "source": [
    "## 2.5 Distributies nieuwe features "
   ]
  },
  {
   "cell_type": "code",
   "execution_count": null,
   "id": "35e968b2",
   "metadata": {},
   "outputs": [],
   "source": [
    "df_num_features = nieuwe_features(df_num.copy())\n",
    "\n",
    "new_cols = [c for c in df_num_features.columns if c not in df_num.columns]\n",
    "print(\"New features added:\\n\", new_cols)\n",
    "\n",
    "df_explore = df_num_features.copy()\n",
    "df_explore['song_popularity'] = df['song_popularity']\n",
    "\n",
    "df_num_features[new_cols].hist(figsize=(9,7), bins=30)\n",
    "plt.suptitle(\"Histogrammen nieuwe features\", fontsize=16)\n",
    "plt.tight_layout()\n",
    "plt.show()"
   ]
  },
  {
   "cell_type": "markdown",
   "id": "305c819e",
   "metadata": {},
   "source": [
    "### Observatie histogrammen nieuwe features\n",
    "rechts-scheef: acoustic_dance_ratio en duration_energy_ratio"
   ]
  },
  {
   "cell_type": "markdown",
   "id": "0c2a92a6",
   "metadata": {},
   "source": [
    "## Mutual information nieuwe features "
   ]
  },
  {
   "cell_type": "code",
   "execution_count": null,
   "id": "fa9ffae5",
   "metadata": {},
   "outputs": [],
   "source": [
    "from sklearn.feature_selection import mutual_info_regression\n",
    "X = df_explore[new_cols]\n",
    "y = df_explore['song_popularity']\n",
    "\n",
    "mi_scores = mutual_info_regression(X, y, random_state=42)\n",
    "\n",
    "mi_df = pd.DataFrame({'Feature': new_cols, 'Mutual Information': mi_scores})\n",
    "mi_df.sort_values(by='Mutual Information', ascending=False, inplace=True)\n",
    "\n",
    "print(\"\\nMutual Information Scores (niet-lineaire feature relevantie):\\n\")\n",
    "display(mi_df)\n",
    "\n",
    "threshold = 0.02\n",
    "selected_features = mi_df.loc[mi_df['Mutual Information'] > threshold, 'Feature'].tolist()"
   ]
  },
  {
   "cell_type": "markdown",
   "id": "dc7d59df",
   "metadata": {},
   "source": [
    "<a id=\"skewness\"></a>\n",
    "## 2.6 Skewness"
   ]
  },
  {
   "cell_type": "markdown",
   "id": "7ae9eea8",
   "metadata": {},
   "source": [
    "https://samawat-ai.medium.com/skewness-and-kurtosis-c571fc4e0c0f"
   ]
  },
  {
   "cell_type": "code",
   "execution_count": null,
   "id": "1b7b9d69",
   "metadata": {},
   "outputs": [],
   "source": [
    "from scipy.stats import skew \n",
    "from scipy.stats import kurtosis"
   ]
  },
  {
   "cell_type": "code",
   "execution_count": null,
   "id": "61afad81",
   "metadata": {},
   "outputs": [],
   "source": [
    "# Functie Skewness en kurtosis berekenen en highlighten van hoog scheef, matig scheef en redelijk symmetrisch \n",
    "def skewness_kurtosis(df):\n",
    "    skewness = df.skew(numeric_only=True)\n",
    "    kurtosis = df.kurt(numeric_only=True)\n",
    "\n",
    "    stats_skew_kurt = pd.DataFrame({\n",
    "        'skewness': skewness,\n",
    "        'kurtosis': kurtosis\n",
    "    })\n",
    "\n",
    "    def highlighter(rij):\n",
    "        skew = rij['skewness']\n",
    "        color = ''\n",
    "        if skew > 1 or skew < -1: # Hoge scheefheid (groter dan 1 of kleiner dan -1) kleur = rood \n",
    "            color = 'background-color: red; color: black;'\n",
    "        elif 0.5 < abs(skew) <=1: # Matige scheefheid (scheefheid tussen -1 en -0.5 of tussen 0.5 en 1) kleur = blauw \n",
    "            color = 'background-color: #336df5; color: black;'\n",
    "        elif abs(skew) <= 0.5: # Redelijk symmetrische distributie (scheefheid tussen -0.5 en 0.5) geen highlight\n",
    "            color = 'color: white;'\n",
    "        return ['' if c != 'skewness' else color for c in stats_skew_kurt.columns]\n",
    "    \n",
    "    styled = stats_skew_kurt.style.apply(highlighter, axis=1)\n",
    "    display(styled)\n",
    "    return stats_skew_kurt"
   ]
  },
  {
   "cell_type": "code",
   "execution_count": null,
   "id": "a824a83f",
   "metadata": {},
   "outputs": [],
   "source": [
    "df_num = nieuwe_features(df_num)"
   ]
  },
  {
   "cell_type": "markdown",
   "id": "005ae8cf",
   "metadata": {},
   "source": [
    "### Skewness originele + engineered features"
   ]
  },
  {
   "cell_type": "code",
   "execution_count": null,
   "id": "2c345def",
   "metadata": {},
   "outputs": [],
   "source": [
    "stats = skewness_kurtosis(df_num)\n",
    "skewed_cols = stats.loc[stats['skewness'].abs() > 1].index.tolist()\n",
    "print(\"Sterk scheve kolommen:\", skewed_cols)"
   ]
  },
  {
   "cell_type": "markdown",
   "id": "6ca99609",
   "metadata": {},
   "source": [
    "### Observatie skewness originele en nieuwe features \n",
    "originele features: 'song_duration_ms', 'acousticness', 'instrumentalness', 'liveness', 'loudness', 'speechiness', 'time_signature' zijn scheef verdeeld. \n",
    "<br>\n",
    "rechts scheef: song_duration_ms, acousticness, liveness, speechiness -> log transformatie\n",
    "<br>\n",
    "links scheef : danceability, tempo -> yeo johnson transformatie \n",
    "<br>\n",
    "nieuwe features: 'acoustic_dance_ratio' en 'duration_energy_ratio' zijn rechts scheef. -> log transformatie gebruiken "
   ]
  },
  {
   "cell_type": "code",
   "execution_count": null,
   "id": "69d3f649",
   "metadata": {},
   "outputs": [],
   "source": [
    "cat_cols = ['key', 'audio_mode', 'time_signature']\n",
    "num_cols = df_num.drop(columns=cat_cols).columns"
   ]
  },
  {
   "cell_type": "markdown",
   "id": "c4a13caa",
   "metadata": {},
   "source": [
    "<a id=\"correlaties-scatter\"></a>\n",
    "## Correlaties en Scatter Matrix"
   ]
  },
  {
   "cell_type": "markdown",
   "id": "cc4afa05",
   "metadata": {},
   "source": [
    "## 2.7 Correlatie heatmap originele + engineered features "
   ]
  },
  {
   "cell_type": "markdown",
   "id": "d6fb375a",
   "metadata": {},
   "source": [
    "0.00 – 0.30\tnauwelijks of geen correlatie\n",
    "<br>\n",
    "0.30 – 0.50\tlage of zwakke correlatie\n",
    "<br>\n",
    "0.50 – 0.70\tmiddelmatige correlatie\n",
    "<br>\n",
    "0.70 – 0.90\thoge of sterke correlatie\n",
    "<br>\n",
    "0.90 – 1.00\tzeer hoge of zeer sterke correlatie"
   ]
  },
  {
   "cell_type": "code",
   "execution_count": null,
   "id": "56d226d8",
   "metadata": {},
   "outputs": [],
   "source": [
    "corr = df_num_features.corr()\n",
    "\n",
    "# Schaal en figuurgrootte bepalen\n",
    "n = len(corr.columns)\n",
    "scale = 0.7\n",
    "size = min(14, n * scale)\n",
    "f, ax = plt.subplots(figsize=(size, size))  # gebruik size i.p.v. n*scale voor begrenzing\n",
    "\n",
    "# Masker voor bovenste helft\n",
    "mask = np.zeros_like(corr)\n",
    "mask[np.triu_indices_from(mask)] = True\n",
    "\n",
    "# Lettergrootte aanpassen aan aantal kolommen\n",
    "annot_size = max(6, 16 - n // 2)\n",
    "\n",
    "# Heatmap tekenen\n",
    "sns.heatmap(\n",
    "    corr,\n",
    "    annot=True,\n",
    "    fmt=\".2f\",\n",
    "    cmap=\"Reds\",\n",
    "    linewidths=0.4,\n",
    "    mask=mask,\n",
    "    square=True,\n",
    "    annot_kws={\"size\": annot_size},\n",
    "    cbar_kws={\"shrink\": 0.6, \"aspect\": 30}  # <<< colorbar smaller maken\n",
    ")\n",
    "\n",
    "# Titel, assen en layout\n",
    "plt.title(\"Correlatie heatmap met nieuwe features\", fontsize=16)\n",
    "plt.xticks(rotation=45, ha='right')\n",
    "plt.yticks(rotation=0)\n",
    "plt.tight_layout()\n",
    "plt.show()"
   ]
  },
  {
   "cell_type": "markdown",
   "id": "d4aae393",
   "metadata": {},
   "source": [
    "  danceability heeft de hoogste correlatie met song_popularity \n",
    " <br>\n",
    " energy en acousticness hebben een redelijk sterke negatieve correlatie: -0.68\n",
    " <br>\n",
    " loudness en acousticness hebben een negatieve correlatie: -0.57 \n",
    " <br>\n",
    " loudness en instrumentalness hebben een negatieve correlatie: -0.4\n",
    " <br>\n",
    "loudness en energy hebben een sterke positieve correlatie: 0.77"
   ]
  },
  {
   "cell_type": "markdown",
   "id": "20507ccf",
   "metadata": {},
   "source": [
    "## 2.8 Scatter matrix "
   ]
  },
  {
   "cell_type": "code",
   "execution_count": null,
   "id": "781ffb78",
   "metadata": {},
   "outputs": [],
   "source": [
    "attributes = ['song_popularity', 'danceability', 'loudness', 'instrumentalness']\n",
    "scatter_matrix(df[attributes], figsize=(12, 8))\n",
    "plt.show()"
   ]
  },
  {
   "cell_type": "markdown",
   "id": "5e76141c",
   "metadata": {},
   "source": [
    "### Observatie correlatie heatmap en scatter matrices\n",
    "De feature met de hoogste correlatie met song_popularity is danceability. \n",
    "<br>\n",
    "Deze correlatie is 0.1. Erg laag "
   ]
  },
  {
   "cell_type": "markdown",
   "id": "2e6aad5c",
   "metadata": {},
   "source": [
    "<a id=\"data-prep\"></a>\n",
    "# Phase 3: Data Preparation\n",
    "\n",
    "Afwijkingen fase 2 onderzoeken en data klaar maken voor training"
   ]
  },
  {
   "cell_type": "markdown",
   "id": "e0d1d3ba",
   "metadata": {},
   "source": [
    "#### Rijen waar zowel song_name als song_duration_ms dubbel zijn droppen "
   ]
  },
  {
   "cell_type": "code",
   "execution_count": null,
   "id": "ae045ed1",
   "metadata": {},
   "outputs": [],
   "source": [
    "print(f\"Totaal aantal waardes in de dataframe vóór het verwijderen van dubbele waardes uit song_name en song_duration_ms: {len(df)}\")\n",
    "\n",
    "# Dubbele waardes droppen van song_name en song_duration \n",
    "# Als ik alleen song_name duplicates zou verwijderen, zou ik misschien covers van nummers verwijderen, dus daarom check ik ook de song_duration \n",
    "df.drop_duplicates(subset=['song_name', 'song_duration_ms'], inplace = True)\n",
    "print(f\"Totaal aantal waardes in de dataframe na verwijderen van dubbele waardes uit song_name en song_duration_ms: {len(df)}\")"
   ]
  },
  {
   "cell_type": "code",
   "execution_count": null,
   "id": "a500a9ff",
   "metadata": {},
   "outputs": [],
   "source": [
    "df_num_cleaned = df.select_dtypes(include=['number']).copy()"
   ]
  },
  {
   "cell_type": "markdown",
   "id": "02625e06",
   "metadata": {},
   "source": [
    "#### Time signature"
   ]
  },
  {
   "cell_type": "code",
   "execution_count": null,
   "id": "4f34c82f",
   "metadata": {},
   "outputs": [],
   "source": [
    "df_num_cleaned[\"time_signature\"].value_counts()"
   ]
  },
  {
   "cell_type": "markdown",
   "id": "d587dbc4",
   "metadata": {},
   "source": [
    "time_signature gaat van 3 tot 7 volgens de Spotify API. \n",
    "<br>\n",
    "Waardes van 1 en 0 zijn foute waardes. "
   ]
  },
  {
   "cell_type": "code",
   "execution_count": null,
   "id": "9300ddc7",
   "metadata": {},
   "outputs": [],
   "source": [
    "# Indexen van time_signature == 0 \n",
    "time_sig_is_zero = df_num_cleaned[df_num_cleaned['time_signature'] == 0]\n",
    "\n",
    "# Indexen van time_signature == 1\n",
    "time_sig_is_one = df_num_cleaned[df_num_cleaned['time_signature'] == 1]\n",
    "\n",
    "# Dataframe maken van time_signatures 0 en 1 \n",
    "df_time_signature_0_1 = pd.concat([time_sig_is_zero, time_sig_is_one])\n",
    "\n",
    "# Statistische berekeningen zien van waardes met time signatures van 0 en 1 \n",
    "display(df_time_signature_0_1.describe()) "
   ]
  },
  {
   "cell_type": "markdown",
   "id": "b07bcc11",
   "metadata": {},
   "source": [
    "Omdat meerdere waardes afwijken: tempo, audio_valence, time_signature, speechiness, instrumentalness, danceability en song_popularity hebben allemaal een minimum van 0.0.\n",
    "<br>\n",
    "Bij sommige features zou een minimum van 0.0 theoretisch kunnen, maar de kans dat tempo een 0.0 minimum heeft kan bijvoorbeeld eigenlijk niet, want een liedje kan niet geen tempo hebben. \n",
    "<br>\n",
    "Omdat er in totaal maar 66 rijen zijn met een time_signature van 1 of 0, heb ik ervoor gekozen om deze rijen allemaal te droppen. "
   ]
  },
  {
   "cell_type": "code",
   "execution_count": null,
   "id": "845a97d4",
   "metadata": {},
   "outputs": [],
   "source": [
    "df = df[df['time_signature'] > 1]\n",
    "df_num = df_num[df_num['time_signature'] > 1]\n",
    "df_num_cleaned = df_num_cleaned[df_num_cleaned['time_signature'] > 1]"
   ]
  },
  {
   "cell_type": "markdown",
   "id": "ba330e58",
   "metadata": {},
   "source": [
    "#### Tempo "
   ]
  },
  {
   "cell_type": "code",
   "execution_count": null,
   "id": "bbf8cb33",
   "metadata": {},
   "outputs": [],
   "source": [
    "# Nummers met een tempo van 0. \n",
    "nul_tempo = df_num_cleaned.loc[df_num_cleaned['tempo'] == 0, ['tempo', 'song_popularity']]\n",
    "print(f'Nummers met een tempo van 0: {nul_tempo}')\n",
    "\n",
    "# Tempo == 0 is opgelost na verwijderen nummers"
   ]
  },
  {
   "cell_type": "markdown",
   "id": "8aaf6b78",
   "metadata": {},
   "source": [
    "#### Danceability "
   ]
  },
  {
   "cell_type": "code",
   "execution_count": null,
   "id": "3352c940",
   "metadata": {},
   "outputs": [],
   "source": [
    "df_num_cleaned['danceability'].value_counts()"
   ]
  },
  {
   "attachments": {
    "image.png": {
     "image/png": "[encoded data removed]"
    }
   },
   "cell_type": "markdown",
   "id": "1d54afea",
   "metadata": {},
   "source": [
    "<a id=\"keys-feature\"></a>\n",
    "### Keys feature\n",
    "\n",
    "![image.png](attachment:image.png)\n",
    "\n",
    "Dit is circulair: 12 en 0 zijn dezelfde toonsoort. \n",
    "\n",
    "0 (C) en 11 (B)  liggen numeriek ver uit elkaar, maar muzikaal liggen ze recht naast elkaar \n"
   ]
  },
  {
   "cell_type": "markdown",
   "id": "253cfd2f",
   "metadata": {},
   "source": [
    "https://towardsdatascience.com/cyclical-encoding-an-alternative-to-one-hot-encoding-for-time-series-features-4db46248ebba/"
   ]
  },
  {
   "cell_type": "markdown",
   "id": "4395b6f3",
   "metadata": {},
   "source": [
    "https://medium.com/@axelazara6/why-we-need-encoding-cyclical-features-79ecc3531232"
   ]
  },
  {
   "cell_type": "code",
   "execution_count": null,
   "id": "a8e5adf7",
   "metadata": {},
   "outputs": [],
   "source": [
    "# Plotten van key met sample van de eerste 60 data \n",
    "sample = df_num_cleaned[:60]\n",
    "ax = sample['key'].plot()"
   ]
  },
  {
   "cell_type": "code",
   "execution_count": null,
   "id": "2d0b57f4",
   "metadata": {},
   "outputs": [],
   "source": [
    "# Handmatig cyclisch encoden \n",
    "df_num_cleaned['key_sin'] = np.sin(2*np.pi*df['key']/12)\n",
    "df_num_cleaned['key_cos'] = np.cos(2*np.pi*df['key']/12)"
   ]
  },
  {
   "cell_type": "code",
   "execution_count": null,
   "id": "2a1a5219",
   "metadata": {},
   "outputs": [],
   "source": [
    "# Plotten van key met eerste 60 data na cyclisch encoden. \n",
    "sample = df_num_cleaned[:60]\n",
    "ax = sample['key_sin'].plot()"
   ]
  },
  {
   "cell_type": "markdown",
   "id": "48a4e7e9",
   "metadata": {},
   "source": [
    "De schaal is veranderd naar -1 tot +1 "
   ]
  },
  {
   "cell_type": "code",
   "execution_count": null,
   "id": "d73d40c3",
   "metadata": {},
   "outputs": [],
   "source": [
    "# Plot twee dimensioneel perspectief \n",
    "ax = df_num_cleaned.plot.scatter('key_sin', 'key_cos').set_aspect('equal')"
   ]
  },
  {
   "cell_type": "markdown",
   "id": "8d6b9acb",
   "metadata": {},
   "source": [
    "<a id=\"uitschieters\"></a>\n",
    "## Uitschieters detecteren en verwijderen"
   ]
  },
  {
   "cell_type": "code",
   "execution_count": null,
   "id": "dfe365b7",
   "metadata": {},
   "outputs": [],
   "source": [
    "def uitschieters(df):\n",
    "    \"\"\" Markeert uitschieters.\"\"\"\n",
    "\n",
    "    df = df.copy()\n",
    "    df_outliers = pd.DataFrame(index=df.index)\n",
    "\n",
    "    # song_duration_ms — <30 sec of >20 min (vind ik te onwaarschijnlijk dat het dan een liedje is)\n",
    "    df_outliers['song_duration_ms'] = (\n",
    "        (df['song_duration_ms'] < 30_000) | \n",
    "        (df['song_duration_ms'] > 1_200_000)\n",
    "    )\n",
    "\n",
    "    # tempo — 30–250 BPM (o.b.v https://en.wikipedia.org/wiki/Tempo))\n",
    "    df_outliers['tempo'] = (df['tempo'] < 30) | (df['tempo'] > 250)\n",
    "\n",
    "    # loudness — normaal tussen -60 en 0 dB\n",
    "    df_outliers['loudness'] = (df['loudness'] < -60) | (df['loudness'] > 0)\n",
    "\n",
    "    # features met een range van 0-1 volgens Spotify API\n",
    "    for col in ['danceability', 'energy', 'audio_valence', 'instrumentalness', 'liveness', 'speechiness']:\n",
    "        if col in df.columns:\n",
    "            df_outliers[col] = (df[col] < 0) | (df[col] > 1)\n",
    "\n",
    "    # time_signature — meestal 3, 4 of 5\n",
    "    if 'time_signature' in df.columns:\n",
    "        df_outliers['time_signature'] = ~df['time_signature'].isin([3, 4, 5])\n",
    "\n",
    "    # Samenvattende indicator: True als een rij minstens één outlier heeft\n",
    "    df['is_uitschieter'] = df_outliers.any(axis=1)\n",
    "\n",
    "    return df, df_outliers"
   ]
  },
  {
   "cell_type": "code",
   "execution_count": null,
   "id": "f122ddee",
   "metadata": {},
   "outputs": [],
   "source": [
    "df_num_cleaned, df_outliers = uitschieters(df)\n",
    "outlier_telling = df_outliers.sum().sort_values(ascending=False)\n",
    "print(outlier_telling)"
   ]
  },
  {
   "cell_type": "code",
   "execution_count": null,
   "id": "3cd3b8e1",
   "metadata": {},
   "outputs": [],
   "source": [
    "aantal_verwijderd = df_num_cleaned['is_uitschieter'].sum()\n",
    "percentage_verwijderd = df_num_cleaned['is_uitschieter'].mean() * 100"
   ]
  },
  {
   "cell_type": "code",
   "execution_count": null,
   "id": "9c866e55",
   "metadata": {},
   "outputs": [],
   "source": [
    "df_num_cleaned = df_num_cleaned[~df_num_cleaned['is_uitschieter']].copy()"
   ]
  },
  {
   "cell_type": "code",
   "execution_count": null,
   "id": "2a95decc",
   "metadata": {},
   "outputs": [],
   "source": [
    "print(f\"Verwijderd: {aantal_verwijderd} rijen ({percentage_verwijderd:.2f}%)\")"
   ]
  },
  {
   "cell_type": "code",
   "execution_count": null,
   "id": "c5a00ff5",
   "metadata": {},
   "outputs": [],
   "source": [
    "# is_uitschieter kolom verwijderen na cleaning\n",
    "df_num_cleaned = df_num_cleaned.drop(columns='is_uitschieter')"
   ]
  },
  {
   "cell_type": "markdown",
   "id": "59bc99e6",
   "metadata": {},
   "source": [
    "<a id=\"feature-eng\"></a>\n",
    "### Feature Engineering"
   ]
  },
  {
   "cell_type": "markdown",
   "id": "64a4bdb8",
   "metadata": {},
   "source": [
    "### Scaling"
   ]
  },
  {
   "cell_type": "markdown",
   "id": "1bad386b",
   "metadata": {},
   "source": [
    "Log-transformatie: song_duration_ms, acousticness, liveness, speechiness, acoustic_dance_ratio en duration_energy_ratio \n",
    "<br>\n",
    "Yeo-johnson: danceability, tempo"
   ]
  },
  {
   "cell_type": "markdown",
   "id": "63cdab3f",
   "metadata": {},
   "source": [
    "### Log transformation"
   ]
  },
  {
   "cell_type": "code",
   "execution_count": null,
   "id": "810948be",
   "metadata": {},
   "outputs": [],
   "source": [
    "stats = skewness_kurtosis(df_num_cleaned)\n",
    "skewed_cols = stats.loc[stats['skewness'].abs() > 1].index.tolist()\n",
    "print(\"Sterk scheve kolommen:\", skewed_cols)"
   ]
  },
  {
   "cell_type": "code",
   "execution_count": null,
   "id": "247d15e7",
   "metadata": {},
   "outputs": [],
   "source": [
    "log_cols = ['song_duration_ms', 'acousticness', 'liveness', 'speechiness', 'acoustic_dance_ratio', 'duration_energy_ratio']\n",
    "\n",
    "# Kleine constante toevoegen om log(0) te vermijden\n",
    "df_log = df_num_cleaned.copy()\n",
    "for col in log_cols:\n",
    "    df_log[col + '_log'] = np.log1p(df_log[col])  # log1p = log(1 + x)"
   ]
  },
  {
   "cell_type": "markdown",
   "id": "3b25ec0d",
   "metadata": {},
   "source": [
    "### Yeo-Johnson transformation"
   ]
  },
  {
   "cell_type": "code",
   "execution_count": null,
   "id": "82d8db74",
   "metadata": {},
   "outputs": [],
   "source": [
    "yeo_cols = ['danceability', 'audio_valence', 'energy', ]\n",
    "df_yeo = df_num_cleaned[yeo_cols]"
   ]
  },
  {
   "cell_type": "code",
   "execution_count": null,
   "id": "33a1cbc5",
   "metadata": {},
   "outputs": [],
   "source": [
    "pt = PowerTransformer(method='yeo-johnson')\n",
    "transformed_data_yeo = pt.fit_transform(df_yeo)\n",
    "transformed_df_yeo = pd.DataFrame(transformed_data_yeo, columns = df_yeo.columns, index=df_yeo.index)"
   ]
  },
  {
   "cell_type": "code",
   "execution_count": null,
   "id": "ccd64a61",
   "metadata": {},
   "outputs": [],
   "source": [
    "scaler = StandardScaler()\n",
    "scaled_data_yeo = scaler.fit_transform(transformed_df_yeo)\n",
    "scaled_df_yeo = pd.DataFrame(scaled_data_yeo, columns=transformed_df_yeo.columns, index=transformed_df_yeo.index)"
   ]
  },
  {
   "cell_type": "code",
   "execution_count": null,
   "id": "861626cd",
   "metadata": {},
   "outputs": [],
   "source": [
    "# Skewness en kurtosis van df_num_cleaned vóór Power transformatie \n",
    "org_cols = ['danceability', 'audio_valence', 'energy']\n",
    "stats_origineel = skewness_kurtosis(df_num_cleaned[org_cols])\n",
    "skewed_cols = stats.loc[stats['skewness'].abs() > 1].index.tolist()\n",
    "print(\"Sterk scheve kolommen:\", skewed_cols)"
   ]
  },
  {
   "cell_type": "code",
   "execution_count": null,
   "id": "a400d375",
   "metadata": {},
   "outputs": [],
   "source": [
    "# Skewness en kurtosis van df na yeo johnson transformatie \n",
    "stats_transformed = skewness_kurtosis(transformed_df_yeo)\n",
    "skewed_cols = stats.loc[stats['skewness'].abs() > 1].index.tolist()\n",
    "print(\"Sterk scheve kolommen:\", skewed_cols)"
   ]
  },
  {
   "cell_type": "markdown",
   "id": "ff3f48bf",
   "metadata": {},
   "source": [
    "Niet meer skewed na yeo johnson transformatie"
   ]
  },
  {
   "cell_type": "code",
   "execution_count": null,
   "id": "ae04f41b",
   "metadata": {},
   "outputs": [],
   "source": [
    "# Transformed + Scaled data histogrammen \n",
    "cols = df_yeo.columns\n",
    "n_cols = 3  # how many plots per row\n",
    "n_rows = int(np.ceil(len(cols) / n_cols))\n",
    "\n",
    "fig, axes = plt.subplots(n_rows, n_cols, figsize=(15, 12))\n",
    "\n",
    "for i, col in enumerate(cols):\n",
    "    r, c = divmod(i, n_cols)\n",
    "    ax = axes[r, c]\n",
    "\n",
    "    # Plot original\n",
    "    ax.hist(df_num_cleaned[col], bins=30, alpha=0.5, label='Original')\n",
    "    # Plot transformed\n",
    "    ax.hist(scaled_df_yeo[col], bins=30, alpha=0.5, label='Transformed+scaled')\n",
    "\n",
    "    ax.set_title(col)\n",
    "    ax.legend()\n",
    "\n",
    "# Hide any unused subplots\n",
    "for j in range(i + 1, n_rows * n_cols):\n",
    "    r, c = divmod(j, n_cols)\n",
    "    axes[r, c].axis('off')\n",
    "\n",
    "plt.tight_layout()\n",
    "plt.show()"
   ]
  },
  {
   "cell_type": "markdown",
   "id": "4ee21e21",
   "metadata": {},
   "source": [
    "dancability, energy, audio valence en mogelijk loudnesss worden beter van yeo johnson transformatie, de rest niet. "
   ]
  }
 ],
 "metadata": {
  "kernelspec": {
   "display_name": ".venv (3.13.3)",
   "language": "python",
   "name": "python3"
  },
  "language_info": {
   "codemirror_mode": {
    "name": "ipython",
    "version": 3
   },
   "file_extension": ".py",
   "mimetype": "text/x-python",
   "name": "python",
   "nbconvert_exporter": "python",
   "pygments_lexer": "ipython3",
   "version": "3.13.3"
  }
 },
 "nbformat": 4,
 "nbformat_minor": 5
}
