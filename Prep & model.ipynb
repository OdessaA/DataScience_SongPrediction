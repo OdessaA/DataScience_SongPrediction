{
 "cells": [
  {
   "cell_type": "markdown",
   "id": "d5ae150c",
   "metadata": {},
   "source": [
    "# Data Preparation, Pipelines & Model "
   ]
  },
  {
   "cell_type": "code",
   "execution_count": 91,
   "id": "ff3be992",
   "metadata": {},
   "outputs": [],
   "source": [
    "# Modules importeren\n",
    "import pandas as pd\n",
    "import numpy as np\n",
    "import matplotlib.pyplot as plt\n",
    "\n",
    "from sklearn.preprocessing import StandardScaler, OneHotEncoder, FunctionTransformer, PowerTransformer\n",
    "from sklearn.pipeline import Pipeline\n",
    "from sklearn.linear_model import LinearRegression\n",
    "from sklearn.model_selection import train_test_split, GridSearchCV, RandomizedSearchCV\n",
    "from sklearn.metrics import r2_score, mean_squared_error, root_mean_squared_error\n",
    "from sklearn.compose import ColumnTransformer\n",
    "from sklearn.base import BaseEstimator, TransformerMixin\n",
    "from sklearn.ensemble import RandomForestRegressor\n",
    "from scipy.stats import randint\n",
    "import joblib"
   ]
  },
  {
   "cell_type": "code",
   "execution_count": 92,
   "id": "e0e3d764",
   "metadata": {},
   "outputs": [],
   "source": [
    "# Dataset importeren \n",
    "df = pd.read_csv(\"/Users/odessa/Desktop/Applied Data Science & AI/Data Science/Code Inleiding data science/song_data.csv\")"
   ]
  },
  {
   "cell_type": "code",
   "execution_count": 93,
   "id": "3915d806",
   "metadata": {},
   "outputs": [],
   "source": [
    "# Target variabele maken \n",
    "target = 'song_popularity'"
   ]
  },
  {
   "cell_type": "markdown",
   "id": "1a787fa6",
   "metadata": {},
   "source": [
    "### Phase 3: Data Preparation"
   ]
  },
  {
   "cell_type": "code",
   "execution_count": 94,
   "id": "9dc18af5",
   "metadata": {},
   "outputs": [],
   "source": [
    "# 2 nummers droppen\n",
    "df = df.drop([7119, 11171]).reset_index(drop=True)"
   ]
  },
  {
   "cell_type": "code",
   "execution_count": 95,
   "id": "71414a8c",
   "metadata": {},
   "outputs": [
    {
     "name": "stdout",
     "output_type": "stream",
     "text": [
      "Totaal aantal waardes in de dataframe vóór het verwijderen van dubbele waardes uit song_name en song_duration_ms: 18833\n",
      "Totaal aantal waardes in de dataframe na verwijderen van dubbele waardes uit song_name en song_duration_ms: 14466\n"
     ]
    }
   ],
   "source": [
    "print(f\"Totaal aantal waardes in de dataframe vóór het verwijderen van dubbele waardes uit song_name en song_duration_ms: {len(df)}\")\n",
    "\n",
    "# Dubbele waardes droppen van song_name en song_duration \n",
    "# Als ik alleen song_name duplicates zou verwijderen, zou ik misschien covers van nummers verwijderen, dus daarom check ik ook de song_duration \n",
    "df.drop_duplicates(subset=['song_name', 'song_duration_ms'], inplace = True)\n",
    "print(f\"Totaal aantal waardes in de dataframe na verwijderen van dubbele waardes uit song_name en song_duration_ms: {len(df)}\")"
   ]
  },
  {
   "cell_type": "code",
   "execution_count": 96,
   "id": "cfd97395",
   "metadata": {},
   "outputs": [],
   "source": [
    "df.drop(columns=[\"song_name\"], inplace=True) # inplace=True veranderd de originele dataframe zonder nieuwe dataframe te maken "
   ]
  },
  {
   "cell_type": "code",
   "execution_count": 97,
   "id": "3a0835b1",
   "metadata": {},
   "outputs": [],
   "source": [
    "X = df.drop(columns=[target], axis=1)\n",
    "y = df[target]"
   ]
  },
  {
   "cell_type": "code",
   "execution_count": 98,
   "id": "8533aa60",
   "metadata": {},
   "outputs": [],
   "source": [
    "# Zorg dat 'key' en 'time_signature' als categorisch gezien worden\n",
    "X['time_signature'] = X['time_signature'].astype(str)\n",
    "X['key'] = X['key'].astype(int)  # blijft numeriek voor de cyclische encoder"
   ]
  },
  {
   "cell_type": "markdown",
   "id": "5b80686b",
   "metadata": {},
   "source": [
    "## Winsorizer Class"
   ]
  },
  {
   "cell_type": "code",
   "execution_count": 99,
   "id": "83534109",
   "metadata": {},
   "outputs": [],
   "source": [
    "# BaseEstimator zorgt dat sklearn mijn class kan herkennen als model/stap in pipeline.\n",
    "# TransformerMixin geeft .fit_transform().\n",
    "class Winsorizer(BaseEstimator, TransformerMixin):\n",
    "    def __init__(self, kolommen): \n",
    "        self.kolommen = kolommen \n",
    "        self.grenzen_ = None # '_' betekent dat het attribuut pas beschikbaar wordt, nadat fit() is uitgevoerd. \n",
    "                             # None, omdat de grenzen nog niet bestaan -- worden berekend bij fit().\n",
    "\n",
    "    def fit(self, X, y=None):\n",
    "        \"\"\"Bereken de onder- en bovengrenzen per kolom met interkwartielafstand-regel.\"\"\"\n",
    "        self.grenzen_ = {}\n",
    "        for kolom in self.kolommen:\n",
    "            Q1 = X[kolom].quantile(0.25)\n",
    "            Q3 = X[kolom].quantile(0.75)\n",
    "            IKR = Q3 - Q1 \n",
    "            ondergrens = Q1 - 1.5 * IKR\n",
    "            bovengrens = Q3 + 1.5 * IKR\n",
    "            self.grenzen_[kolom] = (ondergrens, bovengrens)\n",
    "        return self \n",
    "    \n",
    "    def transform(self, X):\n",
    "        \"\"\"Winsoriseer uitschieters: vervang alle waardes buiten de grenzen met de dichtstbijzijnde grenswaarde.\"\"\"\n",
    "        X = X.copy() # kopie maken van data\n",
    "        for kolom, (ondergrens, bovengrens) in self.grenzen_.items():\n",
    "            dtype = X[kolom].dtype\n",
    "\n",
    "            # If the column is integer, cast the thresholds first\n",
    "            if np.issubdtype(dtype, np.integer):\n",
    "                ondergrens = int(round(ondergrens))\n",
    "                bovengrens = int(round(bovengrens))\n",
    "\n",
    "            X.loc[X[kolom] < ondergrens, kolom] = ondergrens\n",
    "            X.loc[X[kolom] > bovengrens, kolom] = bovengrens\n",
    "\n",
    "            # Just to be sure, cast back to the original dtype\n",
    "            X[kolom] = X[kolom].astype(dtype)\n",
    "        return X\n",
    "    \n",
    "    def get_feature_names_out(self, input_features=None):\n",
    "        \"\"\"Zorg dat de kolomnamen behouden blijven in de pipeline.\"\"\"\n",
    "        return np.array(self.kolommen)"
   ]
  },
  {
   "cell_type": "markdown",
   "id": "f0e3f138",
   "metadata": {},
   "source": [
    "## Key Cyclic Encoder class "
   ]
  },
  {
   "cell_type": "code",
   "execution_count": 100,
   "id": "f4adfb5a",
   "metadata": {},
   "outputs": [],
   "source": [
    "class ToonsoortCyclischeEncoder(BaseEstimator, TransformerMixin):\n",
    "    \"\"\"\n",
    "    Cyclisch encoden van de toonsoort/key (0-11) met sinus en cosinus. \n",
    "    \"\"\"\n",
    "\n",
    "    def __init__(self, kolom='key', max_waarde=12):\n",
    "        self.kolom = kolom\n",
    "        self.max_waarde = max_waarde\n",
    "    \n",
    "    def fit(self, X, y=None):\n",
    "        return self \n",
    "    \n",
    "    def transform(self, X):\n",
    "        X = X.copy()\n",
    "        k = X[self.kolom]\n",
    "        X[f'{self.kolom}_sin'] = np.sin(2 * np.pi * k/self.max_waarde)\n",
    "        X[f'{self.kolom}_cos'] = np.cos(2 * np.pi * k/self.max_waarde)\n",
    "        return X.drop(columns=[self.kolom])\n",
    "    \n",
    "    def get_feature_names_out(self, input_features=None):\n",
    "        return np.array([f'{self.kolom}_sin', f'{self.kolom}_cos'])\n"
   ]
  },
  {
   "cell_type": "code",
   "execution_count": 101,
   "id": "15b2e6bd",
   "metadata": {},
   "outputs": [],
   "source": [
    "def get_feature_names_from_column_transformer(ct):\n",
    "    \"\"\"Haalt feature names uit een ColumnTransformer, ook als nested pipelines aanwezig zijn.\"\"\"\n",
    "    output_features = []\n",
    "\n",
    "    for name, transformer, cols in ct.transformers_:\n",
    "        if transformer == 'drop':\n",
    "            continue\n",
    "        elif transformer == 'passthrough':\n",
    "            output_features.extend(cols)\n",
    "        elif hasattr(transformer, 'get_feature_names_out'):\n",
    "            try:\n",
    "                names = transformer.get_feature_names_out(cols)\n",
    "                output_features.extend(names)\n",
    "            except:\n",
    "                output_features.extend(cols)\n",
    "        elif hasattr(transformer, 'transformers_'):  # nested ColumnTransformer\n",
    "            output_features.extend(get_feature_names_from_column_transformer(transformer))\n",
    "        elif isinstance(transformer, Pipeline):\n",
    "            last_step = transformer.steps[-1][1]\n",
    "            if hasattr(last_step, 'get_feature_names_out'):\n",
    "                try:\n",
    "                    names = last_step.get_feature_names_out(cols)\n",
    "                    output_features.extend(names)\n",
    "                except:\n",
    "                    output_features.extend(cols)\n",
    "            else:\n",
    "                output_features.extend(cols)\n",
    "        else:\n",
    "            output_features.extend(cols)\n",
    "    return output_features\n"
   ]
  },
  {
   "cell_type": "markdown",
   "id": "c9a4ec21",
   "metadata": {},
   "source": [
    "### Phase 4: Modeling "
   ]
  },
  {
   "cell_type": "markdown",
   "id": "8cd89d72",
   "metadata": {},
   "source": [
    "Supervised learning, omdat je de uitkomst al hebt \n",
    "<br>\n",
    "Supervised learning heeft 2 hoofdtakken: regressie en classificatie \n",
    "<br>\n",
    "RMSE \n",
    "<br>\n",
    "Meervoudige lineare regressie \n",
    "<br>\n",
    "Logistieke lineare regressie is classification \n",
    "<br>\n",
    "Random forests is het begin van dat machine learning slim werd "
   ]
  },
  {
   "cell_type": "code",
   "execution_count": 102,
   "id": "a4b509f2",
   "metadata": {},
   "outputs": [],
   "source": [
    "def nieuwe_features(X):\n",
    "    X = X.copy()\n",
    "    X['energy_dance'] = X['energy'] * X['danceability']\n",
    "    X['tempo_loudness'] = X['tempo'] * X['loudness']\n",
    "    X['valence_energy'] = X['audio_valence'] * X['energy']\n",
    "    X['acoustic_energy_ratio'] = X['acousticness'] / (X['energy'] + 0.001)\n",
    "    X['speech_loudness_ratio'] = X['speechiness'] / (abs(X['loudness']) + 0.001)\n",
    "    X['acoustic_dance_ratio'] = X['acousticness'] / (X['danceability'] + 0.001)\n",
    "    X['energy_per_tempo'] = X['energy'] / (X['tempo'] + 0.001)\n",
    "    X['valence_dance'] = X['audio_valence'] * X['danceability']\n",
    "    X['duration_energy_ratio'] = X['song_duration_ms'] / (X['energy'] + 0.001)\n",
    "\n",
    "    # Niet - lineaire verbanden \n",
    "    X['energy_sq'] = X['energy'] ** 2\n",
    "    X['tempo_log'] = np.log1p(X['tempo'])\n",
    "    X['loudness_sq'] = X['loudness'] ** 2\n",
    "    return X\n",
    "feature_engineering = FunctionTransformer(nieuwe_features, validate=False)"
   ]
  },
  {
   "cell_type": "code",
   "execution_count": 103,
   "id": "6468c8ac",
   "metadata": {},
   "outputs": [],
   "source": [
    "# Train en test set maken \n",
    "X_train, X_test, y_train, y_test = train_test_split(\n",
    "   X, y, test_size=0.2, random_state = 42\n",
    ")"
   ]
  },
  {
   "cell_type": "code",
   "execution_count": 104,
   "id": "970024d4",
   "metadata": {},
   "outputs": [],
   "source": [
    "# Kolommen indelen\n",
    "kolommen_winsoriseren = ['song_duration_ms', 'loudness', 'tempo']\n",
    "categorische_kolommen = ['time_signature', 'audio_mode']\n",
    "cyclische_kolommen = ['key']\n",
    "\n",
    "# Alle numerieke kolommen behalve target\n",
    "numerieke_kolommen = X.select_dtypes(include=['int64', 'float64']).columns.tolist()\n",
    "overige_kolommen = [\n",
    "    c for c in numerieke_kolommen \n",
    "    if c not in kolommen_winsoriseren + categorische_kolommen + cyclische_kolommen\n",
    "]"
   ]
  },
  {
   "cell_type": "code",
   "execution_count": 105,
   "id": "b3c5ad59",
   "metadata": {},
   "outputs": [
    {
     "name": "stdout",
     "output_type": "stream",
     "text": [
      "Numeriek: ['song_duration_ms', 'acousticness', 'danceability', 'energy', 'instrumentalness', 'key', 'liveness', 'loudness', 'audio_mode', 'speechiness', 'tempo', 'audio_valence']\n",
      "Overige: ['acousticness', 'danceability', 'energy', 'instrumentalness', 'liveness', 'speechiness', 'audio_valence']\n"
     ]
    }
   ],
   "source": [
    "print(\"Numeriek:\", numerieke_kolommen)\n",
    "print(\"Overige:\", overige_kolommen)"
   ]
  },
  {
   "cell_type": "code",
   "execution_count": 106,
   "id": "1bef036f",
   "metadata": {},
   "outputs": [],
   "source": [
    "skewed_cols = ['acousticness', 'instrumentalness', 'liveness', 'loudness', 'speechiness']"
   ]
  },
  {
   "cell_type": "markdown",
   "id": "01510c11",
   "metadata": {},
   "source": [
    "## Preprocessors"
   ]
  },
  {
   "cell_type": "code",
   "execution_count": 107,
   "id": "72e7fbb5",
   "metadata": {},
   "outputs": [],
   "source": [
    "# Preprocessor voor Lineaire Regressie \n",
    "preprocessor = ColumnTransformer([\n",
    "    ('winsor_scale', Pipeline([\n",
    "        ('winsor', Winsorizer(kolommen=kolommen_winsoriseren)),\n",
    "        ('scaler', StandardScaler())\n",
    "    ]), kolommen_winsoriseren),\n",
    "\n",
    "    ('transform_scale', Pipeline([\n",
    "        ('power', PowerTransformer(method='yeo-johnson')),\n",
    "        ('scaler', StandardScaler())\n",
    "    ]), ['acousticness', 'instrumentalness', 'liveness', 'speechiness']),\n",
    "\n",
    "    ('onehot', OneHotEncoder(handle_unknown='ignore'), categorische_kolommen),\n",
    "\n",
    "    ('key_cyclisch', Pipeline([\n",
    "        ('encoder', ToonsoortCyclischeEncoder(kolom='key', max_waarde=12)),\n",
    "        ('scaler', StandardScaler())\n",
    "    ]), cyclische_kolommen),\n",
    "\n",
    "    ('scale_overige_kolommen', StandardScaler(), overige_kolommen)\n",
    "],\n",
    "remainder='passthrough')"
   ]
  },
  {
   "cell_type": "code",
   "execution_count": 108,
   "id": "4eada10a",
   "metadata": {},
   "outputs": [],
   "source": [
    "# Preprocessor voor Random Forest\n",
    "preprocessor_rf = ColumnTransformer([\n",
    "    ('winsor', Winsorizer(kolommen=kolommen_winsoriseren), kolommen_winsoriseren),\n",
    "    ('onehot', OneHotEncoder(handle_unknown='ignore'), categorische_kolommen),\n",
    "    ('key_cyclisch', ToonsoortCyclischeEncoder(kolom='key', max_waarde=12), cyclische_kolommen)\n",
    "], remainder='passthrough')"
   ]
  },
  {
   "cell_type": "markdown",
   "id": "d05e3583",
   "metadata": {},
   "source": [
    "## Pipelines"
   ]
  },
  {
   "cell_type": "code",
   "execution_count": 109,
   "id": "aa866713",
   "metadata": {},
   "outputs": [],
   "source": [
    "from tqdm.notebook import tqdm"
   ]
  },
  {
   "cell_type": "code",
   "execution_count": 110,
   "id": "7ea04ccb",
   "metadata": {},
   "outputs": [],
   "source": [
    "# Lineaire Regressie pipeline \n",
    "lineair_pipeline = Pipeline([\n",
    "    ('feature_creation', feature_engineering),\n",
    "    ('preprocess', preprocessor),\n",
    "    ('model', LinearRegression())\n",
    "])"
   ]
  },
  {
   "cell_type": "code",
   "execution_count": 111,
   "id": "ecf7fafc",
   "metadata": {},
   "outputs": [],
   "source": [
    "# Random forest pipeline\n",
    "random_forest_pipeline = Pipeline([\n",
    "    ('feature_creation', feature_engineering),\n",
    "    ('preprocess', preprocessor_rf),\n",
    "    ('model', RandomForestRegressor(\n",
    "        random_state=42,\n",
    "        n_jobs=-1\n",
    "    ))\n",
    "])"
   ]
  },
  {
   "cell_type": "code",
   "execution_count": 112,
   "id": "d2380c03",
   "metadata": {},
   "outputs": [],
   "source": [
    "# Trainen en evalueren \n",
    "lineair_pipeline.fit(X_train, y_train)\n",
    "y_pred = lineair_pipeline.predict(X_test)"
   ]
  },
  {
   "cell_type": "markdown",
   "id": "b3fa789d",
   "metadata": {},
   "source": [
    "## Fase 1: RandomizedSearchCV"
   ]
  },
  {
   "cell_type": "code",
   "execution_count": 113,
   "id": "7a45dc62",
   "metadata": {},
   "outputs": [
    {
     "data": {
      "text/plain": [
       "'\\n# Broad parameter ranges\\nparam_dist = {\\n    \\'model__n_estimators\\': randint(100, 400),\\n    \\'model__max_depth\\': randint(4, 16),\\n    \\'model__min_samples_split\\': randint(2, 10),\\n    \\'model__min_samples_leaf\\': randint(1, 5)\\n}\\n\\nrandom_search = RandomizedSearchCV(\\n    estimator=random_forest_pipeline,\\n    param_distributions=param_dist,\\n    n_iter=25,          # number of random combinations to test\\n    scoring=\\'r2\\',\\n    cv=3,               # fewer folds = faster\\n    n_jobs=-1,\\n    random_state=42,\\n    verbose=2\\n)\\n\\nrandom_search.fit(X_train, y_train)\\n\\nprint(\"Best parameters (random search):\", random_search.best_params_)\\nprint(\"Best CV R²:\", random_search.best_score_)\\n\\n# (Optional) Save for later\\nimport joblib\\njoblib.dump(random_search, \"random_search_rf.pkl\")\\n\\n# Store the best params for grid refinement\\nbest = random_search.best_params_\\n'"
      ]
     },
     "execution_count": 113,
     "metadata": {},
     "output_type": "execute_result"
    }
   ],
   "source": [
    "\"\"\"\n",
    "# Broad parameter ranges\n",
    "param_dist = {\n",
    "    'model__n_estimators': randint(100, 400),\n",
    "    'model__max_depth': randint(4, 16),\n",
    "    'model__min_samples_split': randint(2, 10),\n",
    "    'model__min_samples_leaf': randint(1, 5)\n",
    "}\n",
    "\n",
    "random_search = RandomizedSearchCV(\n",
    "    estimator=random_forest_pipeline,\n",
    "    param_distributions=param_dist,\n",
    "    n_iter=25,          # number of random combinations to test\n",
    "    scoring='r2',\n",
    "    cv=3,               # fewer folds = faster\n",
    "    n_jobs=-1,\n",
    "    random_state=42,\n",
    "    verbose=2\n",
    ")\n",
    "\n",
    "random_search.fit(X_train, y_train)\n",
    "\n",
    "print(\"Best parameters (random search):\", random_search.best_params_)\n",
    "print(\"Best CV R²:\", random_search.best_score_)\n",
    "\n",
    "# (Optional) Save for later\n",
    "import joblib\n",
    "joblib.dump(random_search, \"random_search_rf.pkl\")\n",
    "\n",
    "# Store the best params for grid refinement\n",
    "best = random_search.best_params_\n",
    "\"\"\""
   ]
  },
  {
   "cell_type": "markdown",
   "id": "a1a21021",
   "metadata": {},
   "source": [
    "#### RandomizedSearch\n",
    "\n",
    "Best parameters (random search): {'model__max_depth': 10, 'model__min_samples_leaf': 4, 'model__min_samples_split': 6, 'model__n_estimators': 370}\n",
    "<br>\n",
    "max_depth = 10  \n",
    "<br>\n",
    "min_samples_leaf = 4  \n",
    "<br>\n",
    "min_samples_split = 6  \n",
    "<br>\n",
    "n_estimators = 370\n",
    "<br>\n",
    "\n",
    "Best CV R²: 0.05542467259398683\n"
   ]
  },
  {
   "cell_type": "markdown",
   "id": "824a19ed",
   "metadata": {},
   "source": [
    "Best parameters (random search): {'model__max_depth': 10, 'model__min_samples_leaf': 4, 'model__min_samples_split': 6, 'model__n_estimators': 370}\n",
    "Best CV R²: 0.05542467259398683"
   ]
  },
  {
   "cell_type": "markdown",
   "id": "b8295222",
   "metadata": {},
   "source": [
    "## Fase 2: GridSearchCV "
   ]
  },
  {
   "cell_type": "code",
   "execution_count": 114,
   "id": "c14d86d4",
   "metadata": {},
   "outputs": [
    {
     "data": {
      "text/plain": [
       "'\\n# Define a tighter grid around the best RandomizedSearchCV result\\nparam_grid = {\\n    \\'model__n_estimators\\': [best[\\'model__n_estimators\\'] - 50,\\n                            best[\\'model__n_estimators\\'],\\n                            best[\\'model__n_estimators\\'] + 50],\\n    \\'model__max_depth\\': [best[\\'model__max_depth\\'] - 2,\\n                         best[\\'model__max_depth\\'],\\n                         best[\\'model__max_depth\\'] + 2],\\n    \\'model__min_samples_split\\': [best[\\'model__min_samples_split\\'] - 1,\\n                                 best[\\'model__min_samples_split\\'],\\n                                 best[\\'model__min_samples_split\\'] + 1],\\n    \\'model__min_samples_leaf\\': [best[\\'model__min_samples_leaf\\'] - 1,\\n                                best[\\'model__min_samples_leaf\\'],\\n                                best[\\'model__min_samples_leaf\\'] + 1]\\n}\\n\\n# Remove invalid (≤ 0) values\\nfor key, vals in param_grid.items():\\n    param_grid[key] = [v for v in vals if v > 0]\\n\\n# Define grid search\\ngrid_search = GridSearchCV(\\n    estimator=random_forest_pipeline,\\n    param_grid=param_grid,\\n    scoring=\\'r2\\',\\n    cv=5,\\n    n_jobs=-1,\\n    verbose=2\\n)\\n\\ngrid_search.fit(X_train, y_train)\\n\\nprint(\"Best parameters (grid refinement):\", grid_search.best_params_)\\nprint(\"Cross-val R²:\", grid_search.best_score_)\\n\\n# Save the trained grid search for later use\\nimport joblib\\njoblib.dump(grid_search, \"grid_search_rf.pkl\")\\n'"
      ]
     },
     "execution_count": 114,
     "metadata": {},
     "output_type": "execute_result"
    }
   ],
   "source": [
    "\"\"\"\n",
    "# Define a tighter grid around the best RandomizedSearchCV result\n",
    "param_grid = {\n",
    "    'model__n_estimators': [best['model__n_estimators'] - 50,\n",
    "                            best['model__n_estimators'],\n",
    "                            best['model__n_estimators'] + 50],\n",
    "    'model__max_depth': [best['model__max_depth'] - 2,\n",
    "                         best['model__max_depth'],\n",
    "                         best['model__max_depth'] + 2],\n",
    "    'model__min_samples_split': [best['model__min_samples_split'] - 1,\n",
    "                                 best['model__min_samples_split'],\n",
    "                                 best['model__min_samples_split'] + 1],\n",
    "    'model__min_samples_leaf': [best['model__min_samples_leaf'] - 1,\n",
    "                                best['model__min_samples_leaf'],\n",
    "                                best['model__min_samples_leaf'] + 1]\n",
    "}\n",
    "\n",
    "# Remove invalid (≤ 0) values\n",
    "for key, vals in param_grid.items():\n",
    "    param_grid[key] = [v for v in vals if v > 0]\n",
    "\n",
    "# Define grid search\n",
    "grid_search = GridSearchCV(\n",
    "    estimator=random_forest_pipeline,\n",
    "    param_grid=param_grid,\n",
    "    scoring='r2',\n",
    "    cv=5,\n",
    "    n_jobs=-1,\n",
    "    verbose=2\n",
    ")\n",
    "\n",
    "grid_search.fit(X_train, y_train)\n",
    "\n",
    "print(\"Best parameters (grid refinement):\", grid_search.best_params_)\n",
    "print(\"Cross-val R²:\", grid_search.best_score_)\n",
    "\n",
    "# Save the trained grid search for later use\n",
    "import joblib\n",
    "joblib.dump(grid_search, \"grid_search_rf.pkl\")\n",
    "\"\"\""
   ]
  },
  {
   "cell_type": "markdown",
   "id": "05466368",
   "metadata": {},
   "source": [
    "#### Gridsearch\n",
    "\n",
    "Best parameters (grid refinement): {'model__max_depth': 10, 'model__min_samples_leaf': 3, 'model__min_samples_split': 7, 'model__n_estimators': 370}\n",
    "<br>\n",
    "max_depth = 10  \n",
    "<br>\n",
    "min_samples_leaf = 3  \n",
    "<br>\n",
    "min_samples_split = 7  \n",
    "<br>\n",
    "n_estimators = 370\n",
    "\n",
    "<br>\n",
    "Cross-val R²: 0.05775448946909154"
   ]
  },
  {
   "cell_type": "code",
   "execution_count": 115,
   "id": "e8c2999f",
   "metadata": {},
   "outputs": [],
   "source": [
    "grid_search = joblib.load(\"grid_search_rf.pkl\")"
   ]
  },
  {
   "cell_type": "markdown",
   "id": "b0534763",
   "metadata": {},
   "source": [
    "## Evaluatie test data"
   ]
  },
  {
   "cell_type": "code",
   "execution_count": 116,
   "id": "7ca9bab3",
   "metadata": {},
   "outputs": [
    {
     "name": "stdout",
     "output_type": "stream",
     "text": [
      "Test R²: 0.0535\n",
      "Test RMSE: 20.0657\n"
     ]
    }
   ],
   "source": [
    "beste_model = grid_search.best_estimator_\n",
    "y_pred_rf = beste_model.predict(X_test)\n",
    "\n",
    "r2_rf = r2_score(y_test, y_pred_rf)\n",
    "rmse_rf = root_mean_squared_error(y_test, y_pred_rf)\n",
    "\n",
    "print(f\"Test R²: {r2_rf:.4f}\")\n",
    "print(f\"Test RMSE: {rmse_rf:.4f}\")"
   ]
  },
  {
   "cell_type": "markdown",
   "id": "987c6925",
   "metadata": {},
   "source": [
    "## Resultaten vergelijken"
   ]
  },
  {
   "cell_type": "code",
   "execution_count": 117,
   "id": "36ea2757",
   "metadata": {},
   "outputs": [
    {
     "data": {
      "application/vnd.microsoft.datawrangler.viewer.v0+json": {
       "columns": [
        {
         "name": "index",
         "rawType": "int64",
         "type": "integer"
        },
        {
         "name": "Model",
         "rawType": "object",
         "type": "string"
        },
        {
         "name": "R2",
         "rawType": "float64",
         "type": "float"
        },
        {
         "name": "RMSE",
         "rawType": "float64",
         "type": "float"
        }
       ],
       "ref": "9a2ecdc9-7e6c-44e2-9ce0-290adcdfddef",
       "rows": [
        [
         "0",
         "Lineaire regressie",
         "0.0349",
         "20.26"
        ],
        [
         "1",
         "Random Forest",
         "0.0535",
         "20.07"
        ]
       ],
       "shape": {
        "columns": 3,
        "rows": 2
       }
      },
      "text/html": [
       "<div>\n",
       "<style scoped>\n",
       "    .dataframe tbody tr th:only-of-type {\n",
       "        vertical-align: middle;\n",
       "    }\n",
       "\n",
       "    .dataframe tbody tr th {\n",
       "        vertical-align: top;\n",
       "    }\n",
       "\n",
       "    .dataframe thead th {\n",
       "        text-align: right;\n",
       "    }\n",
       "</style>\n",
       "<table border=\"1\" class=\"dataframe\">\n",
       "  <thead>\n",
       "    <tr style=\"text-align: right;\">\n",
       "      <th></th>\n",
       "      <th>Model</th>\n",
       "      <th>R2</th>\n",
       "      <th>RMSE</th>\n",
       "    </tr>\n",
       "  </thead>\n",
       "  <tbody>\n",
       "    <tr>\n",
       "      <th>0</th>\n",
       "      <td>Lineaire regressie</td>\n",
       "      <td>0.0349</td>\n",
       "      <td>20.26</td>\n",
       "    </tr>\n",
       "    <tr>\n",
       "      <th>1</th>\n",
       "      <td>Random Forest</td>\n",
       "      <td>0.0535</td>\n",
       "      <td>20.07</td>\n",
       "    </tr>\n",
       "  </tbody>\n",
       "</table>\n",
       "</div>"
      ],
      "text/plain": [
       "                Model      R2   RMSE\n",
       "0  Lineaire regressie  0.0349  20.26\n",
       "1       Random Forest  0.0535  20.07"
      ]
     },
     "metadata": {},
     "output_type": "display_data"
    }
   ],
   "source": [
    "y_pred_lin = lineair_pipeline.predict(X_test)\n",
    "r2_lin = r2_score(y_test, y_pred_lin)\n",
    "rmse_lin = root_mean_squared_error(y_test, y_pred_lin)\n",
    "\n",
    "resultaten = pd.DataFrame({\n",
    "    'Model': ['Lineaire regressie', 'Random Forest'],\n",
    "    'R2': [r2_lin, r2_rf],\n",
    "    'RMSE': [rmse_lin, rmse_rf]\n",
    "}).round({'R2': 4, 'RMSE': 2})\n",
    "\n",
    "display(resultaten)"
   ]
  },
  {
   "cell_type": "markdown",
   "id": "27ea2347",
   "metadata": {},
   "source": [
    "### Observaties resultaten "
   ]
  },
  {
   "cell_type": "markdown",
   "id": "8812b0b6",
   "metadata": {},
   "source": [
    "Random forest presteert beter dan lineare regressie: R² iets omhoog en RMSE iets omlaag. \n",
    "<br>\n",
    "RMSE van 20 is logisch, omdat je populariteit niet alleen op basis van audio features kunt voorspellen. "
   ]
  },
  {
   "cell_type": "markdown",
   "id": "e68e5a74",
   "metadata": {},
   "source": [
    "### Feature Importances"
   ]
  },
  {
   "cell_type": "code",
   "execution_count": 118,
   "id": "4921ae5b",
   "metadata": {},
   "outputs": [
    {
     "data": {
      "image/png": "[encoded data removed]",
      "text/plain": [
       "<Figure size 1000x600 with 1 Axes>"
      ]
     },
     "metadata": {},
     "output_type": "display_data"
    }
   ],
   "source": [
    "model = grid_search.best_estimator_.named_steps['model']\n",
    "importances = model.feature_importances_\n",
    "\n",
    "# Use helper to get feature names\n",
    "preprocessor = grid_search.best_estimator_.named_steps['preprocess']\n",
    "feature_names = get_feature_names_from_column_transformer(preprocessor)\n",
    "\n",
    "# Create series and sort \n",
    "feat_importance = pd.Series(importances, index=feature_names).sort_values(ascending=False)\n",
    "\n",
    "#Plot top 15 belangrijke features\n",
    "\n",
    "plt.figure(figsize=(10, 6))\n",
    "feat_importance.head(15).plot(kind='bar', color='mediumseagreen')\n",
    "plt.title(\"Belangrijkste Features (Random Forest)\")\n",
    "plt.ylabel(\"Feature Importance\")\n",
    "plt.xlabel(\"Feature\")\n",
    "plt.tight_layout()\n",
    "plt.show()"
   ]
  }
 ],
 "metadata": {
  "kernelspec": {
   "display_name": ".venv (3.13.3)",
   "language": "python",
   "name": "python3"
  },
  "language_info": {
   "codemirror_mode": {
    "name": "ipython",
    "version": 3
   },
   "file_extension": ".py",
   "mimetype": "text/x-python",
   "name": "python",
   "nbconvert_exporter": "python",
   "pygments_lexer": "ipython3",
   "version": "3.13.3"
  }
 },
 "nbformat": 4,
 "nbformat_minor": 5
}
