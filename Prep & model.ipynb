{
 "cells": [
  {
   "cell_type": "markdown",
   "id": "d5ae150c",
   "metadata": {},
   "source": [
    "# Data Preparation, Pipelines & Model "
   ]
  },
  {
   "cell_type": "code",
   "execution_count": 1,
   "id": "ff3be992",
   "metadata": {},
   "outputs": [],
   "source": [
    "# Modules importeren\n",
    "import pandas as pd\n",
    "import numpy as np\n",
    "import matplotlib.pyplot as plt\n",
    "\n",
    "from sklearn.preprocessing import StandardScaler, OneHotEncoder, FunctionTransformer, PowerTransformer\n",
    "from sklearn.pipeline import Pipeline\n",
    "from sklearn.linear_model import LinearRegression\n",
    "from sklearn.model_selection import train_test_split, GridSearchCV, RandomizedSearchCV, KFold, cross_val_score\n",
    "from sklearn.metrics import r2_score, root_mean_squared_error, make_scorer\n",
    "from sklearn.compose import ColumnTransformer\n",
    "from sklearn.base import BaseEstimator, TransformerMixin\n",
    "from sklearn.ensemble import RandomForestRegressor\n",
    "from sklearn.impute import SimpleImputer\n",
    "from sklearn.dummy import DummyRegressor\n",
    "\n",
    "from scipy.stats import randint\n",
    "import joblib\n",
    "from datetime import datetime"
   ]
  },
  {
   "cell_type": "code",
   "execution_count": 2,
   "id": "e0e3d764",
   "metadata": {},
   "outputs": [],
   "source": [
    "# Dataset importeren \n",
    "df = pd.read_csv(\"/Users/odessa/Desktop/Applied Data Science & AI/Data Science/Code Inleiding data science/song_data.csv\")"
   ]
  },
  {
   "cell_type": "code",
   "execution_count": 3,
   "id": "c3382b9d",
   "metadata": {},
   "outputs": [],
   "source": [
    "# Target variabele maken \n",
    "target = 'song_popularity'"
   ]
  },
  {
   "cell_type": "markdown",
   "id": "1a787fa6",
   "metadata": {},
   "source": [
    "# Phase 3: Data Preparation"
   ]
  },
  {
   "cell_type": "code",
   "execution_count": 4,
   "id": "1b8a8733",
   "metadata": {},
   "outputs": [],
   "source": [
    "# Alleen 3/4/5 toelaten in de ruwe data\n",
    "df = df[df['time_signature'].isin([3, 4, 5])]"
   ]
  },
  {
   "cell_type": "code",
   "execution_count": 5,
   "id": "71414a8c",
   "metadata": {},
   "outputs": [
    {
     "name": "stdout",
     "output_type": "stream",
     "text": [
      "Totaal aantal waardes in de dataframe vóór het verwijderen van dubbele waardes uit song_name en song_duration_ms: 18759\n",
      "Totaal aantal waardes in de dataframe na verwijderen van dubbele waardes uit song_name en song_duration_ms: 14402\n"
     ]
    }
   ],
   "source": [
    "print(f\"Totaal aantal waardes in de dataframe vóór het verwijderen van dubbele waardes uit song_name en song_duration_ms: {len(df)}\")\n",
    "\n",
    "# Dubbele waardes droppen van song_name en song_duration \n",
    "# Als ik alleen song_name duplicates zou verwijderen, zou ik misschien covers van nummers verwijderen, dus daarom check ik ook de song_duration \n",
    "df.drop_duplicates(subset=['song_name', 'song_duration_ms'], inplace = True)\n",
    "print(f\"Totaal aantal waardes in de dataframe na verwijderen van dubbele waardes uit song_name en song_duration_ms: {len(df)}\")"
   ]
  },
  {
   "cell_type": "code",
   "execution_count": 6,
   "id": "cfd97395",
   "metadata": {},
   "outputs": [],
   "source": [
    "df.drop(columns=[\"song_name\"], inplace=True) # inplace=True veranderd de originele dataframe zonder nieuwe dataframe te maken "
   ]
  },
  {
   "cell_type": "code",
   "execution_count": 7,
   "id": "dfe25ea5",
   "metadata": {},
   "outputs": [],
   "source": [
    "# Laatste twee duplicates verwijderen\n",
    "df = df.drop_duplicates(keep='first')"
   ]
  },
  {
   "cell_type": "code",
   "execution_count": 8,
   "id": "3a0835b1",
   "metadata": {},
   "outputs": [],
   "source": [
    "# Splitsen van de data in X (features) en y (target)\n",
    "X = df.drop(columns=[target], axis=1)\n",
    "y = df[target]"
   ]
  },
  {
   "cell_type": "code",
   "execution_count": 9,
   "id": "8533aa60",
   "metadata": {},
   "outputs": [],
   "source": [
    "X['key'] = X['key'].astype(int)  # Voor de zekerheid alles naar int "
   ]
  },
  {
   "cell_type": "markdown",
   "id": "5fb70b7e",
   "metadata": {},
   "source": [
    "## Custom Encoders "
   ]
  },
  {
   "cell_type": "markdown",
   "id": "f0e3f138",
   "metadata": {},
   "source": [
    "### Toonsoort Cyclische Encoder class "
   ]
  },
  {
   "cell_type": "markdown",
   "id": "d47fdb9e",
   "metadata": {},
   "source": [
    "De toonsoort cyclische encoder zet elk getal van 0 t/m 11 om naar een positie op een cirkel, zodat 0 en 11 weer naast elkaar liggen. "
   ]
  },
  {
   "cell_type": "code",
   "execution_count": 10,
   "id": "f4adfb5a",
   "metadata": {},
   "outputs": [],
   "source": [
    "class ToonsoortCyclischeEncoder(BaseEstimator, TransformerMixin):\n",
    "    \"\"\"\n",
    "    Cyclisch encoden van de toonsoort/key (0-11) met sinus en cosinus. \n",
    "    \"\"\"\n",
    "\n",
    "    def __init__(self, kolom='key', max_waarde=12): # max 12 want key waardes zijn 0 t/m 11 \n",
    "        self.kolom = kolom\n",
    "        self.max_waarde = max_waarde\n",
    "    \n",
    "    def fit(self, X, y=None): # dit doet niks maar moet voor sklearn \n",
    "        return self \n",
    "    \n",
    "    def transform(self, X):\n",
    "        X = X.copy() # Kopie van X \n",
    "        k = X[self.kolom] # pak key kolom \n",
    "        X[f'{self.kolom}_sin'] = np.sin(2 * np.pi * k/self.max_waarde) # bereken voor elke key de sinuswaarde -> positie op verticale as van een cirkel\n",
    "        X[f'{self.kolom}_cos'] = np.cos(2 * np.pi * k/self.max_waarde) # bereken voor elke key de cosinuswaarde -> positie op horizontale as van een cirkel\n",
    "        return X.drop(columns=[self.kolom]) # verwijder de originele kolom ('key'), want die is nu vervangen\n",
    "    \n",
    "    # Geef de namen van de nieuwe features terug\n",
    "    def get_feature_names_out(self, input_features=None):\n",
    "        return np.array([f'{self.kolom}_sin', f'{self.kolom}_cos'])"
   ]
  },
  {
   "cell_type": "markdown",
   "id": "29e6582e",
   "metadata": {},
   "source": [
    "### Outlier Cleaner class"
   ]
  },
  {
   "cell_type": "code",
   "execution_count": 11,
   "id": "5aea0149",
   "metadata": {},
   "outputs": [],
   "source": [
    "class OutlierCleaner(BaseEstimator, TransformerMixin):\n",
    "    \"\"\"Vervangt waarden buiten de grenzen door NaN en vult ontbrekende waarden aan met de kolommediaan.\"\"\"\n",
    "    def __init__(self):\n",
    "        pass\n",
    "\n",
    "    def fit(self, X, y=None):\n",
    "        return self\n",
    "\n",
    "    def transform(self, X):\n",
    "        X = X.copy()\n",
    "\n",
    "        # 1. Outliers in originele numerieke kolommen\n",
    "        if 'song_duration_ms' in X.columns:\n",
    "            X.loc[(X['song_duration_ms'] < 30_000) | (X['song_duration_ms'] > 1_200_000), 'song_duration_ms'] = np.nan\n",
    "        if 'tempo' in X.columns:\n",
    "            X.loc[(X['tempo'] < 30) | (X['tempo'] > 250), 'tempo'] = np.nan\n",
    "        if 'loudness' in X.columns:\n",
    "            X.loc[(X['loudness'] < -60) | (X['loudness'] > 0), 'loudness'] = np.nan\n",
    "\n",
    "        for col in ['danceability', 'energy', 'audio_valence', 'instrumentalness', 'liveness', 'speechiness']:\n",
    "            if col in X.columns:\n",
    "                X.loc[(X[col] < 0) | (X[col] > 1), col] = np.nan\n",
    "\n",
    "        # 2. Outliers in nieuwe features (indien aanwezig)\n",
    "        for col in ['valence_dance', 'acoustic_dance_ratio', 'duration_energy_ratio']:\n",
    "            if col in X.columns:\n",
    "                onder_grens = X[col].quantile(0.01)\n",
    "                boven_grens = X[col].quantile(0.99)\n",
    "                X.loc[(X[col] < onder_grens) | (X[col] > boven_grens), col] = np.nan\n",
    "\n",
    "        # 3. Controle op maatsoort\n",
    "        if 'time_signature' in X.columns:\n",
    "            X.loc[~X['time_signature'].isin([3, 4, 5]), 'time_signature'] = np.nan\n",
    "\n",
    "        # 4. Vul missende waarden op met medianen\n",
    "        X.fillna(X.median(numeric_only=True), inplace=True)\n",
    "        return X"
   ]
  },
  {
   "cell_type": "markdown",
   "id": "337a8b5d",
   "metadata": {},
   "source": [
    "### Nieuwe features functie "
   ]
  },
  {
   "cell_type": "code",
   "execution_count": 13,
   "id": "cd7d772b",
   "metadata": {},
   "outputs": [],
   "source": [
    "def nieuwe_features(df):\n",
    "    df = df.copy()\n",
    "    df['valence_dance'] = df['audio_valence'] * df['danceability']\n",
    "    \n",
    "    # Ratio features\n",
    "    df['acoustic_dance_ratio'] = df['acousticness'] / (df['danceability'] + 0.001) # Kleine constante (0.001) toegevoegd om deling door nul te vermijden als een waarde in een van de kolommen nul is \n",
    "    df['duration_energy_ratio'] = df['song_duration_ms'] / (df['energy'] + 0.001) \n",
    "    \n",
    "    return df\n",
    "feature_engineering = FunctionTransformer(nieuwe_features, validate=False)"
   ]
  },
  {
   "cell_type": "markdown",
   "id": "c9a4ec21",
   "metadata": {},
   "source": [
    "# Phase 4: Modeling "
   ]
  },
  {
   "cell_type": "code",
   "execution_count": 14,
   "id": "a969c17b",
   "metadata": {},
   "outputs": [],
   "source": [
    "# markdown hieronder later weghalen "
   ]
  },
  {
   "cell_type": "markdown",
   "id": "8cd89d72",
   "metadata": {},
   "source": [
    "Supervised learning, omdat je de uitkomst al hebt \n",
    "<br>\n",
    "Supervised learning heeft 2 hoofdtakken: regressie en classificatie \n",
    "<br>\n",
    "RMSE \n",
    "<br>\n",
    "Meervoudige lineare regressie \n",
    "<br>\n",
    "Logistieke lineare regressie is classification \n",
    "<br>\n",
    "Random forests is het begin van dat machine learning slim werd"
   ]
  },
  {
   "cell_type": "code",
   "execution_count": 15,
   "id": "6468c8ac",
   "metadata": {},
   "outputs": [],
   "source": [
    "# Train en test set maken \n",
    "X_train, X_test, y_train, y_test = train_test_split(\n",
    "   X, y, test_size=0.2, random_state = 42\n",
    ")"
   ]
  },
  {
   "cell_type": "markdown",
   "id": "01510c11",
   "metadata": {},
   "source": [
    "## Preprocessors"
   ]
  },
  {
   "cell_type": "code",
   "execution_count": 16,
   "id": "25a1513d",
   "metadata": {},
   "outputs": [],
   "source": [
    "# Kolommen definiëren\n",
    "categorische_kolommen = ['time_signature']\n",
    "cyclische_kolommen = ['key']\n",
    "\n",
    "yeo_cols = [\n",
    "    'danceability', 'audio_valence', 'energy', 'loudness',\n",
    "    'instrumentalness', 'liveness', 'speechiness',\n",
    "    'acoustic_dance_ratio', 'duration_energy_ratio'\n",
    "]\n",
    "\n",
    "log_cols = ['song_duration_ms']"
   ]
  },
  {
   "cell_type": "code",
   "execution_count": 17,
   "id": "13acbd12",
   "metadata": {},
   "outputs": [],
   "source": [
    "preprocessor = ColumnTransformer([\n",
    "    # Log-transformatie\n",
    "    ('log', Pipeline([\n",
    "        ('log', FunctionTransformer(np.log1p, validate=False)),\n",
    "        ('scaler', StandardScaler())\n",
    "    ]), log_cols),\n",
    "\n",
    "    # Yeo-Johnson transformatie\n",
    "    ('yeo', Pipeline([\n",
    "        ('yeo', PowerTransformer(method='yeo-johnson')),\n",
    "        ('scaler', StandardScaler())\n",
    "    ]), yeo_cols),\n",
    "\n",
    "    # One-hot encoding\n",
    "    ('onehot', Pipeline([\n",
    "        ('imputer', SimpleImputer(strategy='most_frequent')),\n",
    "        ('ohe', OneHotEncoder(handle_unknown='ignore'))\n",
    "    ]), categorische_kolommen),\n",
    "    # Cyclische encoding van key\n",
    "    ('key_cyclisch', Pipeline([\n",
    "        ('encoder', ToonsoortCyclischeEncoder(kolom='key', max_waarde=12)),\n",
    "        ('scaler', StandardScaler())\n",
    "    ]), cyclische_kolommen),\n",
    "\n",
    "    # Overige numerieke kolommen schalen\n",
    "    ('scale_rest', StandardScaler(),\n",
    "     [c for c in X.columns\n",
    "      if c not in yeo_cols + log_cols + categorische_kolommen + cyclische_kolommen\n",
    "      and c != 'song_popularity'\n",
    "     ] + ['valence_dance'])\n",
    "],\n",
    "remainder='drop')"
   ]
  },
  {
   "cell_type": "markdown",
   "id": "d05e3583",
   "metadata": {},
   "source": [
    "## Pipelines"
   ]
  },
  {
   "cell_type": "code",
   "execution_count": null,
   "id": "7ea04ccb",
   "metadata": {},
   "outputs": [],
   "source": [
    "# Lineaire pipeline \n",
    "lineair_pipeline = Pipeline([\n",
    "    ('feature_creation', feature_engineering),   \n",
    "    ('clean_outliers', OutlierCleaner()),       \n",
    "    ('preprocess', preprocessor),\n",
    "    ('model', LinearRegression())\n",
    "])"
   ]
  },
  {
   "cell_type": "code",
   "execution_count": null,
   "id": "ecf7fafc",
   "metadata": {},
   "outputs": [],
   "source": [
    "# Random forest pipeline\n",
    "random_forest_pipeline = Pipeline([\n",
    "    ('feature_creation', feature_engineering),\n",
    "    ('clean_outliers', OutlierCleaner()),\n",
    "    ('preprocess', preprocessor),\n",
    "    ('model', RandomForestRegressor(random_state=42, n_jobs=-1))\n",
    "])"
   ]
  },
  {
   "cell_type": "code",
   "execution_count": null,
   "id": "0ef0b28e",
   "metadata": {},
   "outputs": [
    {
     "name": "stdout",
     "output_type": "stream",
     "text": [
      "Train shape: (11520, 13)\n",
      "Test shape: (2880, 13)\n"
     ]
    }
   ],
   "source": [
    "# train en test shape bekijken \n",
    "print(\"Train shape:\", X_train.shape)\n",
    "print(\"Test shape:\", X_test.shape)"
   ]
  },
  {
   "cell_type": "markdown",
   "id": "02aacc6a",
   "metadata": {},
   "source": [
    "## Hyperparameter Tuning voor Random Forest Regressor "
   ]
  },
  {
   "cell_type": "markdown",
   "id": "b3fa789d",
   "metadata": {},
   "source": [
    "### Fase 1: RandomizedSearchCV"
   ]
  },
  {
   "cell_type": "code",
   "execution_count": 21,
   "id": "7a45dc62",
   "metadata": {},
   "outputs": [
    {
     "name": "stdout",
     "output_type": "stream",
     "text": [
      "Fitting 3 folds for each of 25 candidates, totalling 75 fits\n",
      "[CV] END model__max_depth=14, model__min_samples_leaf=4, model__min_samples_split=6, model__n_estimators=120; total time=  16.6s\n",
      "[CV] END model__max_depth=14, model__min_samples_leaf=4, model__min_samples_split=6, model__n_estimators=120; total time=  16.6s\n",
      "[CV] END model__max_depth=14, model__min_samples_leaf=4, model__min_samples_split=6, model__n_estimators=120; total time=  17.1s\n",
      "[CV] END model__max_depth=14, model__min_samples_leaf=3, model__min_samples_split=9, model__n_estimators=199; total time=  27.3s\n",
      "[CV] END model__max_depth=14, model__min_samples_leaf=3, model__min_samples_split=9, model__n_estimators=199; total time=  28.6s\n",
      "[CV] END model__max_depth=14, model__min_samples_leaf=3, model__min_samples_split=9, model__n_estimators=199; total time=  29.0s\n",
      "[CV] END model__max_depth=11, model__min_samples_leaf=4, model__min_samples_split=4, model__n_estimators=249; total time=  30.8s\n",
      "[CV] END model__max_depth=11, model__min_samples_leaf=4, model__min_samples_split=4, model__n_estimators=249; total time=  30.9s\n",
      "[CV] END model__max_depth=11, model__min_samples_leaf=4, model__min_samples_split=4, model__n_estimators=249; total time=  30.9s\n",
      "[CV] END model__max_depth=10, model__min_samples_leaf=2, model__min_samples_split=4, model__n_estimators=314; total time=  34.7s\n",
      "[CV] END model__max_depth=10, model__min_samples_leaf=2, model__min_samples_split=4, model__n_estimators=314; total time=  35.1s\n",
      "[CV] END model__max_depth=10, model__min_samples_leaf=2, model__min_samples_split=4, model__n_estimators=314; total time=  35.4s\n",
      "[CV] END model__max_depth=4, model__min_samples_leaf=4, model__min_samples_split=3, model__n_estimators=121; total time=   8.1s\n",
      "[CV] END model__max_depth=8, model__min_samples_leaf=2, model__min_samples_split=9, model__n_estimators=393; total time=  37.9s\n",
      "[CV] END model__max_depth=10, model__min_samples_leaf=4, model__min_samples_split=6, model__n_estimators=370; total time=  39.1s\n",
      "[CV] END model__max_depth=10, model__min_samples_leaf=4, model__min_samples_split=6, model__n_estimators=370; total time=  39.2s\n",
      "[CV] END model__max_depth=10, model__min_samples_leaf=4, model__min_samples_split=6, model__n_estimators=370; total time=  39.4s\n",
      "[CV] END model__max_depth=4, model__min_samples_leaf=4, model__min_samples_split=3, model__n_estimators=121; total time=   7.9s\n",
      "[CV] END model__max_depth=4, model__min_samples_leaf=4, model__min_samples_split=3, model__n_estimators=121; total time=   7.9s\n",
      "[CV] END model__max_depth=5, model__min_samples_leaf=4, model__min_samples_split=5, model__n_estimators=376; total time=  23.5s\n",
      "[CV] END model__max_depth=5, model__min_samples_leaf=4, model__min_samples_split=5, model__n_estimators=376; total time=  24.1s\n",
      "[CV] END model__max_depth=5, model__min_samples_leaf=4, model__min_samples_split=5, model__n_estimators=376; total time=  24.3s\n",
      "[CV] END model__max_depth=8, model__min_samples_leaf=2, model__min_samples_split=9, model__n_estimators=393; total time=  37.7s\n",
      "[CV] END model__max_depth=8, model__min_samples_leaf=2, model__min_samples_split=9, model__n_estimators=393; total time=  37.9s\n",
      "[CV] END model__max_depth=15, model__min_samples_leaf=1, model__min_samples_split=2, model__n_estimators=158; total time=  26.4s\n",
      "[CV] END model__max_depth=15, model__min_samples_leaf=1, model__min_samples_split=2, model__n_estimators=158; total time=  27.1s\n",
      "[CV] END model__max_depth=15, model__min_samples_leaf=1, model__min_samples_split=2, model__n_estimators=158; total time=  27.0s\n",
      "[CV] END model__max_depth=6, model__min_samples_leaf=4, model__min_samples_split=8, model__n_estimators=343; total time=  27.9s\n",
      "[CV] END model__max_depth=6, model__min_samples_leaf=4, model__min_samples_split=8, model__n_estimators=343; total time=  27.7s\n",
      "[CV] END model__max_depth=6, model__min_samples_leaf=4, model__min_samples_split=8, model__n_estimators=343; total time=  27.6s\n",
      "[CV] END model__max_depth=7, model__min_samples_leaf=1, model__min_samples_split=5, model__n_estimators=113; total time=  13.0s\n",
      "[CV] END model__max_depth=7, model__min_samples_leaf=1, model__min_samples_split=5, model__n_estimators=113; total time=  12.9s\n",
      "[CV] END model__max_depth=12, model__min_samples_leaf=3, model__min_samples_split=6, model__n_estimators=234; total time=  32.0s\n",
      "[CV] END model__max_depth=12, model__min_samples_leaf=3, model__min_samples_split=6, model__n_estimators=234; total time=  32.1s\n",
      "[CV] END model__max_depth=12, model__min_samples_leaf=3, model__min_samples_split=6, model__n_estimators=234; total time=  32.4s\n",
      "[CV] END model__max_depth=13, model__min_samples_leaf=4, model__min_samples_split=5, model__n_estimators=287; total time=  38.0s\n",
      "[CV] END model__max_depth=5, model__min_samples_leaf=2, model__min_samples_split=2, model__n_estimators=152; total time=  11.5s\n",
      "[CV] END model__max_depth=7, model__min_samples_leaf=1, model__min_samples_split=5, model__n_estimators=113; total time=  11.9s\n",
      "[CV] END model__max_depth=13, model__min_samples_leaf=4, model__min_samples_split=5, model__n_estimators=287; total time=  37.7s\n",
      "[CV] END model__max_depth=13, model__min_samples_leaf=4, model__min_samples_split=5, model__n_estimators=287; total time=  37.8s\n",
      "[CV] END model__max_depth=5, model__min_samples_leaf=2, model__min_samples_split=2, model__n_estimators=152; total time=  10.2s\n",
      "[CV] END model__max_depth=5, model__min_samples_leaf=2, model__min_samples_split=2, model__n_estimators=152; total time=  10.5s\n",
      "[CV] END model__max_depth=6, model__min_samples_leaf=2, model__min_samples_split=2, model__n_estimators=149; total time=  12.3s\n",
      "[CV] END model__max_depth=6, model__min_samples_leaf=2, model__min_samples_split=2, model__n_estimators=149; total time=  12.4s\n",
      "[CV] END model__max_depth=6, model__min_samples_leaf=2, model__min_samples_split=2, model__n_estimators=149; total time=  13.0s\n",
      "[CV] END model__max_depth=8, model__min_samples_leaf=1, model__min_samples_split=8, model__n_estimators=373; total time=  35.4s\n",
      "[CV] END model__max_depth=8, model__min_samples_leaf=1, model__min_samples_split=8, model__n_estimators=373; total time=  34.9s\n",
      "[CV] END model__max_depth=8, model__min_samples_leaf=1, model__min_samples_split=8, model__n_estimators=373; total time=  34.5s\n",
      "[CV] END model__max_depth=5, model__min_samples_leaf=4, model__min_samples_split=5, model__n_estimators=363; total time=  22.5s\n",
      "[CV] END model__max_depth=5, model__min_samples_leaf=4, model__min_samples_split=5, model__n_estimators=363; total time=  22.2s\n",
      "[CV] END model__max_depth=11, model__min_samples_leaf=4, model__min_samples_split=3, model__n_estimators=153; total time=  18.7s\n",
      "[CV] END model__max_depth=5, model__min_samples_leaf=4, model__min_samples_split=5, model__n_estimators=363; total time=  21.6s\n",
      "[CV] END model__max_depth=11, model__min_samples_leaf=4, model__min_samples_split=3, model__n_estimators=153; total time=  18.6s\n",
      "[CV] END model__max_depth=11, model__min_samples_leaf=4, model__min_samples_split=3, model__n_estimators=153; total time=  18.5s\n",
      "[CV] END model__max_depth=5, model__min_samples_leaf=2, model__min_samples_split=5, model__n_estimators=261; total time=  17.0s\n",
      "[CV] END model__max_depth=5, model__min_samples_leaf=2, model__min_samples_split=5, model__n_estimators=261; total time=  15.9s\n",
      "[CV] END model__max_depth=5, model__min_samples_leaf=2, model__min_samples_split=5, model__n_estimators=261; total time=  16.5s\n",
      "[CV] END model__max_depth=13, model__min_samples_leaf=4, model__min_samples_split=7, model__n_estimators=290; total time=  37.9s\n",
      "[CV] END model__max_depth=13, model__min_samples_leaf=4, model__min_samples_split=7, model__n_estimators=290; total time=  38.4s\n",
      "[CV] END model__max_depth=13, model__min_samples_leaf=4, model__min_samples_split=7, model__n_estimators=290; total time=  38.6s\n",
      "[CV] END model__max_depth=5, model__min_samples_leaf=3, model__min_samples_split=6, model__n_estimators=379; total time=  25.9s\n",
      "[CV] END model__max_depth=5, model__min_samples_leaf=3, model__min_samples_split=6, model__n_estimators=379; total time=  26.5s\n",
      "[CV] END model__max_depth=5, model__min_samples_leaf=3, model__min_samples_split=6, model__n_estimators=379; total time=  26.9s\n",
      "[CV] END model__max_depth=11, model__min_samples_leaf=2, model__min_samples_split=8, model__n_estimators=351; total time=  42.1s\n",
      "[CV] END model__max_depth=11, model__min_samples_leaf=2, model__min_samples_split=8, model__n_estimators=351; total time=  42.3s\n",
      "[CV] END model__max_depth=11, model__min_samples_leaf=2, model__min_samples_split=8, model__n_estimators=351; total time=  41.9s\n",
      "[CV] END model__max_depth=12, model__min_samples_leaf=2, model__min_samples_split=9, model__n_estimators=312; total time=  40.4s\n",
      "[CV] END model__max_depth=12, model__min_samples_leaf=2, model__min_samples_split=9, model__n_estimators=312; total time=  40.4s\n",
      "[CV] END model__max_depth=12, model__min_samples_leaf=2, model__min_samples_split=9, model__n_estimators=312; total time=  40.6s\n",
      "[CV] END model__max_depth=13, model__min_samples_leaf=2, model__min_samples_split=5, model__n_estimators=369; total time=  47.4s\n",
      "[CV] END model__max_depth=13, model__min_samples_leaf=2, model__min_samples_split=5, model__n_estimators=369; total time=  47.2s\n",
      "[CV] END model__max_depth=13, model__min_samples_leaf=2, model__min_samples_split=5, model__n_estimators=369; total time=  46.4s\n",
      "[CV] END model__max_depth=13, model__min_samples_leaf=1, model__min_samples_split=5, model__n_estimators=287; total time=  35.0s\n",
      "[CV] END model__max_depth=13, model__min_samples_leaf=1, model__min_samples_split=5, model__n_estimators=287; total time=  24.4s\n",
      "[CV] END model__max_depth=13, model__min_samples_leaf=1, model__min_samples_split=5, model__n_estimators=287; total time=  23.0s\n",
      "Best parameters (random search): {'model__max_depth': 8, 'model__min_samples_leaf': 2, 'model__min_samples_split': 9, 'model__n_estimators': 393}\n",
      "Best CV R²: 0.04770649155200953\n"
     ]
    }
   ],
   "source": [
    "# Broad parameter ranges\n",
    "param_dist = {\n",
    "    'model__n_estimators': randint(100, 400),\n",
    "    'model__max_depth': randint(4, 16),\n",
    "    'model__min_samples_split': randint(2, 10),\n",
    "    'model__min_samples_leaf': randint(1, 5)\n",
    "}\n",
    "\n",
    "random_search = RandomizedSearchCV(\n",
    "    estimator=random_forest_pipeline,\n",
    "    param_distributions=param_dist,\n",
    "    n_iter=25,          # number of random combinations to test\n",
    "    scoring='r2',\n",
    "    cv=3,               # fewer folds = faster\n",
    "    n_jobs=-1,\n",
    "    random_state=42,\n",
    "    verbose=2\n",
    ")\n",
    "\n",
    "random_search.fit(X_train, y_train)\n",
    "\n",
    "print(\"Best parameters (random search):\", random_search.best_params_)\n",
    "print(\"Best CV R²:\", random_search.best_score_)\n",
    "\n",
    "# (Optional) Save for later\n",
    "joblib.dump(random_search, \"random_search_rf.pkl\")\n",
    "\n",
    "# Store the best params for grid refinement\n",
    "best = random_search.best_params_"
   ]
  },
  {
   "cell_type": "markdown",
   "id": "b8295222",
   "metadata": {},
   "source": [
    "### Fase 2: GridSearchCV "
   ]
  },
  {
   "cell_type": "code",
   "execution_count": null,
   "id": "c14d86d4",
   "metadata": {},
   "outputs": [
    {
     "name": "stdout",
     "output_type": "stream",
     "text": [
      "Fitting 5 folds for each of 81 candidates, totalling 405 fits\n",
      "[CV] END model__max_depth=6, model__min_samples_leaf=1, model__min_samples_split=8, model__n_estimators=343; total time=  29.8s\n",
      "[CV] END model__max_depth=6, model__min_samples_leaf=1, model__min_samples_split=8, model__n_estimators=343; total time=  30.1s\n",
      "[CV] END model__max_depth=6, model__min_samples_leaf=1, model__min_samples_split=8, model__n_estimators=343; total time=  30.3s\n",
      "[CV] END model__max_depth=6, model__min_samples_leaf=1, model__min_samples_split=8, model__n_estimators=343; total time=  30.3s\n",
      "[CV] END model__max_depth=6, model__min_samples_leaf=1, model__min_samples_split=8, model__n_estimators=343; total time=  30.8s\n",
      "[CV] END model__max_depth=6, model__min_samples_leaf=1, model__min_samples_split=9, model__n_estimators=343; total time=  32.9s\n",
      "[CV] END model__max_depth=6, model__min_samples_leaf=1, model__min_samples_split=8, model__n_estimators=393; total time=  34.0s\n",
      "[CV] END model__max_depth=6, model__min_samples_leaf=1, model__min_samples_split=8, model__n_estimators=393; total time=  34.2s\n",
      "[CV] END model__max_depth=6, model__min_samples_leaf=1, model__min_samples_split=8, model__n_estimators=393; total time=  34.2s\n",
      "[CV] END model__max_depth=6, model__min_samples_leaf=1, model__min_samples_split=8, model__n_estimators=393; total time=  34.2s\n",
      "[CV] END model__max_depth=6, model__min_samples_leaf=1, model__min_samples_split=8, model__n_estimators=393; total time=  34.4s\n",
      "[CV] END model__max_depth=6, model__min_samples_leaf=1, model__min_samples_split=8, model__n_estimators=443; total time=  37.6s\n",
      "[CV] END model__max_depth=6, model__min_samples_leaf=1, model__min_samples_split=8, model__n_estimators=443; total time=  37.7s\n",
      "[CV] END model__max_depth=6, model__min_samples_leaf=1, model__min_samples_split=8, model__n_estimators=443; total time=  37.8s\n",
      "[CV] END model__max_depth=6, model__min_samples_leaf=1, model__min_samples_split=8, model__n_estimators=443; total time=  37.9s\n",
      "[CV] END model__max_depth=6, model__min_samples_leaf=1, model__min_samples_split=8, model__n_estimators=443; total time=  38.2s\n",
      "[CV] END model__max_depth=6, model__min_samples_leaf=1, model__min_samples_split=9, model__n_estimators=343; total time=  30.1s\n",
      "[CV] END model__max_depth=6, model__min_samples_leaf=1, model__min_samples_split=9, model__n_estimators=343; total time=  30.2s\n",
      "[CV] END model__max_depth=6, model__min_samples_leaf=1, model__min_samples_split=9, model__n_estimators=343; total time=  30.3s\n",
      "[CV] END model__max_depth=6, model__min_samples_leaf=1, model__min_samples_split=9, model__n_estimators=343; total time=  30.5s\n",
      "[CV] END model__max_depth=6, model__min_samples_leaf=1, model__min_samples_split=9, model__n_estimators=393; total time=  33.8s\n",
      "[CV] END model__max_depth=6, model__min_samples_leaf=1, model__min_samples_split=9, model__n_estimators=393; total time=  34.3s\n",
      "[CV] END model__max_depth=6, model__min_samples_leaf=1, model__min_samples_split=9, model__n_estimators=393; total time=  34.7s\n",
      "[CV] END model__max_depth=6, model__min_samples_leaf=1, model__min_samples_split=9, model__n_estimators=393; total time=  34.6s\n",
      "[CV] END model__max_depth=6, model__min_samples_leaf=1, model__min_samples_split=9, model__n_estimators=393; total time=  35.0s\n",
      "[CV] END model__max_depth=6, model__min_samples_leaf=1, model__min_samples_split=10, model__n_estimators=343; total time=  32.1s\n",
      "[CV] END model__max_depth=6, model__min_samples_leaf=1, model__min_samples_split=10, model__n_estimators=343; total time=  32.1s\n",
      "[CV] END model__max_depth=6, model__min_samples_leaf=1, model__min_samples_split=9, model__n_estimators=443; total time=  37.6s\n",
      "[CV] END model__max_depth=6, model__min_samples_leaf=1, model__min_samples_split=9, model__n_estimators=443; total time=  38.1s\n",
      "[CV] END model__max_depth=6, model__min_samples_leaf=1, model__min_samples_split=9, model__n_estimators=443; total time=  37.8s\n",
      "[CV] END model__max_depth=6, model__min_samples_leaf=1, model__min_samples_split=9, model__n_estimators=443; total time=  38.2s\n",
      "[CV] END model__max_depth=6, model__min_samples_leaf=1, model__min_samples_split=9, model__n_estimators=443; total time=  38.3s\n",
      "[CV] END model__max_depth=6, model__min_samples_leaf=1, model__min_samples_split=10, model__n_estimators=343; total time=  29.8s\n",
      "[CV] END model__max_depth=6, model__min_samples_leaf=1, model__min_samples_split=10, model__n_estimators=343; total time=  30.0s\n",
      "[CV] END model__max_depth=6, model__min_samples_leaf=1, model__min_samples_split=10, model__n_estimators=343; total time=  30.0s\n",
      "[CV] END model__max_depth=6, model__min_samples_leaf=1, model__min_samples_split=10, model__n_estimators=393; total time=  33.6s\n",
      "[CV] END model__max_depth=6, model__min_samples_leaf=1, model__min_samples_split=10, model__n_estimators=393; total time=  34.5s\n",
      "[CV] END model__max_depth=6, model__min_samples_leaf=1, model__min_samples_split=10, model__n_estimators=393; total time=  34.6s\n",
      "[CV] END model__max_depth=6, model__min_samples_leaf=1, model__min_samples_split=10, model__n_estimators=393; total time=  34.4s\n",
      "[CV] END model__max_depth=6, model__min_samples_leaf=1, model__min_samples_split=10, model__n_estimators=393; total time=  34.5s\n",
      "[CV] END model__max_depth=6, model__min_samples_leaf=2, model__min_samples_split=8, model__n_estimators=343; total time=  31.9s\n",
      "[CV] END model__max_depth=6, model__min_samples_leaf=1, model__min_samples_split=10, model__n_estimators=443; total time=  38.4s\n",
      "[CV] END model__max_depth=6, model__min_samples_leaf=2, model__min_samples_split=8, model__n_estimators=343; total time=  32.3s\n",
      "[CV] END model__max_depth=6, model__min_samples_leaf=2, model__min_samples_split=8, model__n_estimators=343; total time=  32.1s\n",
      "[CV] END model__max_depth=6, model__min_samples_leaf=1, model__min_samples_split=10, model__n_estimators=443; total time=  38.6s\n",
      "[CV] END model__max_depth=6, model__min_samples_leaf=1, model__min_samples_split=10, model__n_estimators=443; total time=  38.6s\n",
      "[CV] END model__max_depth=6, model__min_samples_leaf=1, model__min_samples_split=10, model__n_estimators=443; total time=  38.5s\n",
      "[CV] END model__max_depth=6, model__min_samples_leaf=1, model__min_samples_split=10, model__n_estimators=443; total time=  38.6s\n",
      "[CV] END model__max_depth=6, model__min_samples_leaf=2, model__min_samples_split=8, model__n_estimators=343; total time=  30.0s\n",
      "[CV] END model__max_depth=6, model__min_samples_leaf=2, model__min_samples_split=8, model__n_estimators=343; total time=  30.3s\n",
      "[CV] END model__max_depth=6, model__min_samples_leaf=2, model__min_samples_split=8, model__n_estimators=393; total time=  34.1s\n",
      "[CV] END model__max_depth=6, model__min_samples_leaf=2, model__min_samples_split=8, model__n_estimators=393; total time=  34.7s\n",
      "[CV] END model__max_depth=6, model__min_samples_leaf=2, model__min_samples_split=8, model__n_estimators=393; total time=  34.9s\n",
      "[CV] END model__max_depth=6, model__min_samples_leaf=2, model__min_samples_split=8, model__n_estimators=393; total time=  34.9s\n",
      "[CV] END model__max_depth=6, model__min_samples_leaf=2, model__min_samples_split=8, model__n_estimators=393; total time=  34.9s\n",
      "[CV] END model__max_depth=6, model__min_samples_leaf=2, model__min_samples_split=9, model__n_estimators=343; total time=  31.5s\n",
      "[CV] END model__max_depth=6, model__min_samples_leaf=2, model__min_samples_split=9, model__n_estimators=343; total time=  31.8s\n",
      "[CV] END model__max_depth=6, model__min_samples_leaf=2, model__min_samples_split=8, model__n_estimators=443; total time=  38.6s\n",
      "[CV] END model__max_depth=6, model__min_samples_leaf=2, model__min_samples_split=9, model__n_estimators=343; total time=  31.8s\n",
      "[CV] END model__max_depth=6, model__min_samples_leaf=2, model__min_samples_split=9, model__n_estimators=343; total time=  31.7s\n",
      "[CV] END model__max_depth=6, model__min_samples_leaf=2, model__min_samples_split=8, model__n_estimators=443; total time=  37.5s\n",
      "[CV] END model__max_depth=6, model__min_samples_leaf=2, model__min_samples_split=8, model__n_estimators=443; total time=  37.3s\n",
      "[CV] END model__max_depth=6, model__min_samples_leaf=2, model__min_samples_split=8, model__n_estimators=443; total time=  37.8s\n",
      "[CV] END model__max_depth=6, model__min_samples_leaf=2, model__min_samples_split=8, model__n_estimators=443; total time=  38.1s\n",
      "[CV] END model__max_depth=6, model__min_samples_leaf=2, model__min_samples_split=9, model__n_estimators=343; total time=  29.6s\n",
      "[CV] END model__max_depth=6, model__min_samples_leaf=2, model__min_samples_split=9, model__n_estimators=393; total time=  34.2s\n",
      "[CV] END model__max_depth=6, model__min_samples_leaf=2, model__min_samples_split=9, model__n_estimators=393; total time=  34.2s\n",
      "[CV] END model__max_depth=6, model__min_samples_leaf=2, model__min_samples_split=9, model__n_estimators=393; total time=  34.4s\n",
      "[CV] END model__max_depth=6, model__min_samples_leaf=2, model__min_samples_split=9, model__n_estimators=393; total time=  34.2s\n",
      "[CV] END model__max_depth=6, model__min_samples_leaf=2, model__min_samples_split=9, model__n_estimators=393; total time=  34.4s\n",
      "[CV] END model__max_depth=6, model__min_samples_leaf=2, model__min_samples_split=10, model__n_estimators=343; total time=  31.5s\n",
      "[CV] END model__max_depth=6, model__min_samples_leaf=2, model__min_samples_split=9, model__n_estimators=443; total time=  38.2s\n",
      "[CV] END model__max_depth=6, model__min_samples_leaf=2, model__min_samples_split=10, model__n_estimators=343; total time=  31.9s\n",
      "[CV] END model__max_depth=6, model__min_samples_leaf=2, model__min_samples_split=10, model__n_estimators=343; total time=  31.8s\n",
      "[CV] END model__max_depth=6, model__min_samples_leaf=2, model__min_samples_split=10, model__n_estimators=343; total time=  32.0s\n",
      "[CV] END model__max_depth=6, model__min_samples_leaf=2, model__min_samples_split=10, model__n_estimators=343; total time=  31.3s\n",
      "[CV] END model__max_depth=6, model__min_samples_leaf=2, model__min_samples_split=9, model__n_estimators=443; total time=  38.0s\n",
      "[CV] END model__max_depth=6, model__min_samples_leaf=2, model__min_samples_split=9, model__n_estimators=443; total time=  37.7s\n",
      "[CV] END model__max_depth=6, model__min_samples_leaf=2, model__min_samples_split=9, model__n_estimators=443; total time=  37.4s\n",
      "[CV] END model__max_depth=6, model__min_samples_leaf=2, model__min_samples_split=9, model__n_estimators=443; total time=  37.4s\n",
      "[CV] END model__max_depth=6, model__min_samples_leaf=2, model__min_samples_split=10, model__n_estimators=393; total time=  34.1s\n",
      "[CV] END model__max_depth=6, model__min_samples_leaf=2, model__min_samples_split=10, model__n_estimators=393; total time=  34.5s\n",
      "[CV] END model__max_depth=6, model__min_samples_leaf=2, model__min_samples_split=10, model__n_estimators=393; total time=  34.4s\n",
      "[CV] END model__max_depth=6, model__min_samples_leaf=2, model__min_samples_split=10, model__n_estimators=393; total time=  35.0s\n",
      "[CV] END model__max_depth=6, model__min_samples_leaf=2, model__min_samples_split=10, model__n_estimators=393; total time=  35.2s\n",
      "[CV] END model__max_depth=6, model__min_samples_leaf=3, model__min_samples_split=8, model__n_estimators=343; total time=  31.8s\n",
      "[CV] END model__max_depth=6, model__min_samples_leaf=3, model__min_samples_split=8, model__n_estimators=343; total time=  32.0s\n",
      "[CV] END model__max_depth=6, model__min_samples_leaf=3, model__min_samples_split=8, model__n_estimators=343; total time=  31.9s\n",
      "[CV] END model__max_depth=6, model__min_samples_leaf=2, model__min_samples_split=10, model__n_estimators=443; total time=  38.7s\n",
      "[CV] END model__max_depth=6, model__min_samples_leaf=3, model__min_samples_split=8, model__n_estimators=343; total time=  31.7s\n",
      "[CV] END model__max_depth=6, model__min_samples_leaf=3, model__min_samples_split=8, model__n_estimators=343; total time=  32.2s\n",
      "[CV] END model__max_depth=6, model__min_samples_leaf=2, model__min_samples_split=10, model__n_estimators=443; total time=  38.2s\n",
      "[CV] END model__max_depth=6, model__min_samples_leaf=2, model__min_samples_split=10, model__n_estimators=443; total time=  37.3s\n",
      "[CV] END model__max_depth=6, model__min_samples_leaf=3, model__min_samples_split=8, model__n_estimators=393; total time=  34.7s\n",
      "[CV] END model__max_depth=6, model__min_samples_leaf=2, model__min_samples_split=10, model__n_estimators=443; total time=  37.6s\n",
      "[CV] END model__max_depth=6, model__min_samples_leaf=2, model__min_samples_split=10, model__n_estimators=443; total time=  37.7s\n",
      "[CV] END model__max_depth=6, model__min_samples_leaf=3, model__min_samples_split=8, model__n_estimators=393; total time=  35.3s\n",
      "[CV] END model__max_depth=6, model__min_samples_leaf=3, model__min_samples_split=8, model__n_estimators=393; total time=  35.3s\n",
      "[CV] END model__max_depth=6, model__min_samples_leaf=3, model__min_samples_split=8, model__n_estimators=393; total time=  35.2s\n",
      "[CV] END model__max_depth=6, model__min_samples_leaf=3, model__min_samples_split=8, model__n_estimators=393; total time=  34.8s\n",
      "[CV] END model__max_depth=6, model__min_samples_leaf=3, model__min_samples_split=9, model__n_estimators=343; total time=  30.8s\n",
      "[CV] END model__max_depth=6, model__min_samples_leaf=3, model__min_samples_split=9, model__n_estimators=343; total time=  30.9s\n",
      "[CV] END model__max_depth=6, model__min_samples_leaf=3, model__min_samples_split=8, model__n_estimators=443; total time=  38.9s\n",
      "[CV] END model__max_depth=6, model__min_samples_leaf=3, model__min_samples_split=9, model__n_estimators=343; total time=  31.4s\n",
      "[CV] END model__max_depth=6, model__min_samples_leaf=3, model__min_samples_split=9, model__n_estimators=343; total time=  31.3s\n",
      "[CV] END model__max_depth=6, model__min_samples_leaf=3, model__min_samples_split=9, model__n_estimators=343; total time=  31.7s\n",
      "[CV] END model__max_depth=6, model__min_samples_leaf=3, model__min_samples_split=8, model__n_estimators=443; total time=  37.3s\n",
      "[CV] END model__max_depth=6, model__min_samples_leaf=3, model__min_samples_split=8, model__n_estimators=443; total time=  37.2s\n",
      "[CV] END model__max_depth=6, model__min_samples_leaf=3, model__min_samples_split=8, model__n_estimators=443; total time=  37.1s\n",
      "[CV] END model__max_depth=6, model__min_samples_leaf=3, model__min_samples_split=8, model__n_estimators=443; total time=  37.0s\n",
      "[CV] END model__max_depth=6, model__min_samples_leaf=3, model__min_samples_split=9, model__n_estimators=393; total time=  34.0s\n",
      "[CV] END model__max_depth=6, model__min_samples_leaf=3, model__min_samples_split=9, model__n_estimators=393; total time=  33.9s\n",
      "[CV] END model__max_depth=6, model__min_samples_leaf=3, model__min_samples_split=9, model__n_estimators=393; total time=  33.8s\n",
      "[CV] END model__max_depth=6, model__min_samples_leaf=3, model__min_samples_split=9, model__n_estimators=393; total time=  33.3s\n",
      "[CV] END model__max_depth=6, model__min_samples_leaf=3, model__min_samples_split=9, model__n_estimators=393; total time=  33.7s\n",
      "[CV] END model__max_depth=6, model__min_samples_leaf=3, model__min_samples_split=9, model__n_estimators=443; total time=  38.4s\n",
      "[CV] END model__max_depth=6, model__min_samples_leaf=3, model__min_samples_split=10, model__n_estimators=343; total time=  30.5s\n",
      "[CV] END model__max_depth=6, model__min_samples_leaf=3, model__min_samples_split=10, model__n_estimators=343; total time=  30.8s\n",
      "[CV] END model__max_depth=6, model__min_samples_leaf=3, model__min_samples_split=10, model__n_estimators=343; total time=  31.2s\n",
      "[CV] END model__max_depth=6, model__min_samples_leaf=3, model__min_samples_split=10, model__n_estimators=343; total time=  30.9s\n",
      "[CV] END model__max_depth=6, model__min_samples_leaf=3, model__min_samples_split=10, model__n_estimators=343; total time=  31.1s\n",
      "[CV] END model__max_depth=6, model__min_samples_leaf=3, model__min_samples_split=9, model__n_estimators=443; total time=  37.7s\n",
      "[CV] END model__max_depth=6, model__min_samples_leaf=3, model__min_samples_split=9, model__n_estimators=443; total time=  36.9s\n",
      "[CV] END model__max_depth=6, model__min_samples_leaf=3, model__min_samples_split=9, model__n_estimators=443; total time=  37.0s\n",
      "[CV] END model__max_depth=6, model__min_samples_leaf=3, model__min_samples_split=10, model__n_estimators=393; total time=  33.7s\n",
      "[CV] END model__max_depth=6, model__min_samples_leaf=3, model__min_samples_split=9, model__n_estimators=443; total time=  36.9s\n",
      "[CV] END model__max_depth=6, model__min_samples_leaf=3, model__min_samples_split=10, model__n_estimators=393; total time=  34.1s\n",
      "[CV] END model__max_depth=6, model__min_samples_leaf=3, model__min_samples_split=10, model__n_estimators=393; total time=  34.3s\n",
      "[CV] END model__max_depth=6, model__min_samples_leaf=3, model__min_samples_split=10, model__n_estimators=393; total time=  34.2s\n",
      "[CV] END model__max_depth=6, model__min_samples_leaf=3, model__min_samples_split=10, model__n_estimators=393; total time=  34.8s\n",
      "[CV] END model__max_depth=6, model__min_samples_leaf=3, model__min_samples_split=10, model__n_estimators=443; total time=  39.1s\n",
      "[CV] END model__max_depth=6, model__min_samples_leaf=3, model__min_samples_split=10, model__n_estimators=443; total time=  38.4s\n",
      "[CV] END model__max_depth=6, model__min_samples_leaf=3, model__min_samples_split=10, model__n_estimators=443; total time=  38.1s\n",
      "[CV] END model__max_depth=6, model__min_samples_leaf=3, model__min_samples_split=10, model__n_estimators=443; total time=  38.3s\n",
      "[CV] END model__max_depth=6, model__min_samples_leaf=3, model__min_samples_split=10, model__n_estimators=443; total time=  38.7s\n",
      "[CV] END model__max_depth=8, model__min_samples_leaf=1, model__min_samples_split=8, model__n_estimators=343; total time=  39.2s\n",
      "[CV] END model__max_depth=8, model__min_samples_leaf=1, model__min_samples_split=8, model__n_estimators=343; total time=  39.1s\n",
      "[CV] END model__max_depth=8, model__min_samples_leaf=1, model__min_samples_split=8, model__n_estimators=343; total time=  38.9s\n",
      "[CV] END model__max_depth=8, model__min_samples_leaf=1, model__min_samples_split=8, model__n_estimators=343; total time=  38.7s\n",
      "[CV] END model__max_depth=8, model__min_samples_leaf=1, model__min_samples_split=8, model__n_estimators=343; total time=  38.9s\n",
      "[CV] END model__max_depth=8, model__min_samples_leaf=1, model__min_samples_split=8, model__n_estimators=393; total time=  44.3s\n",
      "[CV] END model__max_depth=8, model__min_samples_leaf=1, model__min_samples_split=8, model__n_estimators=393; total time=  44.1s\n",
      "[CV] END model__max_depth=8, model__min_samples_leaf=1, model__min_samples_split=8, model__n_estimators=393; total time=  44.4s\n",
      "[CV] END model__max_depth=8, model__min_samples_leaf=1, model__min_samples_split=8, model__n_estimators=393; total time=  44.6s\n",
      "[CV] END model__max_depth=8, model__min_samples_leaf=1, model__min_samples_split=8, model__n_estimators=393; total time=  44.8s\n",
      "[CV] END model__max_depth=8, model__min_samples_leaf=1, model__min_samples_split=8, model__n_estimators=443; total time=  50.6s\n",
      "[CV] END model__max_depth=8, model__min_samples_leaf=1, model__min_samples_split=8, model__n_estimators=443; total time=  50.4s\n",
      "[CV] END model__max_depth=8, model__min_samples_leaf=1, model__min_samples_split=9, model__n_estimators=343; total time=  40.0s\n",
      "[CV] END model__max_depth=8, model__min_samples_leaf=1, model__min_samples_split=9, model__n_estimators=343; total time=  39.9s\n",
      "[CV] END model__max_depth=8, model__min_samples_leaf=1, model__min_samples_split=9, model__n_estimators=343; total time=  40.2s\n",
      "[CV] END model__max_depth=8, model__min_samples_leaf=1, model__min_samples_split=9, model__n_estimators=343; total time=  40.2s\n",
      "[CV] END model__max_depth=8, model__min_samples_leaf=1, model__min_samples_split=9, model__n_estimators=343; total time=  40.1s\n",
      "[CV] END model__max_depth=8, model__min_samples_leaf=1, model__min_samples_split=8, model__n_estimators=443; total time=  49.2s\n",
      "[CV] END model__max_depth=8, model__min_samples_leaf=1, model__min_samples_split=8, model__n_estimators=443; total time=  48.0s\n",
      "[CV] END model__max_depth=8, model__min_samples_leaf=1, model__min_samples_split=9, model__n_estimators=393; total time=  44.2s\n",
      "[CV] END model__max_depth=8, model__min_samples_leaf=1, model__min_samples_split=8, model__n_estimators=443; total time=  48.1s\n",
      "[CV] END model__max_depth=8, model__min_samples_leaf=1, model__min_samples_split=9, model__n_estimators=393; total time=  44.3s\n",
      "[CV] END model__max_depth=8, model__min_samples_leaf=1, model__min_samples_split=9, model__n_estimators=393; total time=  44.3s\n",
      "[CV] END model__max_depth=8, model__min_samples_leaf=1, model__min_samples_split=9, model__n_estimators=393; total time=  44.5s\n",
      "[CV] END model__max_depth=8, model__min_samples_leaf=1, model__min_samples_split=9, model__n_estimators=393; total time=  44.8s\n",
      "[CV] END model__max_depth=8, model__min_samples_leaf=1, model__min_samples_split=9, model__n_estimators=443; total time=  50.7s\n",
      "[CV] END model__max_depth=8, model__min_samples_leaf=1, model__min_samples_split=9, model__n_estimators=443; total time=  50.4s\n",
      "[CV] END model__max_depth=8, model__min_samples_leaf=1, model__min_samples_split=10, model__n_estimators=343; total time=  39.9s\n",
      "[CV] END model__max_depth=8, model__min_samples_leaf=1, model__min_samples_split=10, model__n_estimators=343; total time=  40.3s\n",
      "[CV] END model__max_depth=8, model__min_samples_leaf=1, model__min_samples_split=10, model__n_estimators=343; total time=  40.3s\n",
      "[CV] END model__max_depth=8, model__min_samples_leaf=1, model__min_samples_split=10, model__n_estimators=343; total time=  40.1s\n",
      "[CV] END model__max_depth=8, model__min_samples_leaf=1, model__min_samples_split=9, model__n_estimators=443; total time=  49.4s\n",
      "[CV] END model__max_depth=8, model__min_samples_leaf=1, model__min_samples_split=10, model__n_estimators=343; total time=  40.4s\n",
      "[CV] END model__max_depth=8, model__min_samples_leaf=1, model__min_samples_split=9, model__n_estimators=443; total time=  48.4s\n",
      "[CV] END model__max_depth=8, model__min_samples_leaf=1, model__min_samples_split=9, model__n_estimators=443; total time=  48.8s\n",
      "[CV] END model__max_depth=8, model__min_samples_leaf=1, model__min_samples_split=10, model__n_estimators=393; total time=  44.5s\n",
      "[CV] END model__max_depth=8, model__min_samples_leaf=1, model__min_samples_split=10, model__n_estimators=393; total time=  44.9s\n",
      "[CV] END model__max_depth=8, model__min_samples_leaf=1, model__min_samples_split=10, model__n_estimators=393; total time=  44.2s\n",
      "[CV] END model__max_depth=8, model__min_samples_leaf=1, model__min_samples_split=10, model__n_estimators=393; total time=  44.4s\n",
      "[CV] END model__max_depth=8, model__min_samples_leaf=1, model__min_samples_split=10, model__n_estimators=393; total time=  44.1s\n",
      "[CV] END model__max_depth=8, model__min_samples_leaf=1, model__min_samples_split=10, model__n_estimators=443; total time=  49.2s\n",
      "[CV] END model__max_depth=8, model__min_samples_leaf=1, model__min_samples_split=10, model__n_estimators=443; total time=  50.2s\n",
      "[CV] END model__max_depth=8, model__min_samples_leaf=2, model__min_samples_split=8, model__n_estimators=343; total time=  39.2s\n",
      "[CV] END model__max_depth=8, model__min_samples_leaf=2, model__min_samples_split=8, model__n_estimators=343; total time=  39.2s\n",
      "[CV] END model__max_depth=8, model__min_samples_leaf=2, model__min_samples_split=8, model__n_estimators=343; total time=  39.5s\n",
      "[CV] END model__max_depth=8, model__min_samples_leaf=2, model__min_samples_split=8, model__n_estimators=343; total time=  39.3s\n",
      "[CV] END model__max_depth=8, model__min_samples_leaf=1, model__min_samples_split=10, model__n_estimators=443; total time=  48.6s\n",
      "[CV] END model__max_depth=8, model__min_samples_leaf=2, model__min_samples_split=8, model__n_estimators=343; total time=  39.4s\n",
      "[CV] END model__max_depth=8, model__min_samples_leaf=1, model__min_samples_split=10, model__n_estimators=443; total time=  47.7s\n",
      "[CV] END model__max_depth=8, model__min_samples_leaf=1, model__min_samples_split=10, model__n_estimators=443; total time=  48.0s\n",
      "[CV] END model__max_depth=8, model__min_samples_leaf=2, model__min_samples_split=8, model__n_estimators=393; total time=  43.6s\n",
      "[CV] END model__max_depth=8, model__min_samples_leaf=2, model__min_samples_split=8, model__n_estimators=393; total time=  43.8s\n",
      "[CV] END model__max_depth=8, model__min_samples_leaf=2, model__min_samples_split=8, model__n_estimators=393; total time=  43.6s\n",
      "[CV] END model__max_depth=8, model__min_samples_leaf=2, model__min_samples_split=8, model__n_estimators=393; total time=  44.2s\n",
      "[CV] END model__max_depth=8, model__min_samples_leaf=2, model__min_samples_split=8, model__n_estimators=393; total time=  44.2s\n",
      "[CV] END model__max_depth=8, model__min_samples_leaf=2, model__min_samples_split=8, model__n_estimators=443; total time=  49.8s\n",
      "[CV] END model__max_depth=8, model__min_samples_leaf=2, model__min_samples_split=8, model__n_estimators=443; total time=  49.9s\n",
      "[CV] END model__max_depth=8, model__min_samples_leaf=2, model__min_samples_split=9, model__n_estimators=343; total time=  39.2s\n",
      "[CV] END model__max_depth=8, model__min_samples_leaf=2, model__min_samples_split=9, model__n_estimators=343; total time=  39.1s\n",
      "[CV] END model__max_depth=8, model__min_samples_leaf=2, model__min_samples_split=9, model__n_estimators=343; total time=  39.4s\n",
      "[CV] END model__max_depth=8, model__min_samples_leaf=2, model__min_samples_split=8, model__n_estimators=443; total time=  49.2s\n",
      "[CV] END model__max_depth=8, model__min_samples_leaf=2, model__min_samples_split=9, model__n_estimators=343; total time=  39.5s\n",
      "[CV] END model__max_depth=8, model__min_samples_leaf=2, model__min_samples_split=9, model__n_estimators=343; total time=  39.5s\n",
      "[CV] END model__max_depth=8, model__min_samples_leaf=2, model__min_samples_split=8, model__n_estimators=443; total time=  48.3s\n",
      "[CV] END model__max_depth=8, model__min_samples_leaf=2, model__min_samples_split=8, model__n_estimators=443; total time=  48.3s\n",
      "[CV] END model__max_depth=8, model__min_samples_leaf=2, model__min_samples_split=9, model__n_estimators=393; total time=  44.3s\n",
      "[CV] END model__max_depth=8, model__min_samples_leaf=2, model__min_samples_split=9, model__n_estimators=393; total time=  44.3s\n",
      "[CV] END model__max_depth=8, model__min_samples_leaf=2, model__min_samples_split=9, model__n_estimators=393; total time=  44.5s\n",
      "[CV] END model__max_depth=8, model__min_samples_leaf=2, model__min_samples_split=9, model__n_estimators=393; total time=  44.3s\n",
      "[CV] END model__max_depth=8, model__min_samples_leaf=2, model__min_samples_split=9, model__n_estimators=393; total time=  45.0s\n",
      "[CV] END model__max_depth=8, model__min_samples_leaf=2, model__min_samples_split=9, model__n_estimators=443; total time=  50.3s\n",
      "[CV] END model__max_depth=8, model__min_samples_leaf=2, model__min_samples_split=9, model__n_estimators=443; total time=  50.7s\n",
      "[CV] END model__max_depth=8, model__min_samples_leaf=2, model__min_samples_split=9, model__n_estimators=443; total time=  50.3s\n",
      "[CV] END model__max_depth=8, model__min_samples_leaf=2, model__min_samples_split=10, model__n_estimators=343; total time=  39.5s\n",
      "[CV] END model__max_depth=8, model__min_samples_leaf=2, model__min_samples_split=10, model__n_estimators=343; total time=  39.5s\n",
      "[CV] END model__max_depth=8, model__min_samples_leaf=2, model__min_samples_split=10, model__n_estimators=343; total time=  39.5s\n",
      "[CV] END model__max_depth=8, model__min_samples_leaf=2, model__min_samples_split=10, model__n_estimators=343; total time=  39.3s\n",
      "[CV] END model__max_depth=8, model__min_samples_leaf=2, model__min_samples_split=10, model__n_estimators=343; total time=  39.3s\n",
      "[CV] END model__max_depth=8, model__min_samples_leaf=2, model__min_samples_split=9, model__n_estimators=443; total time=  48.2s\n",
      "[CV] END model__max_depth=8, model__min_samples_leaf=2, model__min_samples_split=9, model__n_estimators=443; total time=  48.2s\n",
      "[CV] END model__max_depth=8, model__min_samples_leaf=2, model__min_samples_split=10, model__n_estimators=393; total time=  44.1s\n",
      "[CV] END model__max_depth=8, model__min_samples_leaf=2, model__min_samples_split=10, model__n_estimators=393; total time=  43.6s\n",
      "[CV] END model__max_depth=8, model__min_samples_leaf=2, model__min_samples_split=10, model__n_estimators=393; total time=  43.5s\n",
      "[CV] END model__max_depth=8, model__min_samples_leaf=2, model__min_samples_split=10, model__n_estimators=393; total time=  43.5s\n",
      "[CV] END model__max_depth=8, model__min_samples_leaf=2, model__min_samples_split=10, model__n_estimators=393; total time=  43.7s\n",
      "[CV] END model__max_depth=8, model__min_samples_leaf=2, model__min_samples_split=10, model__n_estimators=443; total time=  49.3s\n",
      "[CV] END model__max_depth=8, model__min_samples_leaf=2, model__min_samples_split=10, model__n_estimators=443; total time=  50.3s\n",
      "[CV] END model__max_depth=8, model__min_samples_leaf=3, model__min_samples_split=8, model__n_estimators=343; total time=  38.9s\n",
      "[CV] END model__max_depth=8, model__min_samples_leaf=3, model__min_samples_split=8, model__n_estimators=343; total time=  39.1s\n",
      "[CV] END model__max_depth=8, model__min_samples_leaf=3, model__min_samples_split=8, model__n_estimators=343; total time=  39.3s\n",
      "[CV] END model__max_depth=8, model__min_samples_leaf=2, model__min_samples_split=10, model__n_estimators=443; total time=  48.4s\n",
      "[CV] END model__max_depth=8, model__min_samples_leaf=3, model__min_samples_split=8, model__n_estimators=343; total time=  39.6s\n",
      "[CV] END model__max_depth=8, model__min_samples_leaf=3, model__min_samples_split=8, model__n_estimators=343; total time=  39.3s\n",
      "[CV] END model__max_depth=8, model__min_samples_leaf=2, model__min_samples_split=10, model__n_estimators=443; total time=  48.1s\n",
      "[CV] END model__max_depth=8, model__min_samples_leaf=2, model__min_samples_split=10, model__n_estimators=443; total time=  48.2s\n",
      "[CV] END model__max_depth=8, model__min_samples_leaf=3, model__min_samples_split=8, model__n_estimators=393; total time=  44.1s\n",
      "[CV] END model__max_depth=8, model__min_samples_leaf=3, model__min_samples_split=8, model__n_estimators=393; total time=  44.2s\n",
      "[CV] END model__max_depth=8, model__min_samples_leaf=3, model__min_samples_split=8, model__n_estimators=393; total time=  44.5s\n",
      "[CV] END model__max_depth=8, model__min_samples_leaf=3, model__min_samples_split=8, model__n_estimators=393; total time=  44.5s\n",
      "[CV] END model__max_depth=8, model__min_samples_leaf=3, model__min_samples_split=8, model__n_estimators=393; total time=  44.6s\n",
      "[CV] END model__max_depth=8, model__min_samples_leaf=3, model__min_samples_split=8, model__n_estimators=443; total time=  50.1s\n",
      "[CV] END model__max_depth=8, model__min_samples_leaf=3, model__min_samples_split=8, model__n_estimators=443; total time=  50.5s\n",
      "[CV] END model__max_depth=8, model__min_samples_leaf=3, model__min_samples_split=9, model__n_estimators=343; total time=  39.8s\n",
      "[CV] END model__max_depth=8, model__min_samples_leaf=3, model__min_samples_split=9, model__n_estimators=343; total time=  40.0s\n",
      "[CV] END model__max_depth=8, model__min_samples_leaf=3, model__min_samples_split=9, model__n_estimators=343; total time=  40.1s\n",
      "[CV] END model__max_depth=8, model__min_samples_leaf=3, model__min_samples_split=9, model__n_estimators=343; total time=  39.8s\n",
      "[CV] END model__max_depth=8, model__min_samples_leaf=3, model__min_samples_split=8, model__n_estimators=443; total time=  49.3s\n",
      "[CV] END model__max_depth=8, model__min_samples_leaf=3, model__min_samples_split=9, model__n_estimators=343; total time=  39.7s\n",
      "[CV] END model__max_depth=8, model__min_samples_leaf=3, model__min_samples_split=8, model__n_estimators=443; total time=  48.5s\n",
      "[CV] END model__max_depth=8, model__min_samples_leaf=3, model__min_samples_split=8, model__n_estimators=443; total time=  48.3s\n",
      "[CV] END model__max_depth=8, model__min_samples_leaf=3, model__min_samples_split=9, model__n_estimators=393; total time=  44.2s\n",
      "[CV] END model__max_depth=8, model__min_samples_leaf=3, model__min_samples_split=9, model__n_estimators=393; total time=  44.3s\n",
      "[CV] END model__max_depth=8, model__min_samples_leaf=3, model__min_samples_split=9, model__n_estimators=393; total time=  44.0s\n",
      "[CV] END model__max_depth=8, model__min_samples_leaf=3, model__min_samples_split=9, model__n_estimators=393; total time=  44.3s\n",
      "[CV] END model__max_depth=8, model__min_samples_leaf=3, model__min_samples_split=9, model__n_estimators=393; total time=  44.4s\n",
      "[CV] END model__max_depth=8, model__min_samples_leaf=3, model__min_samples_split=9, model__n_estimators=443; total time=  49.9s\n",
      "[CV] END model__max_depth=8, model__min_samples_leaf=3, model__min_samples_split=9, model__n_estimators=443; total time=  50.5s\n",
      "[CV] END model__max_depth=8, model__min_samples_leaf=3, model__min_samples_split=10, model__n_estimators=343; total time=  39.9s\n",
      "[CV] END model__max_depth=8, model__min_samples_leaf=3, model__min_samples_split=10, model__n_estimators=343; total time=  39.7s\n",
      "[CV] END model__max_depth=8, model__min_samples_leaf=3, model__min_samples_split=10, model__n_estimators=343; total time=  40.0s\n",
      "[CV] END model__max_depth=8, model__min_samples_leaf=3, model__min_samples_split=10, model__n_estimators=343; total time=  39.9s\n",
      "[CV] END model__max_depth=8, model__min_samples_leaf=3, model__min_samples_split=10, model__n_estimators=343; total time=  40.0s\n",
      "[CV] END model__max_depth=8, model__min_samples_leaf=3, model__min_samples_split=9, model__n_estimators=443; total time=  48.5s\n",
      "[CV] END model__max_depth=8, model__min_samples_leaf=3, model__min_samples_split=9, model__n_estimators=443; total time=  48.8s\n",
      "[CV] END model__max_depth=8, model__min_samples_leaf=3, model__min_samples_split=9, model__n_estimators=443; total time=  48.1s\n",
      "[CV] END model__max_depth=8, model__min_samples_leaf=3, model__min_samples_split=10, model__n_estimators=393; total time=  44.1s\n",
      "[CV] END model__max_depth=8, model__min_samples_leaf=3, model__min_samples_split=10, model__n_estimators=393; total time=  44.4s\n",
      "[CV] END model__max_depth=8, model__min_samples_leaf=3, model__min_samples_split=10, model__n_estimators=393; total time=  44.3s\n",
      "[CV] END model__max_depth=8, model__min_samples_leaf=3, model__min_samples_split=10, model__n_estimators=393; total time=  44.6s\n",
      "[CV] END model__max_depth=8, model__min_samples_leaf=3, model__min_samples_split=10, model__n_estimators=393; total time=  44.2s\n",
      "[CV] END model__max_depth=8, model__min_samples_leaf=3, model__min_samples_split=10, model__n_estimators=443; total time=  49.8s\n",
      "[CV] END model__max_depth=8, model__min_samples_leaf=3, model__min_samples_split=10, model__n_estimators=443; total time=  49.7s\n",
      "[CV] END model__max_depth=8, model__min_samples_leaf=3, model__min_samples_split=10, model__n_estimators=443; total time=  49.7s\n",
      "[CV] END model__max_depth=8, model__min_samples_leaf=3, model__min_samples_split=10, model__n_estimators=443; total time=  49.3s\n",
      "[CV] END model__max_depth=10, model__min_samples_leaf=1, model__min_samples_split=8, model__n_estimators=343; total time=  47.5s\n",
      "[CV] END model__max_depth=8, model__min_samples_leaf=3, model__min_samples_split=10, model__n_estimators=443; total time=  49.2s\n",
      "[CV] END model__max_depth=10, model__min_samples_leaf=1, model__min_samples_split=8, model__n_estimators=343; total time=  47.6s\n",
      "[CV] END model__max_depth=10, model__min_samples_leaf=1, model__min_samples_split=8, model__n_estimators=343; total time=  47.8s\n",
      "[CV] END model__max_depth=10, model__min_samples_leaf=1, model__min_samples_split=8, model__n_estimators=343; total time=  47.2s\n",
      "[CV] END model__max_depth=10, model__min_samples_leaf=1, model__min_samples_split=8, model__n_estimators=343; total time=  47.2s\n",
      "[CV] END model__max_depth=10, model__min_samples_leaf=1, model__min_samples_split=8, model__n_estimators=393; total time=  54.0s\n",
      "[CV] END model__max_depth=10, model__min_samples_leaf=1, model__min_samples_split=8, model__n_estimators=393; total time=  54.0s\n",
      "[CV] END model__max_depth=10, model__min_samples_leaf=1, model__min_samples_split=8, model__n_estimators=393; total time=  54.2s\n",
      "[CV] END model__max_depth=10, model__min_samples_leaf=1, model__min_samples_split=8, model__n_estimators=393; total time=  54.1s\n",
      "[CV] END model__max_depth=10, model__min_samples_leaf=1, model__min_samples_split=8, model__n_estimators=393; total time=  54.1s\n",
      "[CV] END model__max_depth=10, model__min_samples_leaf=1, model__min_samples_split=8, model__n_estimators=443; total time= 1.0min\n",
      "[CV] END model__max_depth=10, model__min_samples_leaf=1, model__min_samples_split=8, model__n_estimators=443; total time= 1.0min\n",
      "[CV] END model__max_depth=10, model__min_samples_leaf=1, model__min_samples_split=9, model__n_estimators=343; total time=  48.6s\n",
      "[CV] END model__max_depth=10, model__min_samples_leaf=1, model__min_samples_split=8, model__n_estimators=443; total time= 1.0min\n",
      "[CV] END model__max_depth=10, model__min_samples_leaf=1, model__min_samples_split=9, model__n_estimators=343; total time=  48.6s\n",
      "[CV] END model__max_depth=10, model__min_samples_leaf=1, model__min_samples_split=9, model__n_estimators=343; total time=  48.6s\n",
      "[CV] END model__max_depth=10, model__min_samples_leaf=1, model__min_samples_split=9, model__n_estimators=343; total time=  48.5s\n",
      "[CV] END model__max_depth=10, model__min_samples_leaf=1, model__min_samples_split=9, model__n_estimators=343; total time=  48.7s\n",
      "[CV] END model__max_depth=10, model__min_samples_leaf=1, model__min_samples_split=8, model__n_estimators=443; total time=  59.2s\n",
      "[CV] END model__max_depth=10, model__min_samples_leaf=1, model__min_samples_split=9, model__n_estimators=393; total time=  54.2s\n",
      "[CV] END model__max_depth=10, model__min_samples_leaf=1, model__min_samples_split=8, model__n_estimators=443; total time=  59.1s\n",
      "[CV] END model__max_depth=10, model__min_samples_leaf=1, model__min_samples_split=9, model__n_estimators=393; total time=  54.5s\n",
      "[CV] END model__max_depth=10, model__min_samples_leaf=1, model__min_samples_split=9, model__n_estimators=393; total time=  54.1s\n",
      "[CV] END model__max_depth=10, model__min_samples_leaf=1, model__min_samples_split=9, model__n_estimators=393; total time=  54.2s\n",
      "[CV] END model__max_depth=10, model__min_samples_leaf=1, model__min_samples_split=9, model__n_estimators=393; total time=  54.6s\n",
      "[CV] END model__max_depth=10, model__min_samples_leaf=1, model__min_samples_split=9, model__n_estimators=443; total time= 1.0min\n",
      "[CV] END model__max_depth=10, model__min_samples_leaf=1, model__min_samples_split=9, model__n_estimators=443; total time=  59.0s\n",
      "[CV] END model__max_depth=10, model__min_samples_leaf=1, model__min_samples_split=10, model__n_estimators=343; total time=  46.4s\n",
      "[CV] END model__max_depth=10, model__min_samples_leaf=1, model__min_samples_split=10, model__n_estimators=343; total time=  46.4s\n",
      "[CV] END model__max_depth=10, model__min_samples_leaf=1, model__min_samples_split=10, model__n_estimators=343; total time=  46.7s\n",
      "[CV] END model__max_depth=10, model__min_samples_leaf=1, model__min_samples_split=10, model__n_estimators=343; total time=  46.2s\n",
      "[CV] END model__max_depth=10, model__min_samples_leaf=1, model__min_samples_split=9, model__n_estimators=443; total time=  57.1s\n",
      "[CV] END model__max_depth=10, model__min_samples_leaf=1, model__min_samples_split=10, model__n_estimators=343; total time=  46.6s\n",
      "[CV] END model__max_depth=10, model__min_samples_leaf=1, model__min_samples_split=9, model__n_estimators=443; total time=  56.5s\n",
      "[CV] END model__max_depth=10, model__min_samples_leaf=1, model__min_samples_split=9, model__n_estimators=443; total time=  56.8s\n",
      "[CV] END model__max_depth=10, model__min_samples_leaf=1, model__min_samples_split=10, model__n_estimators=393; total time=  51.6s\n",
      "[CV] END model__max_depth=10, model__min_samples_leaf=1, model__min_samples_split=10, model__n_estimators=393; total time=  51.4s\n",
      "[CV] END model__max_depth=10, model__min_samples_leaf=1, model__min_samples_split=10, model__n_estimators=393; total time=15.9min\n",
      "[CV] END model__max_depth=10, model__min_samples_leaf=1, model__min_samples_split=10, model__n_estimators=393; total time=15.9min\n",
      "[CV] END model__max_depth=10, model__min_samples_leaf=1, model__min_samples_split=10, model__n_estimators=393; total time=15.9min\n",
      "[CV] END model__max_depth=10, model__min_samples_leaf=1, model__min_samples_split=10, model__n_estimators=443; total time=16.5min\n",
      "[CV] END model__max_depth=10, model__min_samples_leaf=1, model__min_samples_split=10, model__n_estimators=443; total time=17.9min\n",
      "[CV] END model__max_depth=10, model__min_samples_leaf=2, model__min_samples_split=8, model__n_estimators=343; total time=17.7min\n",
      "[CV] END model__max_depth=10, model__min_samples_leaf=2, model__min_samples_split=8, model__n_estimators=343; total time=17.7min\n",
      "[CV] END model__max_depth=10, model__min_samples_leaf=2, model__min_samples_split=8, model__n_estimators=343; total time=17.7min\n",
      "[CV] END model__max_depth=10, model__min_samples_leaf=2, model__min_samples_split=8, model__n_estimators=343; total time=17.7min\n",
      "[CV] END model__max_depth=10, model__min_samples_leaf=1, model__min_samples_split=10, model__n_estimators=443; total time=18.0min\n",
      "[CV] END model__max_depth=10, model__min_samples_leaf=2, model__min_samples_split=8, model__n_estimators=343; total time=18.0min\n",
      "[CV] END model__max_depth=10, model__min_samples_leaf=1, model__min_samples_split=10, model__n_estimators=443; total time=18.2min\n",
      "[CV] END model__max_depth=10, model__min_samples_leaf=1, model__min_samples_split=10, model__n_estimators=443; total time=18.2min\n",
      "[CV] END model__max_depth=10, model__min_samples_leaf=2, model__min_samples_split=8, model__n_estimators=393; total time=18.4min\n",
      "[CV] END model__max_depth=10, model__min_samples_leaf=2, model__min_samples_split=8, model__n_estimators=393; total time=18.5min\n",
      "[CV] END model__max_depth=10, model__min_samples_leaf=2, model__min_samples_split=8, model__n_estimators=393; total time=18.6min\n",
      "[CV] END model__max_depth=10, model__min_samples_leaf=2, model__min_samples_split=8, model__n_estimators=393; total time= 4.0min\n",
      "[CV] END model__max_depth=10, model__min_samples_leaf=2, model__min_samples_split=8, model__n_estimators=393; total time= 4.1min\n",
      "[CV] END model__max_depth=10, model__min_samples_leaf=2, model__min_samples_split=8, model__n_estimators=443; total time= 4.7min\n",
      "[CV] END model__max_depth=10, model__min_samples_leaf=2, model__min_samples_split=8, model__n_estimators=443; total time= 4.9min\n",
      "[CV] END model__max_depth=10, model__min_samples_leaf=2, model__min_samples_split=9, model__n_estimators=343; total time= 3.3min\n",
      "[CV] END model__max_depth=10, model__min_samples_leaf=2, model__min_samples_split=9, model__n_estimators=343; total time= 3.3min\n",
      "[CV] END model__max_depth=10, model__min_samples_leaf=2, model__min_samples_split=9, model__n_estimators=343; total time= 3.4min\n",
      "[CV] END model__max_depth=10, model__min_samples_leaf=2, model__min_samples_split=9, model__n_estimators=343; total time= 3.4min\n",
      "[CV] END model__max_depth=10, model__min_samples_leaf=2, model__min_samples_split=8, model__n_estimators=443; total time= 3.9min\n",
      "[CV] END model__max_depth=10, model__min_samples_leaf=2, model__min_samples_split=9, model__n_estimators=343; total time= 3.4min\n",
      "[CV] END model__max_depth=10, model__min_samples_leaf=2, model__min_samples_split=8, model__n_estimators=443; total time= 3.9min\n",
      "[CV] END model__max_depth=10, model__min_samples_leaf=2, model__min_samples_split=8, model__n_estimators=443; total time= 4.0min\n",
      "[CV] END model__max_depth=10, model__min_samples_leaf=2, model__min_samples_split=9, model__n_estimators=393; total time= 3.7min\n",
      "[CV] END model__max_depth=10, model__min_samples_leaf=2, model__min_samples_split=9, model__n_estimators=393; total time= 4.7min\n",
      "[CV] END model__max_depth=10, model__min_samples_leaf=2, model__min_samples_split=9, model__n_estimators=393; total time= 4.6min\n",
      "[CV] END model__max_depth=10, model__min_samples_leaf=2, model__min_samples_split=9, model__n_estimators=393; total time= 4.6min\n",
      "[CV] END model__max_depth=10, model__min_samples_leaf=2, model__min_samples_split=9, model__n_estimators=393; total time= 4.5min\n",
      "[CV] END model__max_depth=10, model__min_samples_leaf=2, model__min_samples_split=9, model__n_estimators=443; total time= 4.9min\n",
      "[CV] END model__max_depth=10, model__min_samples_leaf=2, model__min_samples_split=9, model__n_estimators=443; total time= 7.1min\n",
      "[CV] END model__max_depth=10, model__min_samples_leaf=2, model__min_samples_split=10, model__n_estimators=343; total time= 5.9min\n",
      "[CV] END model__max_depth=10, model__min_samples_leaf=2, model__min_samples_split=10, model__n_estimators=343; total time= 5.8min\n",
      "[CV] END model__max_depth=10, model__min_samples_leaf=2, model__min_samples_split=10, model__n_estimators=343; total time= 5.8min\n",
      "[CV] END model__max_depth=10, model__min_samples_leaf=2, model__min_samples_split=10, model__n_estimators=343; total time= 5.8min\n",
      "[CV] END model__max_depth=10, model__min_samples_leaf=2, model__min_samples_split=10, model__n_estimators=343; total time= 5.8min\n",
      "[CV] END model__max_depth=10, model__min_samples_leaf=2, model__min_samples_split=9, model__n_estimators=443; total time= 6.3min\n",
      "[CV] END model__max_depth=10, model__min_samples_leaf=2, model__min_samples_split=9, model__n_estimators=443; total time= 6.3min\n",
      "[CV] END model__max_depth=10, model__min_samples_leaf=2, model__min_samples_split=9, model__n_estimators=443; total time= 6.3min\n",
      "[CV] END model__max_depth=10, model__min_samples_leaf=2, model__min_samples_split=10, model__n_estimators=393; total time= 5.8min\n",
      "[CV] END model__max_depth=10, model__min_samples_leaf=2, model__min_samples_split=10, model__n_estimators=393; total time= 5.6min\n",
      "[CV] END model__max_depth=10, model__min_samples_leaf=2, model__min_samples_split=10, model__n_estimators=393; total time= 4.3min\n",
      "[CV] END model__max_depth=10, model__min_samples_leaf=2, model__min_samples_split=10, model__n_estimators=393; total time= 4.3min\n",
      "[CV] END model__max_depth=10, model__min_samples_leaf=2, model__min_samples_split=10, model__n_estimators=393; total time= 4.3min\n",
      "[CV] END model__max_depth=10, model__min_samples_leaf=2, model__min_samples_split=10, model__n_estimators=443; total time= 4.1min\n",
      "[CV] END model__max_depth=10, model__min_samples_leaf=2, model__min_samples_split=10, model__n_estimators=443; total time= 3.7min\n",
      "[CV] END model__max_depth=10, model__min_samples_leaf=3, model__min_samples_split=8, model__n_estimators=343; total time=  46.6s\n",
      "[CV] END model__max_depth=10, model__min_samples_leaf=3, model__min_samples_split=8, model__n_estimators=343; total time=  46.6s\n",
      "[CV] END model__max_depth=10, model__min_samples_leaf=3, model__min_samples_split=8, model__n_estimators=343; total time=  47.5s\n",
      "[CV] END model__max_depth=10, model__min_samples_leaf=3, model__min_samples_split=8, model__n_estimators=343; total time=  47.3s\n",
      "[CV] END model__max_depth=10, model__min_samples_leaf=3, model__min_samples_split=8, model__n_estimators=343; total time=  47.6s\n",
      "[CV] END model__max_depth=10, model__min_samples_leaf=2, model__min_samples_split=10, model__n_estimators=443; total time=  58.3s\n",
      "[CV] END model__max_depth=10, model__min_samples_leaf=2, model__min_samples_split=10, model__n_estimators=443; total time=  58.1s\n",
      "[CV] END model__max_depth=10, model__min_samples_leaf=3, model__min_samples_split=8, model__n_estimators=393; total time=  53.2s\n",
      "[CV] END model__max_depth=10, model__min_samples_leaf=2, model__min_samples_split=10, model__n_estimators=443; total time=  58.3s\n",
      "[CV] END model__max_depth=10, model__min_samples_leaf=3, model__min_samples_split=8, model__n_estimators=393; total time=  53.3s\n",
      "[CV] END model__max_depth=10, model__min_samples_leaf=3, model__min_samples_split=8, model__n_estimators=393; total time=  53.5s\n",
      "[CV] END model__max_depth=10, model__min_samples_leaf=3, model__min_samples_split=8, model__n_estimators=393; total time=  53.5s\n",
      "[CV] END model__max_depth=10, model__min_samples_leaf=3, model__min_samples_split=8, model__n_estimators=393; total time=  53.9s\n",
      "[CV] END model__max_depth=10, model__min_samples_leaf=3, model__min_samples_split=8, model__n_estimators=443; total time= 1.0min\n",
      "[CV] END model__max_depth=10, model__min_samples_leaf=3, model__min_samples_split=9, model__n_estimators=343; total time=  47.8s\n",
      "[CV] END model__max_depth=10, model__min_samples_leaf=3, model__min_samples_split=8, model__n_estimators=443; total time= 1.0min\n",
      "[CV] END model__max_depth=10, model__min_samples_leaf=3, model__min_samples_split=9, model__n_estimators=343; total time=  48.1s\n",
      "[CV] END model__max_depth=10, model__min_samples_leaf=3, model__min_samples_split=9, model__n_estimators=343; total time=  48.3s\n",
      "[CV] END model__max_depth=10, model__min_samples_leaf=3, model__min_samples_split=9, model__n_estimators=343; total time=  48.2s\n",
      "[CV] END model__max_depth=10, model__min_samples_leaf=3, model__min_samples_split=8, model__n_estimators=443; total time=  58.8s\n",
      "[CV] END model__max_depth=10, model__min_samples_leaf=3, model__min_samples_split=9, model__n_estimators=343; total time=  48.2s\n",
      "[CV] END model__max_depth=10, model__min_samples_leaf=3, model__min_samples_split=8, model__n_estimators=443; total time=  59.1s\n",
      "[CV] END model__max_depth=10, model__min_samples_leaf=3, model__min_samples_split=8, model__n_estimators=443; total time=  58.7s\n",
      "[CV] END model__max_depth=10, model__min_samples_leaf=3, model__min_samples_split=9, model__n_estimators=393; total time=  53.5s\n",
      "[CV] END model__max_depth=10, model__min_samples_leaf=3, model__min_samples_split=9, model__n_estimators=393; total time=  53.6s\n",
      "[CV] END model__max_depth=10, model__min_samples_leaf=3, model__min_samples_split=9, model__n_estimators=393; total time=  53.5s\n",
      "[CV] END model__max_depth=10, model__min_samples_leaf=3, model__min_samples_split=9, model__n_estimators=393; total time=  53.5s\n",
      "[CV] END model__max_depth=10, model__min_samples_leaf=3, model__min_samples_split=9, model__n_estimators=393; total time=  53.7s\n",
      "[CV] END model__max_depth=10, model__min_samples_leaf=3, model__min_samples_split=9, model__n_estimators=443; total time= 1.0min\n",
      "[CV] END model__max_depth=10, model__min_samples_leaf=3, model__min_samples_split=9, model__n_estimators=443; total time= 1.0min\n",
      "[CV] END model__max_depth=10, model__min_samples_leaf=3, model__min_samples_split=10, model__n_estimators=343; total time=  47.6s\n",
      "[CV] END model__max_depth=10, model__min_samples_leaf=3, model__min_samples_split=10, model__n_estimators=343; total time=  47.7s\n",
      "[CV] END model__max_depth=10, model__min_samples_leaf=3, model__min_samples_split=10, model__n_estimators=343; total time=  47.9s\n",
      "[CV] END model__max_depth=10, model__min_samples_leaf=3, model__min_samples_split=10, model__n_estimators=343; total time=  48.0s\n",
      "[CV] END model__max_depth=10, model__min_samples_leaf=3, model__min_samples_split=10, model__n_estimators=343; total time=  48.0s\n",
      "[CV] END model__max_depth=10, model__min_samples_leaf=3, model__min_samples_split=9, model__n_estimators=443; total time=  58.9s\n",
      "[CV] END model__max_depth=10, model__min_samples_leaf=3, model__min_samples_split=9, model__n_estimators=443; total time=  58.2s\n",
      "[CV] END model__max_depth=10, model__min_samples_leaf=3, model__min_samples_split=9, model__n_estimators=443; total time=  57.9s\n",
      "[CV] END model__max_depth=10, model__min_samples_leaf=3, model__min_samples_split=10, model__n_estimators=393; total time=  52.3s\n",
      "[CV] END model__max_depth=10, model__min_samples_leaf=3, model__min_samples_split=10, model__n_estimators=393; total time=  51.1s\n",
      "[CV] END model__max_depth=10, model__min_samples_leaf=3, model__min_samples_split=10, model__n_estimators=393; total time=  50.3s\n",
      "[CV] END model__max_depth=10, model__min_samples_leaf=3, model__min_samples_split=10, model__n_estimators=393; total time=  49.0s\n",
      "[CV] END model__max_depth=10, model__min_samples_leaf=3, model__min_samples_split=10, model__n_estimators=393; total time=  46.6s\n",
      "[CV] END model__max_depth=10, model__min_samples_leaf=3, model__min_samples_split=10, model__n_estimators=443; total time=  45.7s\n",
      "[CV] END model__max_depth=10, model__min_samples_leaf=3, model__min_samples_split=10, model__n_estimators=443; total time=  37.8s\n",
      "[CV] END model__max_depth=10, model__min_samples_leaf=3, model__min_samples_split=10, model__n_estimators=443; total time=  32.1s\n",
      "[CV] END model__max_depth=10, model__min_samples_leaf=3, model__min_samples_split=10, model__n_estimators=443; total time=  27.8s\n",
      "[CV] END model__max_depth=10, model__min_samples_leaf=3, model__min_samples_split=10, model__n_estimators=443; total time=  26.7s\n",
      "Best parameters (grid refinement): {'model__max_depth': 8, 'model__min_samples_leaf': 3, 'model__min_samples_split': 9, 'model__n_estimators': 443}\n",
      "Cross-val R²: 0.05028633029071379\n"
     ]
    },
    {
     "data": {
      "text/plain": [
       "['grid_search_rf.pkl']"
      ]
     },
     "execution_count": 22,
     "metadata": {},
     "output_type": "execute_result"
    }
   ],
   "source": [
    "# Define a tighter grid around the best RandomizedSearchCV result\n",
    "param_grid = { \n",
    "    'model__n_estimators': [best['model__n_estimators'] - 50,\n",
    "                            best['model__n_estimators'],\n",
    "                            best['model__n_estimators'] + 50],\n",
    "    'model__max_depth': [best['model__max_depth'] - 2,\n",
    "                         best['model__max_depth'],\n",
    "                         best['model__max_depth'] + 2],\n",
    "    'model__min_samples_split': [best['model__min_samples_split'] - 1,\n",
    "                                 best['model__min_samples_split'],\n",
    "                                 best['model__min_samples_split'] + 1],\n",
    "    'model__min_samples_leaf': [best['model__min_samples_leaf'] - 1,\n",
    "                                best['model__min_samples_leaf'],\n",
    "                                best['model__min_samples_leaf'] + 1]\n",
    "}\n",
    "\n",
    "# Remove invalid (≤ 0) values\n",
    "for key, vals in param_grid.items():\n",
    "    param_grid[key] = [v for v in vals if v > 0]\n",
    "\n",
    "# Define grid search\n",
    "grid_search = GridSearchCV(\n",
    "    estimator=random_forest_pipeline,\n",
    "    param_grid=param_grid,\n",
    "    scoring='r2',\n",
    "    cv=5,\n",
    "    n_jobs=-1,\n",
    "    verbose=2\n",
    ")\n",
    "\n",
    "grid_search.fit(X_train, y_train)\n",
    "\n",
    "print(\"Best parameters (grid refinement):\", grid_search.best_params_)\n",
    "print(\"Cross-val R²:\", grid_search.best_score_)\n",
    "\n",
    "# Save the trained grid search for later use\n",
    "joblib.dump(grid_search, \"grid_search_rf.pkl\")"
   ]
  },
  {
   "cell_type": "code",
   "execution_count": 23,
   "id": "e8c2999f",
   "metadata": {},
   "outputs": [],
   "source": [
    "# grid_search = joblib.load(\"grid_search_rf.pkl\") # gebruik als ik niet alles wil re runnen in de notebook. comment randomized search en gridsearch en run dit codeblok "
   ]
  },
  {
   "cell_type": "markdown",
   "id": "4f3b07a9",
   "metadata": {},
   "source": [
    "## Evaluatie van modellen op test data\n",
    "Drie modellen worden geëvalueerd met 5-fold cross-validatie: \n",
    "- Baseline (mean) — voorspelt altijd het gemiddelde.\n",
    "- Lineaire regressie.\n",
    "- Random Forest Regressor (met hyperparameter tuning).\n",
    "\n",
    "De prestatie wordt gemeten met:\n",
    "- R² (verklaarde variantie)\n",
    "- RMSE (gemiddelde voorspelfout)"
   ]
  },
  {
   "cell_type": "markdown",
   "id": "e0bca4fc",
   "metadata": {},
   "source": [
    "### 1. K-Fold Cross-validation "
   ]
  },
  {
   "cell_type": "code",
   "execution_count": 56,
   "id": "8d588e01",
   "metadata": {},
   "outputs": [],
   "source": [
    "# Definieer K-Fold (5 splits)\n",
    "kfold = KFold(n_splits=5, shuffle=True, random_state=42)\n",
    "\n",
    "# Evalueer Lineaire regressie\n",
    "scores_lin = cross_val_score(lineair_pipeline, X, y, cv=kfold,\n",
    "                             scoring=make_scorer(r2_score))\n",
    "\n",
    "# Evalueer Random Forest \n",
    "scores_rf = cross_val_score(random_forest_pipeline, X, y, cv=kfold,\n",
    "                            scoring=make_scorer(r2_score))\n",
    "\n",
    "# Custom scorer for RMSE\n",
    "rmse_scorer = make_scorer(lambda y_true, y_pred: \n",
    "                          root_mean_squared_error(y_true, y_pred),\n",
    "                          greater_is_better=False)\n",
    "\n",
    "# Toevoegen RMSE cross-val voor random forest \n",
    "scores_rf_rmse = cross_val_score(random_forest_pipeline, X, y, cv=kfold, scoring=rmse_scorer)\n",
    "\n",
    "# Toevoegen RMSE cross-val voor lineaire regressie\n",
    "scores_lin_rmse = cross_val_score(lineair_pipeline, X, y, cv=kfold, scoring=rmse_scorer)"
   ]
  },
  {
   "cell_type": "code",
   "execution_count": 57,
   "id": "a16e0f86",
   "metadata": {},
   "outputs": [
    {
     "data": {
      "application/vnd.microsoft.datawrangler.viewer.v0+json": {
       "columns": [
        {
         "name": "index",
         "rawType": "int64",
         "type": "integer"
        },
        {
         "name": "Model",
         "rawType": "object",
         "type": "string"
        },
        {
         "name": "Gem. R²",
         "rawType": "float64",
         "type": "float"
        },
        {
         "name": "SD R²",
         "rawType": "float64",
         "type": "float"
        },
        {
         "name": "Gem. RMSE",
         "rawType": "float64",
         "type": "float"
        }
       ],
       "ref": "acc12a5a-2da4-487d-a1c9-c09287386482",
       "rows": [
        [
         "0",
         "Lineaire Regressie",
         "0.0294",
         "0.0057",
         "19.9764"
        ],
        [
         "1",
         "Random Forest",
         "0.0342",
         "0.0128",
         "19.9276"
        ]
       ],
       "shape": {
        "columns": 4,
        "rows": 2
       }
      },
      "text/html": [
       "<div>\n",
       "<style scoped>\n",
       "    .dataframe tbody tr th:only-of-type {\n",
       "        vertical-align: middle;\n",
       "    }\n",
       "\n",
       "    .dataframe tbody tr th {\n",
       "        vertical-align: top;\n",
       "    }\n",
       "\n",
       "    .dataframe thead th {\n",
       "        text-align: right;\n",
       "    }\n",
       "</style>\n",
       "<table border=\"1\" class=\"dataframe\">\n",
       "  <thead>\n",
       "    <tr style=\"text-align: right;\">\n",
       "      <th></th>\n",
       "      <th>Model</th>\n",
       "      <th>Gem. R²</th>\n",
       "      <th>SD R²</th>\n",
       "      <th>Gem. RMSE</th>\n",
       "    </tr>\n",
       "  </thead>\n",
       "  <tbody>\n",
       "    <tr>\n",
       "      <th>0</th>\n",
       "      <td>Lineaire Regressie</td>\n",
       "      <td>0.0294</td>\n",
       "      <td>0.0057</td>\n",
       "      <td>19.9764</td>\n",
       "    </tr>\n",
       "    <tr>\n",
       "      <th>1</th>\n",
       "      <td>Random Forest</td>\n",
       "      <td>0.0342</td>\n",
       "      <td>0.0128</td>\n",
       "      <td>19.9276</td>\n",
       "    </tr>\n",
       "  </tbody>\n",
       "</table>\n",
       "</div>"
      ],
      "text/plain": [
       "                Model  Gem. R²   SD R²  Gem. RMSE\n",
       "0  Lineaire Regressie   0.0294  0.0057    19.9764\n",
       "1       Random Forest   0.0342  0.0128    19.9276"
      ]
     },
     "metadata": {},
     "output_type": "display_data"
    },
    {
     "data": {
      "application/vnd.microsoft.datawrangler.viewer.v0+json": {
       "columns": [
        {
         "name": "index",
         "rawType": "int64",
         "type": "integer"
        },
        {
         "name": "Fold",
         "rawType": "int64",
         "type": "integer"
        },
        {
         "name": "Linear R²",
         "rawType": "float64",
         "type": "float"
        },
        {
         "name": "RF R²",
         "rawType": "float64",
         "type": "float"
        },
        {
         "name": "Linear RMSE",
         "rawType": "float64",
         "type": "float"
        },
        {
         "name": "RF RMSE",
         "rawType": "float64",
         "type": "float"
        }
       ],
       "ref": "d2cf92d2-4f51-402d-965e-ba2b98654bb1",
       "rows": [
        [
         "0",
         "1",
         "0.0291",
         "0.0465",
         "19.7411",
         "19.563"
        ],
        [
         "1",
         "2",
         "0.0248",
         "0.0128",
         "20.1648",
         "20.2883"
        ],
        [
         "2",
         "3",
         "0.0308",
         "0.0475",
         "19.7707",
         "19.6"
        ],
        [
         "3",
         "4",
         "0.0393",
         "0.0361",
         "19.9709",
         "20.0045"
        ],
        [
         "4",
         "5",
         "0.0232",
         "0.0282",
         "20.2346",
         "20.1824"
        ]
       ],
       "shape": {
        "columns": 5,
        "rows": 5
       }
      },
      "text/html": [
       "<div>\n",
       "<style scoped>\n",
       "    .dataframe tbody tr th:only-of-type {\n",
       "        vertical-align: middle;\n",
       "    }\n",
       "\n",
       "    .dataframe tbody tr th {\n",
       "        vertical-align: top;\n",
       "    }\n",
       "\n",
       "    .dataframe thead th {\n",
       "        text-align: right;\n",
       "    }\n",
       "</style>\n",
       "<table border=\"1\" class=\"dataframe\">\n",
       "  <thead>\n",
       "    <tr style=\"text-align: right;\">\n",
       "      <th></th>\n",
       "      <th>Fold</th>\n",
       "      <th>Linear R²</th>\n",
       "      <th>RF R²</th>\n",
       "      <th>Linear RMSE</th>\n",
       "      <th>RF RMSE</th>\n",
       "    </tr>\n",
       "  </thead>\n",
       "  <tbody>\n",
       "    <tr>\n",
       "      <th>0</th>\n",
       "      <td>1</td>\n",
       "      <td>0.0291</td>\n",
       "      <td>0.0465</td>\n",
       "      <td>19.7411</td>\n",
       "      <td>19.5630</td>\n",
       "    </tr>\n",
       "    <tr>\n",
       "      <th>1</th>\n",
       "      <td>2</td>\n",
       "      <td>0.0248</td>\n",
       "      <td>0.0128</td>\n",
       "      <td>20.1648</td>\n",
       "      <td>20.2883</td>\n",
       "    </tr>\n",
       "    <tr>\n",
       "      <th>2</th>\n",
       "      <td>3</td>\n",
       "      <td>0.0308</td>\n",
       "      <td>0.0475</td>\n",
       "      <td>19.7707</td>\n",
       "      <td>19.6000</td>\n",
       "    </tr>\n",
       "    <tr>\n",
       "      <th>3</th>\n",
       "      <td>4</td>\n",
       "      <td>0.0393</td>\n",
       "      <td>0.0361</td>\n",
       "      <td>19.9709</td>\n",
       "      <td>20.0045</td>\n",
       "    </tr>\n",
       "    <tr>\n",
       "      <th>4</th>\n",
       "      <td>5</td>\n",
       "      <td>0.0232</td>\n",
       "      <td>0.0282</td>\n",
       "      <td>20.2346</td>\n",
       "      <td>20.1824</td>\n",
       "    </tr>\n",
       "  </tbody>\n",
       "</table>\n",
       "</div>"
      ],
      "text/plain": [
       "   Fold  Linear R²   RF R²  Linear RMSE  RF RMSE\n",
       "0     1     0.0291  0.0465      19.7411  19.5630\n",
       "1     2     0.0248  0.0128      20.1648  20.2883\n",
       "2     3     0.0308  0.0475      19.7707  19.6000\n",
       "3     4     0.0393  0.0361      19.9709  20.0045\n",
       "4     5     0.0232  0.0282      20.2346  20.1824"
      ]
     },
     "metadata": {},
     "output_type": "display_data"
    }
   ],
   "source": [
    "# Maak samenvattings-tabel met resultaten per model\n",
    "resultaten_cv = pd.DataFrame({\n",
    "    \"Model\": [\"Lineaire Regressie\", \"Random Forest\"],\n",
    "    \"Gem. R²\": [np.mean(scores_lin), np.mean(scores_rf)],\n",
    "    \"SD R²\": [np.std(scores_lin), np.std(scores_rf)],\n",
    "    \"Gem. RMSE\": [-np.mean(scores_lin_rmse), -np.mean(scores_rf_rmse)]\n",
    "}).round(4)\n",
    "\n",
    "display(resultaten_cv)\n",
    "\n",
    "# Toon individuele folds \n",
    "folds_df = pd.DataFrame({\n",
    "    \"Fold\": range(1, 6),\n",
    "    \"Linear R²\": scores_lin,\n",
    "    \"RF R²\": scores_rf,\n",
    "    \"Linear RMSE\": -scores_lin_rmse,\n",
    "    \"RF RMSE\": -scores_rf_rmse\n",
    "}).round(4)\n",
    "\n",
    "display(folds_df)"
   ]
  },
  {
   "cell_type": "code",
   "execution_count": 58,
   "id": "ff5a0af3",
   "metadata": {},
   "outputs": [
    {
     "data": {
      "image/png": "[encoded data removed]",
      "text/plain": [
       "<Figure size 1000x400 with 2 Axes>"
      ]
     },
     "metadata": {},
     "output_type": "display_data"
    }
   ],
   "source": [
    "# Plot vergelijking R² en RMSE tussen modellen\n",
    "fig, axes = plt.subplots(1, 2, figsize=(10, 4))\n",
    "\n",
    "# R² per model\n",
    "axes[0].bar(resultaten_cv[\"Model\"], resultaten_cv[\"Gem. R²\"], color=[\"steelblue\", \"seagreen\"])\n",
    "axes[0].set_title(\"Gemiddelde R² per model\")\n",
    "axes[0].set_ylabel(\"R²\")\n",
    "\n",
    "# RMSE per model\n",
    "axes[1].bar(resultaten_cv[\"Model\"], resultaten_cv[\"Gem. RMSE\"], color=[\"steelblue\", \"seagreen\"])\n",
    "axes[1].set_title(\"Gemiddelde RMSE per model\")\n",
    "axes[1].set_ylabel(\"RMSE\")\n",
    "\n",
    "plt.tight_layout()\n",
    "plt.show()"
   ]
  },
  {
   "cell_type": "markdown",
   "id": "76dcdf12",
   "metadata": {},
   "source": [
    "### 2. Testresultaten vergelijken met baseline "
   ]
  },
  {
   "cell_type": "code",
   "execution_count": 59,
   "id": "31d3d23c",
   "metadata": {},
   "outputs": [],
   "source": [
    "# Baseline (Dummy Regressor)\n",
    "dummy = DummyRegressor(strategy='mean').fit(X_train, y_train)\n",
    "y_pred_dummy = dummy.predict(X_test)\n",
    "r2_dummy = r2_score(y_test, y_pred_dummy)\n",
    "rmse_dummy = root_mean_squared_error(y_test, y_pred_dummy)"
   ]
  },
  {
   "cell_type": "code",
   "execution_count": 60,
   "id": "a2c01ac8",
   "metadata": {},
   "outputs": [],
   "source": [
    "# Lineaire regressie\n",
    "lineair_pipeline.fit(X_train, y_train)\n",
    "y_pred_lin = lineair_pipeline.predict(X_test)\n",
    "r2_lin = r2_score(y_test, y_pred_lin)\n",
    "rmse_lin = root_mean_squared_error(y_test, y_pred_lin)"
   ]
  },
  {
   "cell_type": "code",
   "execution_count": 61,
   "id": "7ca9bab3",
   "metadata": {},
   "outputs": [],
   "source": [
    "# Random forest (beste model uit gridsearch)\n",
    "beste_model = grid_search.best_estimator_\n",
    "y_pred_rf = beste_model.predict(X_test)\n",
    "r2_rf = r2_score(y_test, y_pred_rf)\n",
    "rmse_rf = root_mean_squared_error(y_test, y_pred_rf)"
   ]
  },
  {
   "cell_type": "code",
   "execution_count": 62,
   "id": "1e692f47",
   "metadata": {},
   "outputs": [
    {
     "data": {
      "application/vnd.microsoft.datawrangler.viewer.v0+json": {
       "columns": [
        {
         "name": "index",
         "rawType": "int64",
         "type": "integer"
        },
        {
         "name": "Model",
         "rawType": "object",
         "type": "string"
        },
        {
         "name": "R²",
         "rawType": "float64",
         "type": "float"
        },
        {
         "name": "RMSE",
         "rawType": "float64",
         "type": "float"
        }
       ],
       "ref": "36448221-a2e5-44fc-8b89-608f2122ecb0",
       "rows": [
        [
         "0",
         "Baseline (mean)",
         "-0.0",
         "20.03"
        ],
        [
         "1",
         "Lineaire regressie",
         "0.0291",
         "19.74"
        ],
        [
         "2",
         "Random Forest",
         "0.067",
         "19.35"
        ]
       ],
       "shape": {
        "columns": 3,
        "rows": 3
       }
      },
      "text/html": [
       "<div>\n",
       "<style scoped>\n",
       "    .dataframe tbody tr th:only-of-type {\n",
       "        vertical-align: middle;\n",
       "    }\n",
       "\n",
       "    .dataframe tbody tr th {\n",
       "        vertical-align: top;\n",
       "    }\n",
       "\n",
       "    .dataframe thead th {\n",
       "        text-align: right;\n",
       "    }\n",
       "</style>\n",
       "<table border=\"1\" class=\"dataframe\">\n",
       "  <thead>\n",
       "    <tr style=\"text-align: right;\">\n",
       "      <th></th>\n",
       "      <th>Model</th>\n",
       "      <th>R²</th>\n",
       "      <th>RMSE</th>\n",
       "    </tr>\n",
       "  </thead>\n",
       "  <tbody>\n",
       "    <tr>\n",
       "      <th>0</th>\n",
       "      <td>Baseline (mean)</td>\n",
       "      <td>-0.0000</td>\n",
       "      <td>20.03</td>\n",
       "    </tr>\n",
       "    <tr>\n",
       "      <th>1</th>\n",
       "      <td>Lineaire regressie</td>\n",
       "      <td>0.0291</td>\n",
       "      <td>19.74</td>\n",
       "    </tr>\n",
       "    <tr>\n",
       "      <th>2</th>\n",
       "      <td>Random Forest</td>\n",
       "      <td>0.0670</td>\n",
       "      <td>19.35</td>\n",
       "    </tr>\n",
       "  </tbody>\n",
       "</table>\n",
       "</div>"
      ],
      "text/plain": [
       "                Model      R²   RMSE\n",
       "0     Baseline (mean) -0.0000  20.03\n",
       "1  Lineaire regressie  0.0291  19.74\n",
       "2       Random Forest  0.0670  19.35"
      ]
     },
     "metadata": {},
     "output_type": "display_data"
    }
   ],
   "source": [
    "# Samenvatting in tabel \n",
    "resultaten = pd.DataFrame({\n",
    "    'Model': ['Baseline (mean)', 'Lineaire regressie', 'Random Forest'],\n",
    "    'R²': [r2_dummy, r2_lin, r2_rf],\n",
    "    'RMSE': [rmse_dummy, rmse_lin, rmse_rf]\n",
    "}).round({'R²': 4, 'RMSE': 2})\n",
    "\n",
    "display(resultaten)"
   ]
  },
  {
   "cell_type": "markdown",
   "id": "987c6925",
   "metadata": {},
   "source": [
    "### 3. Resultaten opslaan "
   ]
  },
  {
   "cell_type": "code",
   "execution_count": 63,
   "id": "9e71c186",
   "metadata": {},
   "outputs": [
    {
     "name": "stdout",
     "output_type": "stream",
     "text": [
      "Resultaten opgeslagen als: model_resultaten_baseline_model_20251025_1630.csv\n"
     ]
    }
   ],
   "source": [
    "# Voeg experimentnaam en datum toe\n",
    "experiment = \"baseline_model\"          # naam aanpassen bij veranderingen \n",
    "timestamp = datetime.now().strftime(\"%Y%m%d_%H%M\")\n",
    "\n",
    "resultaten[\"Versie\"] = experiment             # kolom met experimentnaam\n",
    "resultaten[\"Datum\"] = timestamp               # kolom met datum en tijd\n",
    "\n",
    "# Sla het bestand op met experimentnaam en timestamp\n",
    "bestandsnaam = f\"model_resultaten_{experiment}_{timestamp}.csv\"\n",
    "resultaten.to_csv(bestandsnaam, index=False)\n",
    "\n",
    "print(f\"Resultaten opgeslagen als: {bestandsnaam}\")"
   ]
  },
  {
   "cell_type": "markdown",
   "id": "01978e8c",
   "metadata": {},
   "source": [
    "### 4. Beste Random Forest parameters + prestaties "
   ]
  },
  {
   "cell_type": "code",
   "execution_count": 64,
   "id": "1362b482",
   "metadata": {},
   "outputs": [
    {
     "name": "stdout",
     "output_type": "stream",
     "text": [
      "\n",
      " Beste Random Forest instellingen:\n",
      "  max_depth           : 8\n",
      "  min_samples_leaf    : 3\n",
      "  min_samples_split   : 9\n",
      "  n_estimators        : 443\n",
      "\n",
      " Testprestaties Random Forest:\n",
      "  R²   : 0.0670\n",
      "  RMSE : 19.3513\n"
     ]
    },
    {
     "data": {
      "application/vnd.microsoft.datawrangler.viewer.v0+json": {
       "columns": [
        {
         "name": "index",
         "rawType": "int64",
         "type": "integer"
        },
        {
         "name": "Hyperparameter",
         "rawType": "object",
         "type": "string"
        },
        {
         "name": "Waarde",
         "rawType": "float64",
         "type": "float"
        }
       ],
       "ref": "14e5ef05-badb-463c-905d-eda22c19d2a6",
       "rows": [
        [
         "0",
         "max_depth",
         "8.0"
        ],
        [
         "1",
         "min_samples_leaf",
         "3.0"
        ],
        [
         "2",
         "min_samples_split",
         "9.0"
        ],
        [
         "3",
         "n_estimators",
         "443.0"
        ],
        [
         "4",
         "R² (test)",
         "0.067"
        ],
        [
         "5",
         "RMSE (test)",
         "19.3513"
        ]
       ],
       "shape": {
        "columns": 2,
        "rows": 6
       }
      },
      "text/html": [
       "<div>\n",
       "<style scoped>\n",
       "    .dataframe tbody tr th:only-of-type {\n",
       "        vertical-align: middle;\n",
       "    }\n",
       "\n",
       "    .dataframe tbody tr th {\n",
       "        vertical-align: top;\n",
       "    }\n",
       "\n",
       "    .dataframe thead th {\n",
       "        text-align: right;\n",
       "    }\n",
       "</style>\n",
       "<table border=\"1\" class=\"dataframe\">\n",
       "  <thead>\n",
       "    <tr style=\"text-align: right;\">\n",
       "      <th></th>\n",
       "      <th>Hyperparameter</th>\n",
       "      <th>Waarde</th>\n",
       "    </tr>\n",
       "  </thead>\n",
       "  <tbody>\n",
       "    <tr>\n",
       "      <th>0</th>\n",
       "      <td>max_depth</td>\n",
       "      <td>8.0000</td>\n",
       "    </tr>\n",
       "    <tr>\n",
       "      <th>1</th>\n",
       "      <td>min_samples_leaf</td>\n",
       "      <td>3.0000</td>\n",
       "    </tr>\n",
       "    <tr>\n",
       "      <th>2</th>\n",
       "      <td>min_samples_split</td>\n",
       "      <td>9.0000</td>\n",
       "    </tr>\n",
       "    <tr>\n",
       "      <th>3</th>\n",
       "      <td>n_estimators</td>\n",
       "      <td>443.0000</td>\n",
       "    </tr>\n",
       "    <tr>\n",
       "      <th>4</th>\n",
       "      <td>R² (test)</td>\n",
       "      <td>0.0670</td>\n",
       "    </tr>\n",
       "    <tr>\n",
       "      <th>5</th>\n",
       "      <td>RMSE (test)</td>\n",
       "      <td>19.3513</td>\n",
       "    </tr>\n",
       "  </tbody>\n",
       "</table>\n",
       "</div>"
      ],
      "text/plain": [
       "      Hyperparameter    Waarde\n",
       "0          max_depth    8.0000\n",
       "1   min_samples_leaf    3.0000\n",
       "2  min_samples_split    9.0000\n",
       "3       n_estimators  443.0000\n",
       "4          R² (test)    0.0670\n",
       "5        RMSE (test)   19.3513"
      ]
     },
     "metadata": {},
     "output_type": "display_data"
    }
   ],
   "source": [
    "# Samenvatting van beste Random Forest parameters + prestaties\n",
    "beste_params = grid_search.best_params_\n",
    "\n",
    "print(\"\\n Beste Random Forest instellingen:\")\n",
    "for k, v in beste_params.items():\n",
    "    print(f\"  {k.replace('model__', ''):<20}: {v}\")\n",
    "\n",
    "print(f\"\\n Testprestaties Random Forest:\")\n",
    "print(f\"  R²   : {r2_rf:.4f}\")\n",
    "print(f\"  RMSE : {rmse_rf:.4f}\")\n",
    "\n",
    "# Compact overzicht in tabel\n",
    "samenvatting = pd.DataFrame({\n",
    "    \"Hyperparameter\": [k.replace('model__', '') for k in beste_params.keys()],\n",
    "    \"Waarde\": [v for v in beste_params.values()]\n",
    "})\n",
    "samenvatting.loc[len(samenvatting)] = ['R² (test)', round(r2_rf, 4)]\n",
    "samenvatting.loc[len(samenvatting)] = ['RMSE (test)', round(rmse_rf, 4)]\n",
    "\n",
    "display(samenvatting)"
   ]
  },
  {
   "cell_type": "markdown",
   "id": "27ea2347",
   "metadata": {},
   "source": [
    "### Observaties resultaten "
   ]
  },
  {
   "cell_type": "markdown",
   "id": "8812b0b6",
   "metadata": {},
   "source": [
    "Random forest presteert beter dan lineare regressie: R² iets omhoog en RMSE iets omlaag. \n",
    "<br>\n",
    "RMSE van 20 is logisch, omdat je populariteit niet alleen op basis van audio features kunt voorspellen. "
   ]
  },
  {
   "cell_type": "markdown",
   "id": "e68e5a74",
   "metadata": {},
   "source": [
    "## 5. Feature Importances (Random Forest)"
   ]
  },
  {
   "cell_type": "code",
   "execution_count": 65,
   "id": "c498cd0f",
   "metadata": {},
   "outputs": [],
   "source": [
    "# Get feature names functie \n",
    "\n",
    "def get_feature_names_from_column_transformer(ct):\n",
    "    \"\"\"\n",
    "    Haalt feature names uit een ColumnTransformer, inclusief nested Pipelines\n",
    "    en custom transformers. Slaat stappen over die geen namen genereren\n",
    "    (zoals FunctionTransformer in log-pipeline) en vult daar originele kolomnamen in.\n",
    "    \"\"\"\n",
    "    feature_names = []\n",
    "\n",
    "    for name, trans, cols in ct.transformers_:\n",
    "        if trans == 'drop':\n",
    "            continue\n",
    "\n",
    "        # Check of het een pipeline is (zoals bij log of yeo)\n",
    "        if isinstance(trans, Pipeline):\n",
    "            last_step = trans[-1]\n",
    "            # Probeer namen uit de laatste stap te halen\n",
    "            if hasattr(last_step, 'get_feature_names_out'):\n",
    "                try:\n",
    "                    names = last_step.get_feature_names_out(cols)\n",
    "                except Exception:\n",
    "                    names = cols  # fallback\n",
    "            else:\n",
    "                names = cols\n",
    "            feature_names.extend(names)\n",
    "\n",
    "        # Als het geen pipeline is maar wel een transformer met namen\n",
    "        elif hasattr(trans, 'get_feature_names_out'):\n",
    "            try:\n",
    "                feature_names.extend(trans.get_feature_names_out(cols))\n",
    "            except Exception:\n",
    "                feature_names.extend(cols)\n",
    "        else:\n",
    "            feature_names.extend(cols)\n",
    "\n",
    "    return feature_names"
   ]
  },
  {
   "cell_type": "code",
   "execution_count": 66,
   "id": "e8f9d114",
   "metadata": {},
   "outputs": [],
   "source": [
    "# Feature importances definieren \n",
    "\n",
    "model = grid_search.best_estimator_.named_steps['model']\n",
    "importances = model.feature_importances_\n",
    "preprocessor = grid_search.best_estimator_.named_steps['preprocess']\n",
    "feature_names = get_feature_names_from_column_transformer(preprocessor)"
   ]
  },
  {
   "cell_type": "code",
   "execution_count": 67,
   "id": "4921ae5b",
   "metadata": {},
   "outputs": [
    {
     "name": "stdout",
     "output_type": "stream",
     "text": [
      "⚠️ Aantal feature_importances: 19, aantal feature_names: 18\n"
     ]
    },
    {
     "data": {
      "image/png": "[encoded data removed]",
      "text/plain": [
       "<Figure size 1000x600 with 1 Axes>"
      ]
     },
     "metadata": {},
     "output_type": "display_data"
    }
   ],
   "source": [
    "# Veiligheidscheck \n",
    "if len(importances) != len(feature_names):\n",
    "    print(f\"⚠️ Aantal feature_importances: {len(importances)}, aantal feature_names: {len(feature_names)}\")\n",
    "    min_len = min(len(importances), len(feature_names))\n",
    "    importances = importances[:min_len]\n",
    "    feature_names = feature_names[:min_len]\n",
    "\n",
    "# Create series and sort \n",
    "feat_importance = pd.Series(importances, index=feature_names).sort_values(ascending=False)\n",
    "\n",
    "# Plot top 15 belangrijke features\n",
    "\n",
    "plt.figure(figsize=(10, 6))\n",
    "feat_importance.head(15).plot(kind='bar', color='mediumseagreen')\n",
    "plt.title(\"Belangrijkste Features (Random Forest)\")\n",
    "plt.ylabel(\"Feature Importance\")\n",
    "plt.xlabel(\"Feature\")\n",
    "plt.tight_layout()\n",
    "plt.show()"
   ]
  },
  {
   "cell_type": "code",
   "execution_count": 68,
   "id": "d071678b",
   "metadata": {},
   "outputs": [
    {
     "name": "stdout",
     "output_type": "stream",
     "text": [
      "instrumentalness         0.138652\n",
      "audio_valence            0.092228\n",
      "loudness                 0.089781\n",
      "valence_dance            0.076152\n",
      "danceability             0.075729\n",
      "song_duration_ms         0.073232\n",
      "energy                   0.069047\n",
      "audio_mode               0.068045\n",
      "speechiness              0.066101\n",
      "acoustic_dance_ratio     0.062528\n",
      "liveness                 0.062248\n",
      "duration_energy_ratio    0.038839\n",
      "key                      0.016131\n",
      "acousticness             0.015481\n",
      "tempo                    0.004704\n",
      "time_signature_4.0       0.001667\n",
      "time_signature_3.0       0.001471\n",
      "time_signature_5.0       0.001087\n"
     ]
    }
   ],
   "source": [
    "print(feat_importance.to_string())"
   ]
  }
 ],
 "metadata": {
  "kernelspec": {
   "display_name": ".venv (3.13.3)",
   "language": "python",
   "name": "python3"
  },
  "language_info": {
   "codemirror_mode": {
    "name": "ipython",
    "version": 3
   },
   "file_extension": ".py",
   "mimetype": "text/x-python",
   "name": "python",
   "nbconvert_exporter": "python",
   "pygments_lexer": "ipython3",
   "version": "3.13.3"
  }
 },
 "nbformat": 4,
 "nbformat_minor": 5
}
