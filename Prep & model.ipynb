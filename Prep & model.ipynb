{
 "cells": [
  {
   "cell_type": "markdown",
   "id": "d5ae150c",
   "metadata": {},
   "source": [
    "# Data Preparation, Pipelines & Model "
   ]
  },
  {
   "cell_type": "code",
   "execution_count": 1,
   "id": "ff3be992",
   "metadata": {},
   "outputs": [],
   "source": [
    "# Modules importeren\n",
    "import pandas as pd\n",
    "import matplotlib.pyplot as plt\n",
    "import numpy as np\n",
    "from sklearn.preprocessing import StandardScaler, OneHotEncoder, FunctionTransformer\n",
    "from sklearn.pipeline import Pipeline\n",
    "from sklearn.linear_model import LinearRegression\n",
    "from sklearn.model_selection import train_test_split, GridSearchCV\n",
    "from sklearn.metrics import mean_squared_error, r2_score, root_mean_squared_error\n",
    "from sklearn.compose import ColumnTransformer\n",
    "from sklearn.base import BaseEstimator, TransformerMixin\n",
    "from sklearn.ensemble import RandomForestRegressor\n",
    "\n",
    "# Dataset importeren \n",
    "df = pd.read_csv(\"/Users/odessa/Desktop/Applied Data Science & AI/Data Science/Code Inleiding data science/song_data.csv\")\n",
    "\n",
    "# Target variabele maken \n",
    "target = 'song_popularity'\n",
    "#df.drop(columns=[\"song_name\"], inplace=True) # inplace=True veranderd de originele dataframe zonder nieuwe dataframe te maken "
   ]
  },
  {
   "cell_type": "markdown",
   "id": "1a787fa6",
   "metadata": {},
   "source": [
    "### Phase 3: Data Preparation"
   ]
  },
  {
   "cell_type": "code",
   "execution_count": 2,
   "id": "9dc18af5",
   "metadata": {},
   "outputs": [],
   "source": [
    "# 2 nummers droppen\n",
    "df = df.drop([7119, 11171]).reset_index(drop=True)"
   ]
  },
  {
   "cell_type": "code",
   "execution_count": 3,
   "id": "71414a8c",
   "metadata": {},
   "outputs": [
    {
     "name": "stdout",
     "output_type": "stream",
     "text": [
      "Totaal aantal waardes in de dataframe vóór het verwijderen van dubbele waardes uit song_name en song_duration_ms: 18833\n",
      "Totaal aantal waardes in de dataframe na verwijderen van dubbele waardes uit song_name en song_duration_ms: 14466\n"
     ]
    }
   ],
   "source": [
    "print(f\"Totaal aantal waardes in de dataframe vóór het verwijderen van dubbele waardes uit song_name en song_duration_ms: {len(df)}\")\n",
    "\n",
    "# Dubbele waardes droppen van song_name en song_duration \n",
    "# Als ik alleen song_name duplicates zou verwijderen, zou ik misschien covers van nummers verwijderen, dus daarom check ik ook de song_duration \n",
    "df.drop_duplicates(subset=['song_name', 'song_duration_ms'], inplace = True)\n",
    "print(f\"Totaal aantal waardes in de dataframe na verwijderen van dubbele waardes uit song_name en song_duration_ms: {len(df)}\")"
   ]
  },
  {
   "cell_type": "code",
   "execution_count": 4,
   "id": "cfd97395",
   "metadata": {},
   "outputs": [],
   "source": [
    "df.drop(columns=[\"song_name\"], inplace=True) # inplace=True veranderd de originele dataframe zonder nieuwe dataframe te maken "
   ]
  },
  {
   "cell_type": "code",
   "execution_count": 5,
   "id": "3a0835b1",
   "metadata": {},
   "outputs": [],
   "source": [
    "X = df.drop(columns=[target], axis=1)\n",
    "y = df[target]"
   ]
  },
  {
   "cell_type": "markdown",
   "id": "5b80686b",
   "metadata": {},
   "source": [
    "## Winsorizer Class"
   ]
  },
  {
   "cell_type": "code",
   "execution_count": 6,
   "id": "83534109",
   "metadata": {},
   "outputs": [],
   "source": [
    "# BaseEstimator zorgt dat sklearn mijn class kan herkennen als model/stap in pipeline.\n",
    "# TransformerMixin geeft .fit_transform().\n",
    "class Winsorizer(BaseEstimator, TransformerMixin):\n",
    "    def __init__(self, kolommen): \n",
    "        self.kolommen = kolommen \n",
    "        self.grenzen_ = None # '_' betekent dat het attribuut pas beschikbaar wordt, nadat fit() is uitgevoerd. \n",
    "                             # None, omdat de grenzen nog niet bestaan -- worden berekend bij fit().\n",
    "\n",
    "    def fit(self, X, y=None):\n",
    "        \"\"\"Bereken de onder- en bovengrenzen per kolom met interkwartielafstand-regel.\"\"\"\n",
    "        self.grenzen_ = {}\n",
    "        for kolom in self.kolommen:\n",
    "            Q1 = X[kolom].quantile(0.25)\n",
    "            Q3 = X[kolom].quantile(0.75)\n",
    "            IKR = Q3 - Q1 \n",
    "            ondergrens = Q1 - 1.5 * IKR\n",
    "            bovengrens = Q3 + 1.5 * IKR\n",
    "            self.grenzen_[kolom] = (ondergrens, bovengrens)\n",
    "        return self \n",
    "    \n",
    "    def transform(self, X):\n",
    "        \"\"\"Winsoriseer uitschieters: vervang alle waardes buiten de grenzen met de dichtstbijzijnde grenswaarde.\"\"\"\n",
    "        X = X.copy() # Kopie maken van data \n",
    "        for kolom, (ondergrens, bovengrens) in self.grenzen_.items():\n",
    "            X.loc[X[kolom] < ondergrens, kolom] = ondergrens \n",
    "            X.loc[X[kolom] > bovengrens, kolom] = bovengrens \n",
    "        return X\n",
    "    def get_feature_names_out(self, input_features=None):\n",
    "        return np.array(self.kolommen)"
   ]
  },
  {
   "cell_type": "markdown",
   "id": "f0e3f138",
   "metadata": {},
   "source": [
    "## Key Cyclic Encoder class "
   ]
  },
  {
   "cell_type": "code",
   "execution_count": 7,
   "id": "f4adfb5a",
   "metadata": {},
   "outputs": [],
   "source": [
    "class ToonsoortCyclischeEncoder(BaseEstimator, TransformerMixin):\n",
    "    \"\"\"\n",
    "    Cyclisch encoden van de toonsoort/key (0-11) met sinus en cosinus. \n",
    "    \"\"\"\n",
    "\n",
    "    def __init__(self, kolom='key', max_waarde=12):\n",
    "        self.kolom = kolom\n",
    "        self.max_waarde = max_waarde\n",
    "    \n",
    "    def fit(self, X, y=None):\n",
    "        return self \n",
    "    \n",
    "    def transform(self, X):\n",
    "        X = X.copy()\n",
    "        k = X[self.kolom]\n",
    "        X[f'{self.kolom}_sin'] = np.sin(2 * np.pi * k/self.max_waarde)\n",
    "        X[f'{self.kolom}_cos'] = np.cos(2 * np.pi * k/self.max_waarde)\n",
    "        return X.drop(columns=[self.kolom])\n",
    "    def get_feature_names_out(self, input_features=None):\n",
    "        return np.array(self.kolommen)"
   ]
  },
  {
   "cell_type": "markdown",
   "id": "c9a4ec21",
   "metadata": {},
   "source": [
    "### Phase 4: Modeling "
   ]
  },
  {
   "cell_type": "markdown",
   "id": "8cd89d72",
   "metadata": {},
   "source": [
    "Supervised learning, omdat je de uitkomst al hebt \n",
    "<br>\n",
    "Supervised learning heeft 2 hoofdtakken: regressie en classificatie \n",
    "<br>\n",
    "RMSE \n",
    "<br>\n",
    "Meervoudige lineare regressie \n",
    "<br>\n",
    "Logistieke lineare regressie is classification \n",
    "<br>\n",
    "Random forests is het begin van dat machine learning slim werd "
   ]
  },
  {
   "cell_type": "code",
   "execution_count": 8,
   "id": "a4b509f2",
   "metadata": {},
   "outputs": [],
   "source": [
    "def nieuwe_features(X):\n",
    "    X = X.copy()\n",
    "    X['energy_dance'] = X['energy'] * X['danceability']\n",
    "    X['tempo_loudness'] = X['tempo'] * X['loudness']\n",
    "    X['valence_energy'] = X['audio_valence'] * X['energy']\n",
    "    X['acoustic_energy_ratio'] = X['acousticness'] / (X['energy'] + 0.001)\n",
    "    X['speech_loudness_ratio'] = X['speechiness'] / (abs(X['loudness']) + 0.001)\n",
    "    X['acoustic_dance_ratio'] = X['acousticness'] / (X['danceability'] + 0.001)\n",
    "    X['energy_per_tempo'] = X['energy'] / (X['tempo'] + 0.001)\n",
    "    X['valence_dance'] = X['audio_valence'] * X['danceability']\n",
    "    X['duration_energy_ratio'] = X['song_duration_ms'] / (X['energy'] + 0.001)\n",
    "\n",
    "    # Niet - lineaire verbanden \n",
    "    X['energy_sq'] = X['energy'] ** 2\n",
    "    X['tempo_log'] = np.log1p(X['tempo'])\n",
    "    X['loudness_sq'] = X['loudness'] ** 2\n",
    "    return X\n",
    "feature_engineering = FunctionTransformer(nieuwe_features, validate=False)"
   ]
  },
  {
   "cell_type": "code",
   "execution_count": 9,
   "id": "6468c8ac",
   "metadata": {},
   "outputs": [],
   "source": [
    "# Train en test set maken \n",
    "X_train, X_test, y_train, y_test = train_test_split(\n",
    "   X, y, test_size=0.2, random_state = 42\n",
    ")"
   ]
  },
  {
   "cell_type": "code",
   "execution_count": 10,
   "id": "970024d4",
   "metadata": {},
   "outputs": [],
   "source": [
    "# Kolommen indelen\n",
    "kolommen_winsoriseren = ['song_duration_ms', 'loudness', 'tempo']\n",
    "categorische_kolommen = ['time_signature']\n",
    "cyclische_kolommen = ['key']\n",
    "\n",
    "#Alle nummerieke kolommen behalve target\n",
    "numerieke_kolommen = X.select_dtypes(include=['int64', 'float64']).columns.tolist()\n",
    "overige_kolommen = [\n",
    "    c for c in numerieke_kolommen \n",
    "    if c not in kolommen_winsoriseren + categorische_kolommen + cyclische_kolommen\n",
    "]"
   ]
  },
  {
   "cell_type": "markdown",
   "id": "de6553bf",
   "metadata": {},
   "source": [
    "## Pipelines "
   ]
  },
  {
   "cell_type": "code",
   "execution_count": 11,
   "id": "38095c30",
   "metadata": {},
   "outputs": [],
   "source": [
    "# Preprocessing\n",
    "preprocessor = ColumnTransformer([\n",
    "    ('winsor_scale', Pipeline ([ # Pipeline zorgt dat alle transformaties in de serie worden uitgevoerd op dezelfde kolommen. \n",
    "        ('winsor', Winsorizer(kolommen=kolommen_winsoriseren)),\n",
    "        ('scaler', StandardScaler()) # Dit moet hier in winsor_scale, omdat anders de gewinsoriseerde kolommen weer weggegooid worden. \n",
    "    ]), kolommen_winsoriseren),\n",
    "    \n",
    "    ('onehot', OneHotEncoder(handle_unknown='ignore'), categorische_kolommen),\n",
    "    \n",
    "    ('key_cyclisch', Pipeline([\n",
    "        ('encoder', ToonsoortCyclischeEncoder(kolom='key', max_waarde=12)),\n",
    "        ('scaler', StandardScaler())\n",
    "    ]), cyclische_kolommen),\n",
    "    ('scale_overige_kolommen', StandardScaler(), overige_kolommen),\n",
    "],\n",
    "remainder=StandardScaler()) # Anders vallen nieuwe features weg "
   ]
  },
  {
   "cell_type": "code",
   "execution_count": 12,
   "id": "7ea04ccb",
   "metadata": {},
   "outputs": [],
   "source": [
    "# Lineaire Regressie \n",
    "lineair_pipeline = Pipeline([\n",
    "    ('feature_creation', feature_engineering),\n",
    "    ('preprocess', preprocessor),\n",
    "    ('model', LinearRegression())\n",
    "])"
   ]
  },
  {
   "cell_type": "code",
   "execution_count": 13,
   "id": "33ab262e",
   "metadata": {},
   "outputs": [],
   "source": [
    "# Trainen en evalueren \n",
    "lineair_pipeline.fit(X_train, y_train)\n",
    "y_pred = lineair_pipeline.predict(X_test)"
   ]
  },
  {
   "cell_type": "code",
   "execution_count": 14,
   "id": "ecf7fafc",
   "metadata": {},
   "outputs": [],
   "source": [
    "random_forest_pipeline = Pipeline([\n",
    "    ('feature_creation', feature_engineering),\n",
    "    ('preprocess', preprocessor),\n",
    "    ('model', RandomForestRegressor(\n",
    "        random_state=42,\n",
    "        n_jobs=-1\n",
    "    ))\n",
    "])"
   ]
  },
  {
   "cell_type": "code",
   "execution_count": null,
   "id": "d2380c03",
   "metadata": {},
   "outputs": [],
   "source": [
    "param_grid = {\n",
    "    'model__n_estimators': [100, 200, 400],\n",
    "    'model__max_depth': [6, 8, 10, 12, 14],\n",
    "    'model__min_samples_split': [2, 4, 6, 8],\n",
    "    'model__min_samples_leaf': [1, 2, 4]\n",
    "}\n",
    "\n",
    "grid_search = GridSearchCV(\n",
    "    estimator=random_forest_pipeline,\n",
    "    param_grid=param_grid,\n",
    "    scoring='r2',\n",
    "    cv=5,\n",
    "    n_jobs=-1,\n",
    "    verbose=2\n",
    ")\n",
    "\n",
    "grid_search.fit(X_train, y_train)\n"
   ]
  },
  {
   "cell_type": "code",
   "execution_count": 16,
   "id": "7a45dc62",
   "metadata": {},
   "outputs": [
    {
     "name": "stdout",
     "output_type": "stream",
     "text": [
      "Beste parameters: {'model__max_depth': 10, 'model__min_samples_leaf': 1, 'model__min_samples_split': 6, 'model__n_estimators': 400}\n",
      "Cross-val (train) R²: 0.0580\n",
      "Test R²: 0.0520\n",
      "Test RMSE: 20.0811\n"
     ]
    }
   ],
   "source": [
    "beste_model = grid_search.best_estimator_\n",
    "y_pred_rf = beste_model.predict(X_test)\n",
    "\n",
    "r2_rf = r2_score(y_test, y_pred_rf)\n",
    "mse_rf = mean_squared_error(y_test, y_pred_rf)\n",
    "rmse_rf = root_mean_squared_error(y_test, y_pred_rf)\n",
    "\n",
    "# Evaluatie\n",
    "print(\"Beste parameters:\", grid_search.best_params_)\n",
    "print(f\"Cross-val (train) R²: {grid_search.best_score_:.4f}\")\n",
    "print(f\"Test R²: {r2_rf:.4f}\")\n",
    "print(f\"Test RMSE: {rmse_rf:.4f}\")"
   ]
  },
  {
   "cell_type": "code",
   "execution_count": 17,
   "id": "5653c03f",
   "metadata": {},
   "outputs": [],
   "source": [
    "def get_feature_names_from_pipeline(model):\n",
    "    pre = model.named_steps['preprocess']\n",
    "    try:\n",
    "        names = pre.get_feature_names_out()\n",
    "    except Exception:\n",
    "        names = []\n",
    "        for name, trans, cols in pre.transformers_:\n",
    "            if name == 'remainder' or trans == 'drop':\n",
    "                continue\n",
    "            if hasattr(trans, 'get_feature_names_out'):\n",
    "                try:\n",
    "                    n = trans.get_feature_names_out(cols)\n",
    "                except Exception:\n",
    "                    n = cols\n",
    "            elif isinstance(trans, Pipeline):\n",
    "                last = trans.steps[-1][1]\n",
    "                if hasattr(last, 'get_feature_names_out'):\n",
    "                    n = last.get_feature_names_out(cols)\n",
    "                else:\n",
    "                    n = cols\n",
    "            else:\n",
    "                n = cols\n",
    "            names.extend(n)\n",
    "    return names"
   ]
  },
  {
   "cell_type": "code",
   "execution_count": 18,
   "id": "7c9719c8",
   "metadata": {},
   "outputs": [
    {
     "name": "stdout",
     "output_type": "stream",
     "text": [
      "Aantal feature_names: 17\n",
      "Aantal importances: 30\n",
      "⚠️ Feature name mismatch: 29 namen, 30 importances.\n",
      "→ Dit komt doordat FunctionTransformer of OneHotEncoder extra kolommen maakt.\n",
      "Alleen de eerste 29 features worden gebruikt.\n",
      "\n"
     ]
    },
    {
     "data": {
      "image/png": "[encoded data removed]",
      "text/plain": [
       "<Figure size 1000x600 with 1 Axes>"
      ]
     },
     "metadata": {},
     "output_type": "display_data"
    },
    {
     "data": {
      "application/vnd.microsoft.datawrangler.viewer.v0+json": {
       "columns": [
        {
         "name": "index",
         "rawType": "int64",
         "type": "integer"
        },
        {
         "name": "Feature",
         "rawType": "object",
         "type": "string"
        },
        {
         "name": "Importance",
         "rawType": "float64",
         "type": "float"
        }
       ],
       "ref": "59aac0f0-181a-4a7b-8d9d-8e28b6955765",
       "rows": [
        [
         "13",
         "liveness",
         "0.1046600522423994"
        ],
        [
         "14",
         "audio_mode",
         "0.0626765681874326"
        ],
        [
         "0",
         "song_duration_ms",
         "0.06065870389200206"
        ],
        [
         "17",
         "energy_dance",
         "0.05347572741260466"
        ],
        [
         "11",
         "energy",
         "0.04944486855068627"
        ],
        [
         "23",
         "energy_per_tempo",
         "0.048981928410159255"
        ],
        [
         "16",
         "audio_valence",
         "0.048605022686589866"
        ],
        [
         "20",
         "acoustic_energy_ratio",
         "0.04594763619769702"
        ],
        [
         "26",
         "energy_sq",
         "0.043864881270997"
        ],
        [
         "24",
         "valence_dance",
         "0.041666736972796894"
        ],
        [
         "19",
         "valence_energy",
         "0.04112234311638753"
        ],
        [
         "25",
         "duration_energy_ratio",
         "0.04028869807911377"
        ],
        [
         "18",
         "tempo_loudness",
         "0.0399660428265036"
        ],
        [
         "22",
         "acoustic_dance_ratio",
         "0.03786426254304722"
        ],
        [
         "10",
         "danceability",
         "0.03730084741728251"
        ],
        [
         "21",
         "speech_loudness_ratio",
         "0.03491416434024296"
        ],
        [
         "1",
         "loudness",
         "0.03273447845575463"
        ],
        [
         "28",
         "loudness_sq",
         "0.028358250733033562"
        ],
        [
         "2",
         "tempo",
         "0.02808158249555194"
        ],
        [
         "27",
         "tempo_log",
         "0.02135242463767376"
        ]
       ],
       "shape": {
        "columns": 2,
        "rows": 20
       }
      },
      "text/html": [
       "<div>\n",
       "<style scoped>\n",
       "    .dataframe tbody tr th:only-of-type {\n",
       "        vertical-align: middle;\n",
       "    }\n",
       "\n",
       "    .dataframe tbody tr th {\n",
       "        vertical-align: top;\n",
       "    }\n",
       "\n",
       "    .dataframe thead th {\n",
       "        text-align: right;\n",
       "    }\n",
       "</style>\n",
       "<table border=\"1\" class=\"dataframe\">\n",
       "  <thead>\n",
       "    <tr style=\"text-align: right;\">\n",
       "      <th></th>\n",
       "      <th>Feature</th>\n",
       "      <th>Importance</th>\n",
       "    </tr>\n",
       "  </thead>\n",
       "  <tbody>\n",
       "    <tr>\n",
       "      <th>13</th>\n",
       "      <td>liveness</td>\n",
       "      <td>0.104660</td>\n",
       "    </tr>\n",
       "    <tr>\n",
       "      <th>14</th>\n",
       "      <td>audio_mode</td>\n",
       "      <td>0.062677</td>\n",
       "    </tr>\n",
       "    <tr>\n",
       "      <th>0</th>\n",
       "      <td>song_duration_ms</td>\n",
       "      <td>0.060659</td>\n",
       "    </tr>\n",
       "    <tr>\n",
       "      <th>17</th>\n",
       "      <td>energy_dance</td>\n",
       "      <td>0.053476</td>\n",
       "    </tr>\n",
       "    <tr>\n",
       "      <th>11</th>\n",
       "      <td>energy</td>\n",
       "      <td>0.049445</td>\n",
       "    </tr>\n",
       "    <tr>\n",
       "      <th>23</th>\n",
       "      <td>energy_per_tempo</td>\n",
       "      <td>0.048982</td>\n",
       "    </tr>\n",
       "    <tr>\n",
       "      <th>16</th>\n",
       "      <td>audio_valence</td>\n",
       "      <td>0.048605</td>\n",
       "    </tr>\n",
       "    <tr>\n",
       "      <th>20</th>\n",
       "      <td>acoustic_energy_ratio</td>\n",
       "      <td>0.045948</td>\n",
       "    </tr>\n",
       "    <tr>\n",
       "      <th>26</th>\n",
       "      <td>energy_sq</td>\n",
       "      <td>0.043865</td>\n",
       "    </tr>\n",
       "    <tr>\n",
       "      <th>24</th>\n",
       "      <td>valence_dance</td>\n",
       "      <td>0.041667</td>\n",
       "    </tr>\n",
       "    <tr>\n",
       "      <th>19</th>\n",
       "      <td>valence_energy</td>\n",
       "      <td>0.041122</td>\n",
       "    </tr>\n",
       "    <tr>\n",
       "      <th>25</th>\n",
       "      <td>duration_energy_ratio</td>\n",
       "      <td>0.040289</td>\n",
       "    </tr>\n",
       "    <tr>\n",
       "      <th>18</th>\n",
       "      <td>tempo_loudness</td>\n",
       "      <td>0.039966</td>\n",
       "    </tr>\n",
       "    <tr>\n",
       "      <th>22</th>\n",
       "      <td>acoustic_dance_ratio</td>\n",
       "      <td>0.037864</td>\n",
       "    </tr>\n",
       "    <tr>\n",
       "      <th>10</th>\n",
       "      <td>danceability</td>\n",
       "      <td>0.037301</td>\n",
       "    </tr>\n",
       "    <tr>\n",
       "      <th>21</th>\n",
       "      <td>speech_loudness_ratio</td>\n",
       "      <td>0.034914</td>\n",
       "    </tr>\n",
       "    <tr>\n",
       "      <th>1</th>\n",
       "      <td>loudness</td>\n",
       "      <td>0.032734</td>\n",
       "    </tr>\n",
       "    <tr>\n",
       "      <th>28</th>\n",
       "      <td>loudness_sq</td>\n",
       "      <td>0.028358</td>\n",
       "    </tr>\n",
       "    <tr>\n",
       "      <th>2</th>\n",
       "      <td>tempo</td>\n",
       "      <td>0.028082</td>\n",
       "    </tr>\n",
       "    <tr>\n",
       "      <th>27</th>\n",
       "      <td>tempo_log</td>\n",
       "      <td>0.021352</td>\n",
       "    </tr>\n",
       "  </tbody>\n",
       "</table>\n",
       "</div>"
      ],
      "text/plain": [
       "                  Feature  Importance\n",
       "13               liveness    0.104660\n",
       "14             audio_mode    0.062677\n",
       "0        song_duration_ms    0.060659\n",
       "17           energy_dance    0.053476\n",
       "11                 energy    0.049445\n",
       "23       energy_per_tempo    0.048982\n",
       "16          audio_valence    0.048605\n",
       "20  acoustic_energy_ratio    0.045948\n",
       "26              energy_sq    0.043865\n",
       "24          valence_dance    0.041667\n",
       "19         valence_energy    0.041122\n",
       "25  duration_energy_ratio    0.040289\n",
       "18         tempo_loudness    0.039966\n",
       "22   acoustic_dance_ratio    0.037864\n",
       "10           danceability    0.037301\n",
       "21  speech_loudness_ratio    0.034914\n",
       "1                loudness    0.032734\n",
       "28            loudness_sq    0.028358\n",
       "2                   tempo    0.028082\n",
       "27              tempo_log    0.021352"
      ]
     },
     "metadata": {},
     "output_type": "display_data"
    },
    {
     "name": "stdout",
     "output_type": "stream",
     "text": [
      "Model heeft 30 features.\n",
      "Preprocessor rapporteert 17 namen.\n",
      "\n",
      "Er lijken 13 namen te ontbreken — waarschijnlijk door FunctionTransformer (feature_engineering).\n"
     ]
    }
   ],
   "source": [
    "# ---------------------------\n",
    "# Feature importances ophalen + mismatch veilig afhandelen\n",
    "# ---------------------------\n",
    "\n",
    "# 1️⃣ Namen uit de pipeline halen\n",
    "feature_names = get_feature_names_from_pipeline(beste_model)\n",
    "importances = beste_model.named_steps['model'].feature_importances_\n",
    "\n",
    "# 2️⃣ Check hoeveel features er zijn\n",
    "print(\"Aantal feature_names:\", len(feature_names))\n",
    "print(\"Aantal importances:\", len(importances))\n",
    "\n",
    "# ---------------------------\n",
    "# Feature names uitbreiden met engineered features\n",
    "# ---------------------------\n",
    "\n",
    "extra_features = [\n",
    "    'energy_dance', 'tempo_loudness', 'valence_energy',\n",
    "    'acoustic_energy_ratio', 'speech_loudness_ratio',\n",
    "    'acoustic_dance_ratio', 'energy_per_tempo',\n",
    "    'valence_dance', 'duration_energy_ratio',\n",
    "    'energy_sq', 'tempo_log', 'loudness_sq'\n",
    "]\n",
    "\n",
    "# Combineer automatisch alle namen\n",
    "combined_feature_names = list(feature_names) + extra_features\n",
    "\n",
    "# ---------------------------\n",
    "# Lengteverschil veilig oplossen\n",
    "# ---------------------------\n",
    "\n",
    "min_len = min(len(combined_feature_names), len(importances))\n",
    "\n",
    "if len(combined_feature_names) != len(importances):\n",
    "    print(f\"⚠️ Feature name mismatch: {len(combined_feature_names)} namen, {len(importances)} importances.\")\n",
    "    print(\"→ Dit komt doordat FunctionTransformer of OneHotEncoder extra kolommen maakt.\")\n",
    "    print(\"Alleen de eerste\", min_len, \"features worden gebruikt.\\n\")\n",
    "\n",
    "# ---------------------------\n",
    "# DataFrame met feature importances maken\n",
    "# ---------------------------\n",
    "\n",
    "feat_imp = pd.DataFrame({\n",
    "    'Feature': combined_feature_names[:min_len],\n",
    "    'Importance': importances[:min_len]\n",
    "}).sort_values(by='Importance', ascending=False)\n",
    "\n",
    "# ---------------------------\n",
    "# Plot van de top 15 belangrijkste features\n",
    "# ---------------------------\n",
    "\n",
    "plt.figure(figsize=(10,6))\n",
    "plt.barh(feat_imp['Feature'].head(15)[::-1], feat_imp['Importance'].head(15)[::-1])\n",
    "plt.xlabel('Belang (feature importance)')\n",
    "plt.ylabel('Feature')\n",
    "plt.title('Top 15 belangrijkste features voor song populariteit')\n",
    "plt.grid(axis='x', linestyle='--', alpha=0.6)\n",
    "plt.tight_layout()\n",
    "plt.show()\n",
    "\n",
    "# ---------------------------\n",
    "# Tabel met top 20 tonen\n",
    "# ---------------------------\n",
    "\n",
    "display(feat_imp.head(20))\n",
    "\n",
    "# ---------------------------\n",
    "# Extra uitleg als debug\n",
    "# ---------------------------\n",
    "\n",
    "print(\"Model heeft\", len(importances), \"features.\")\n",
    "print(\"Preprocessor rapporteert\", len(feature_names), \"namen.\\n\")\n",
    "\n",
    "missing = len(importances) - len(feature_names)\n",
    "if missing > 0:\n",
    "    print(f\"Er lijken {missing} namen te ontbreken — waarschijnlijk door FunctionTransformer (feature_engineering).\")\n",
    "else:\n",
    "    print(\"✅ Alle feature-namen en importances komen overeen!\")\n"
   ]
  },
  {
   "cell_type": "code",
   "execution_count": 19,
   "id": "2f9c1c15",
   "metadata": {},
   "outputs": [
    {
     "data": {
      "application/vnd.microsoft.datawrangler.viewer.v0+json": {
       "columns": [
        {
         "name": "index",
         "rawType": "int64",
         "type": "integer"
        },
        {
         "name": "Model",
         "rawType": "object",
         "type": "string"
        },
        {
         "name": "R2",
         "rawType": "float64",
         "type": "float"
        },
        {
         "name": "RMSE",
         "rawType": "float64",
         "type": "float"
        }
       ],
       "ref": "ee2481b8-6742-4d52-8023-3e6b17ab2a81",
       "rows": [
        [
         "0",
         "Lineaire regressie",
         "0.03245368541582361",
         "20.28702284380007"
        ],
        [
         "1",
         "Random Forest",
         "0.052000123095261364",
         "20.081057383724684"
        ]
       ],
       "shape": {
        "columns": 3,
        "rows": 2
       }
      },
      "text/html": [
       "<div>\n",
       "<style scoped>\n",
       "    .dataframe tbody tr th:only-of-type {\n",
       "        vertical-align: middle;\n",
       "    }\n",
       "\n",
       "    .dataframe tbody tr th {\n",
       "        vertical-align: top;\n",
       "    }\n",
       "\n",
       "    .dataframe thead th {\n",
       "        text-align: right;\n",
       "    }\n",
       "</style>\n",
       "<table border=\"1\" class=\"dataframe\">\n",
       "  <thead>\n",
       "    <tr style=\"text-align: right;\">\n",
       "      <th></th>\n",
       "      <th>Model</th>\n",
       "      <th>R2</th>\n",
       "      <th>RMSE</th>\n",
       "    </tr>\n",
       "  </thead>\n",
       "  <tbody>\n",
       "    <tr>\n",
       "      <th>0</th>\n",
       "      <td>Lineaire regressie</td>\n",
       "      <td>0.032454</td>\n",
       "      <td>20.287023</td>\n",
       "    </tr>\n",
       "    <tr>\n",
       "      <th>1</th>\n",
       "      <td>Random Forest</td>\n",
       "      <td>0.052000</td>\n",
       "      <td>20.081057</td>\n",
       "    </tr>\n",
       "  </tbody>\n",
       "</table>\n",
       "</div>"
      ],
      "text/plain": [
       "                Model        R2       RMSE\n",
       "0  Lineaire regressie  0.032454  20.287023\n",
       "1       Random Forest  0.052000  20.081057"
      ]
     },
     "metadata": {},
     "output_type": "display_data"
    }
   ],
   "source": [
    "resultaten = pd.DataFrame({\n",
    "    'Model': ['Lineaire regressie', 'Random Forest'],\n",
    "    'R2': [r2_score(y_test, y_pred), r2_rf],\n",
    "    'RMSE': [root_mean_squared_error(y_test, y_pred), rmse_rf]\n",
    "})\n",
    "display(resultaten)"
   ]
  }
 ],
 "metadata": {
  "kernelspec": {
   "display_name": ".venv (3.13.3)",
   "language": "python",
   "name": "python3"
  },
  "language_info": {
   "codemirror_mode": {
    "name": "ipython",
    "version": 3
   },
   "file_extension": ".py",
   "mimetype": "text/x-python",
   "name": "python",
   "nbconvert_exporter": "python",
   "pygments_lexer": "ipython3",
   "version": "3.13.3"
  }
 },
 "nbformat": 4,
 "nbformat_minor": 5
}
