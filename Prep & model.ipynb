{
 "cells": [
  {
   "cell_type": "markdown",
   "id": "d5ae150c",
   "metadata": {},
   "source": [
    "# Data Preparation, Pipelines & Model "
   ]
  },
  {
   "cell_type": "code",
   "execution_count": null,
   "id": "ff3be992",
   "metadata": {},
   "outputs": [],
   "source": [
    "# Modules importeren\n",
    "import pandas as pd\n",
    "import numpy as np\n",
    "import matplotlib.pyplot as plt\n",
    "\n",
    "from sklearn.preprocessing import StandardScaler, OneHotEncoder, FunctionTransformer, PowerTransformer\n",
    "from sklearn.pipeline import Pipeline\n",
    "from sklearn.linear_model import LinearRegression\n",
    "from sklearn.model_selection import train_test_split, GridSearchCV, RandomizedSearchCV\n",
    "from sklearn.metrics import r2_score, mean_squared_error, root_mean_squared_error\n",
    "from sklearn.compose import ColumnTransformer\n",
    "from sklearn.base import BaseEstimator, TransformerMixin\n",
    "from sklearn.ensemble import RandomForestRegressor\n",
    "from scipy.stats import randint\n",
    "import joblib"
   ]
  },
  {
   "cell_type": "code",
   "execution_count": null,
   "id": "e0e3d764",
   "metadata": {},
   "outputs": [],
   "source": [
    "# Dataset importeren \n",
    "df = pd.read_csv(\"/Users/odessa/Desktop/Applied Data Science & AI/Data Science/Code Inleiding data science/song_data.csv\")"
   ]
  },
  {
   "cell_type": "code",
   "execution_count": null,
   "id": "18463f9d",
   "metadata": {},
   "outputs": [],
   "source": [
    "print(df['time_signature'].value_counts(dropna=False))"
   ]
  },
  {
   "cell_type": "code",
   "execution_count": null,
   "id": "e47a00de",
   "metadata": {},
   "outputs": [],
   "source": [
    "df = df[df['time_signature'] > 1]"
   ]
  },
  {
   "cell_type": "code",
   "execution_count": null,
   "id": "3915d806",
   "metadata": {},
   "outputs": [],
   "source": [
    "# Target variabele maken \n",
    "target = 'song_popularity'"
   ]
  },
  {
   "cell_type": "markdown",
   "id": "1a787fa6",
   "metadata": {},
   "source": [
    "### Phase 3: Data Preparation"
   ]
  },
  {
   "cell_type": "code",
   "execution_count": null,
   "id": "9dc18af5",
   "metadata": {},
   "outputs": [],
   "source": [
    "# 2 nummers droppen\n",
    "#df = df.drop([7119, 11171]).reset_index(drop=True)"
   ]
  },
  {
   "cell_type": "code",
   "execution_count": null,
   "id": "71414a8c",
   "metadata": {},
   "outputs": [],
   "source": [
    "print(f\"Totaal aantal waardes in de dataframe vóór het verwijderen van dubbele waardes uit song_name en song_duration_ms: {len(df)}\")\n",
    "\n",
    "# Dubbele waardes droppen van song_name en song_duration \n",
    "# Als ik alleen song_name duplicates zou verwijderen, zou ik misschien covers van nummers verwijderen, dus daarom check ik ook de song_duration \n",
    "df.drop_duplicates(subset=['song_name', 'song_duration_ms'], inplace = True)\n",
    "print(f\"Totaal aantal waardes in de dataframe na verwijderen van dubbele waardes uit song_name en song_duration_ms: {len(df)}\")"
   ]
  },
  {
   "cell_type": "code",
   "execution_count": null,
   "id": "cfd97395",
   "metadata": {},
   "outputs": [],
   "source": [
    "df.drop(columns=[\"song_name\"], inplace=True) # inplace=True veranderd de originele dataframe zonder nieuwe dataframe te maken "
   ]
  },
  {
   "cell_type": "code",
   "execution_count": null,
   "id": "3a0835b1",
   "metadata": {},
   "outputs": [],
   "source": [
    "X = df.drop(columns=[target], axis=1)\n",
    "y = df[target]"
   ]
  },
  {
   "cell_type": "code",
   "execution_count": null,
   "id": "9f263d54",
   "metadata": {},
   "outputs": [],
   "source": [
    "print(X['key'].unique())"
   ]
  },
  {
   "cell_type": "code",
   "execution_count": null,
   "id": "8533aa60",
   "metadata": {},
   "outputs": [],
   "source": [
    "# Zorg dat 'key' en 'time_signature' als categorisch gezien worden\n",
    "X['time_signature'] = X['time_signature'].astype(str)\n",
    "X['key'] = X['key'].astype(int)  # blijft numeriek voor de cyclische encoder"
   ]
  },
  {
   "cell_type": "markdown",
   "id": "5b80686b",
   "metadata": {},
   "source": [
    "## Winsorizer Class"
   ]
  },
  {
   "cell_type": "code",
   "execution_count": null,
   "id": "83534109",
   "metadata": {},
   "outputs": [],
   "source": [
    "# BaseEstimator zorgt dat sklearn mijn class kan herkennen als model/stap in pipeline.\n",
    "# TransformerMixin geeft .fit_transform().\n",
    "class Winsorizer(BaseEstimator, TransformerMixin):\n",
    "    def __init__(self, kolommen): \n",
    "        self.kolommen = kolommen \n",
    "        self.grenzen_ = None # '_' betekent dat het attribuut pas beschikbaar wordt, nadat fit() is uitgevoerd. \n",
    "                             # None, omdat de grenzen nog niet bestaan -- worden berekend bij fit().\n",
    "\n",
    "    def fit(self, X, y=None):\n",
    "        \"\"\"Bereken de onder- en bovengrenzen per kolom met interkwartielafstand-regel.\"\"\"\n",
    "        self.grenzen_ = {}\n",
    "        for kolom in self.kolommen:\n",
    "            Q1 = X[kolom].quantile(0.25)\n",
    "            Q3 = X[kolom].quantile(0.75)\n",
    "            IKR = Q3 - Q1 \n",
    "            ondergrens = Q1 - 1.5 * IKR\n",
    "            bovengrens = Q3 + 1.5 * IKR\n",
    "            self.grenzen_[kolom] = (ondergrens, bovengrens)\n",
    "        return self \n",
    "    \n",
    "    def transform(self, X):\n",
    "        \"\"\"Winsoriseer uitschieters: vervang alle waardes buiten de grenzen met de dichtstbijzijnde grenswaarde.\"\"\"\n",
    "        X = X.copy() # kopie maken van data\n",
    "        for kolom, (ondergrens, bovengrens) in self.grenzen_.items():\n",
    "            dtype = X[kolom].dtype\n",
    "\n",
    "            # If the column is integer, cast the thresholds first\n",
    "            if np.issubdtype(dtype, np.integer):\n",
    "                ondergrens = int(round(ondergrens))\n",
    "                bovengrens = int(round(bovengrens))\n",
    "\n",
    "            X.loc[X[kolom] < ondergrens, kolom] = ondergrens\n",
    "            X.loc[X[kolom] > bovengrens, kolom] = bovengrens\n",
    "\n",
    "            # Just to be sure, cast back to the original dtype\n",
    "            X[kolom] = X[kolom].astype(dtype)\n",
    "        return X\n",
    "    \n",
    "    def get_feature_names_out(self, input_features=None):\n",
    "        \"\"\"Zorg dat de kolomnamen behouden blijven in de pipeline.\"\"\"\n",
    "        return np.array(self.kolommen)"
   ]
  },
  {
   "cell_type": "markdown",
   "id": "f0e3f138",
   "metadata": {},
   "source": [
    "## Key Cyclic Encoder class "
   ]
  },
  {
   "cell_type": "code",
   "execution_count": null,
   "id": "f4adfb5a",
   "metadata": {},
   "outputs": [],
   "source": [
    "class ToonsoortCyclischeEncoder(BaseEstimator, TransformerMixin):\n",
    "    \"\"\"\n",
    "    Cyclisch encoden van de toonsoort/key (0-11) met sinus en cosinus. \n",
    "    \"\"\"\n",
    "\n",
    "    def __init__(self, kolom='key', max_waarde=12):\n",
    "        self.kolom = kolom\n",
    "        self.max_waarde = max_waarde\n",
    "    \n",
    "    def fit(self, X, y=None):\n",
    "        return self \n",
    "    \n",
    "    def transform(self, X):\n",
    "        X = X.copy()\n",
    "        k = X[self.kolom]\n",
    "        X[f'{self.kolom}_sin'] = np.sin(2 * np.pi * k/self.max_waarde)\n",
    "        X[f'{self.kolom}_cos'] = np.cos(2 * np.pi * k/self.max_waarde)\n",
    "        return X.drop(columns=[self.kolom])\n",
    "    \n",
    "    def get_feature_names_out(self, input_features=None):\n",
    "        return np.array([f'{self.kolom}_sin', f'{self.kolom}_cos'])"
   ]
  },
  {
   "cell_type": "code",
   "execution_count": null,
   "id": "15b2e6bd",
   "metadata": {},
   "outputs": [],
   "source": [
    "def get_feature_names_from_column_transformer(ct):\n",
    "    \"\"\"Haalt feature names uit een ColumnTransformer, ook als nested pipelines aanwezig zijn.\"\"\"\n",
    "    output_features = []\n",
    "\n",
    "    for name, transformer, cols in ct.transformers_:\n",
    "        if transformer == 'drop':\n",
    "            continue\n",
    "        elif transformer == 'passthrough':\n",
    "            output_features.extend(cols)\n",
    "        elif hasattr(transformer, 'get_feature_names_out'):\n",
    "            try:\n",
    "                names = transformer.get_feature_names_out(cols)\n",
    "                output_features.extend(names)\n",
    "            except:\n",
    "                output_features.extend(cols)\n",
    "        elif hasattr(transformer, 'transformers_'):  # nested ColumnTransformer\n",
    "            output_features.extend(get_feature_names_from_column_transformer(transformer))\n",
    "        elif isinstance(transformer, Pipeline):\n",
    "            last_step = transformer.steps[-1][1]\n",
    "            if hasattr(last_step, 'get_feature_names_out'):\n",
    "                try:\n",
    "                    names = last_step.get_feature_names_out(cols)\n",
    "                    output_features.extend(names)\n",
    "                except:\n",
    "                    output_features.extend(cols)\n",
    "            else:\n",
    "                output_features.extend(cols)\n",
    "        else:\n",
    "            output_features.extend(cols)\n",
    "    return output_features"
   ]
  },
  {
   "cell_type": "markdown",
   "id": "c9a4ec21",
   "metadata": {},
   "source": [
    "### Phase 4: Modeling "
   ]
  },
  {
   "cell_type": "markdown",
   "id": "8cd89d72",
   "metadata": {},
   "source": [
    "Supervised learning, omdat je de uitkomst al hebt \n",
    "<br>\n",
    "Supervised learning heeft 2 hoofdtakken: regressie en classificatie \n",
    "<br>\n",
    "RMSE \n",
    "<br>\n",
    "Meervoudige lineare regressie \n",
    "<br>\n",
    "Logistieke lineare regressie is classification \n",
    "<br>\n",
    "Random forests is het begin van dat machine learning slim werd "
   ]
  },
  {
   "cell_type": "code",
   "execution_count": null,
   "id": "a4b509f2",
   "metadata": {},
   "outputs": [],
   "source": [
    "def nieuwe_features(df):\n",
    "    df = df.copy()\n",
    "\n",
    "\n",
    "    df['energy_dance'] = df['energy'] * df['danceability']\n",
    "    df['valence_dance'] = df['audio_valence'] * df['danceability']\n",
    "\n",
    "    #Ratio featurres\n",
    "    df['acoustic_dance_ratio'] = df['acousticness'] / (df['danceability'] + 0.001)\n",
    "    df['duration_energy_ratio'] = df['song_duration_ms'] / (df['energy'] + 0.001)\n",
    "\n",
    "    # Replace any infinities that could appear from division\n",
    "    df.replace([np.inf, -np.inf], np.nan, inplace=True)\n",
    "    df.fillna(0, inplace=True)\n",
    "    return df\n",
    "feature_engineering = FunctionTransformer(nieuwe_features, validate=False)"
   ]
  },
  {
   "cell_type": "code",
   "execution_count": null,
   "id": "9634cfeb",
   "metadata": {},
   "outputs": [],
   "source": [
    "# Kolommen indelen\n",
    "kolommen_winsoriseren = ['song_duration_ms', 'tempo']\n",
    "categorische_kolommen = ['time_signature']\n",
    "cyclische_kolommen = ['key']\n",
    "engineered_features = [\n",
    "    'energy_dance', 'valence_dance',\n",
    "    'acoustic_dance_ratio', 'duration_energy_ratio'\n",
    "]\n",
    "\n",
    "# Alle numerieke kolommen behalve target\n",
    "numerieke_kolommen = X.select_dtypes(include=['int64', 'float64']).columns.tolist()\n",
    "\n",
    "# Alle numerieke kolommen behalve target\n",
    "overige_kolommen = [\n",
    "    c for c in numerieke_kolommen\n",
    "    if c not in kolommen_winsoriseren + cyclische_kolommen + categorische_kolommen\n",
    "]"
   ]
  },
  {
   "cell_type": "code",
   "execution_count": null,
   "id": "6468c8ac",
   "metadata": {},
   "outputs": [],
   "source": [
    "# Train en test set maken \n",
    "X_train, X_test, y_train, y_test = train_test_split(\n",
    "   X, y, test_size=0.2, random_state = 42\n",
    ")"
   ]
  },
  {
   "cell_type": "code",
   "execution_count": null,
   "id": "b3c5ad59",
   "metadata": {},
   "outputs": [],
   "source": [
    "print(\"Numeriek:\", numerieke_kolommen)\n",
    "print(\"Overige:\", overige_kolommen)"
   ]
  },
  {
   "cell_type": "code",
   "execution_count": null,
   "id": "1bef036f",
   "metadata": {},
   "outputs": [],
   "source": [
    "skewed_cols = ['acousticness', 'instrumentalness', 'liveness', 'loudness', 'speechiness']"
   ]
  },
  {
   "cell_type": "markdown",
   "id": "01510c11",
   "metadata": {},
   "source": [
    "## Preprocessors"
   ]
  },
  {
   "cell_type": "code",
   "execution_count": null,
   "id": "7cbd74de",
   "metadata": {},
   "outputs": [],
   "source": [
    "# Preprocessor voor Lineaire Regressie\n",
    "preprocessor = ColumnTransformer([\n",
    "    # 1. outliers winsoriseren \n",
    "    ('winsor_scale', Pipeline([\n",
    "        ('winsor', Winsorizer(kolommen=kolommen_winsoriseren)),\n",
    "        ('scaler', StandardScaler())\n",
    "    ]), kolommen_winsoriseren),\n",
    "\n",
    "    # 2. yeo-johnson transform\n",
    "    ('transform_scale', Pipeline([\n",
    "        ('power', PowerTransformer(method='yeo-johnson')),\n",
    "        ('scaler', StandardScaler())\n",
    "    ]), ['danceability', 'audio_valence', 'energy']),\n",
    "\n",
    "    # 3. Log1p transform \n",
    "    ('log_scale', Pipeline([\n",
    "        ('log', FunctionTransformer(np.log1p, validate=False)),\n",
    "        ('scaler', StandardScaler())\n",
    "    ]), ['acoustic_dance_ratio', 'duration_energy_ratio']),\n",
    "\n",
    "    # 4. One-hot encoder\n",
    "    ('onehot', OneHotEncoder(handle_unknown='ignore'), categorische_kolommen),\n",
    "\n",
    "    # 5. Cyclisch encoden Key \n",
    "    ('key_cyclisch', Pipeline([\n",
    "        ('encoder', ToonsoortCyclischeEncoder(kolom='key', max_waarde=12)),\n",
    "        ('scaler', StandardScaler())\n",
    "    ]), cyclische_kolommen),\n",
    "\n",
    "    # 6. Overige numerieke waardes scalen \n",
    "    ('scale_rest', StandardScaler(), \n",
    "      [c for c in overige_kolommen \n",
    "        if c not in ['danceability', 'audio_valence', 'energy', 'loudness']] \n",
    "        + ['energy_dance', 'valence_dance'])\n",
    "],\n",
    "remainder='drop')"
   ]
  },
  {
   "cell_type": "code",
   "execution_count": null,
   "id": "4eada10a",
   "metadata": {},
   "outputs": [],
   "source": [
    "# Preprocessor voor Random Forest\n",
    "preprocessor_rf = ColumnTransformer([\n",
    "    ('winsor', Winsorizer(kolommen=kolommen_winsoriseren), kolommen_winsoriseren),\n",
    "    ('onehot', OneHotEncoder(handle_unknown='ignore'), categorische_kolommen),\n",
    "    ('key_cyclisch', ToonsoortCyclischeEncoder(kolom='key', max_waarde=12), cyclische_kolommen)\n",
    "], remainder='passthrough')"
   ]
  },
  {
   "cell_type": "markdown",
   "id": "d05e3583",
   "metadata": {},
   "source": [
    "## Pipelines"
   ]
  },
  {
   "cell_type": "code",
   "execution_count": null,
   "id": "7ea04ccb",
   "metadata": {},
   "outputs": [],
   "source": [
    "# Lineaire Regressie pipeline \n",
    "lineair_pipeline = Pipeline([\n",
    "    ('feature_creation', feature_engineering),\n",
    "    ('preprocess', preprocessor),\n",
    "    ('model', LinearRegression())\n",
    "])"
   ]
  },
  {
   "cell_type": "code",
   "execution_count": null,
   "id": "ecf7fafc",
   "metadata": {},
   "outputs": [],
   "source": [
    "# Random forest pipeline\n",
    "random_forest_pipeline = Pipeline([\n",
    "    ('feature_creation', feature_engineering),\n",
    "    ('preprocess', preprocessor_rf),\n",
    "    ('model', RandomForestRegressor(random_state=42, n_jobs=-1))\n",
    "])"
   ]
  },
  {
   "cell_type": "code",
   "execution_count": null,
   "id": "d2380c03",
   "metadata": {},
   "outputs": [],
   "source": [
    "# Trainen en evalueren \n",
    "lineair_pipeline.fit(X_train, y_train)\n",
    "y_pred = lineair_pipeline.predict(X_test)"
   ]
  },
  {
   "cell_type": "code",
   "execution_count": null,
   "id": "7230b218",
   "metadata": {},
   "outputs": [],
   "source": [
    "# Apply only preprocessing (exclude model)\n",
    "X_transformed = lineair_pipeline[:-1].fit_transform(X)\n",
    "\n",
    "# Get all feature names robustly\n",
    "feature_names = get_feature_names_from_column_transformer(\n",
    "    lineair_pipeline.named_steps['preprocess']\n",
    ")\n",
    "\n",
    "# Make DataFrame\n",
    "df_transformed = pd.DataFrame(X_transformed, columns=feature_names)\n",
    "\n",
    "# Plot histograms\n",
    "df_transformed.hist(figsize=(16, 12), bins=30)\n",
    "plt.tight_layout()\n",
    "plt.show()"
   ]
  },
  {
   "cell_type": "code",
   "execution_count": null,
   "id": "5273fe93",
   "metadata": {},
   "outputs": [],
   "source": [
    "# Functie Skewness en kurtosis berekenen en highlighten van hoog scheef, matig scheef en redelijk symmetrisch \n",
    "def skewness_kurtosis(df):\n",
    "    skewness = df.skew(numeric_only=True)\n",
    "    kurtosis = df.kurt(numeric_only=True)\n",
    "\n",
    "    stats_skew_kurt = pd.DataFrame({\n",
    "        'skewness': skewness,\n",
    "        'kurtosis': kurtosis\n",
    "    })\n",
    "\n",
    "    def highlighter(rij):\n",
    "        skew = rij['skewness']\n",
    "        color = ''\n",
    "        if skew > 1 or skew < -1: # Hoge scheefheid (groter dan 1 of kleiner dan -1) kleur = rood \n",
    "            color = 'background-color: red; color: black;'\n",
    "        elif 0.5 < abs(skew) <=1: # Matige scheefheid (scheefheid tussen -1 en -0.5 of tussen 0.5 en 1) kleur = blauw \n",
    "            color = 'background-color: #336df5; color: black;'\n",
    "        elif abs(skew) <= 0.5: # Redelijk symmetrische distributie (scheefheid tussen -0.5 en 0.5) geen highlight\n",
    "            color = 'color: white;'\n",
    "        return ['' if c != 'skewness' else color for c in stats_skew_kurt.columns]\n",
    "    \n",
    "    styled = stats_skew_kurt.style.apply(highlighter, axis=1)\n",
    "    display(styled)\n",
    "    return stats_skew_kurt"
   ]
  },
  {
   "cell_type": "code",
   "execution_count": null,
   "id": "e3a16530",
   "metadata": {},
   "outputs": [],
   "source": [
    "stats = skewness_kurtosis(X)\n",
    "skewed_cols = stats.loc[stats['skewness'].abs() > 1].index.tolist()\n",
    "print(\"Sterk scheve kolommen:\", skewed_cols)"
   ]
  },
  {
   "cell_type": "code",
   "execution_count": null,
   "id": "2e1322b9",
   "metadata": {},
   "outputs": [],
   "source": [
    "stats = skewness_kurtosis(df_transformed)\n",
    "skewed_cols = stats.loc[stats['skewness'].abs() > 1].index.tolist()\n",
    "print(\"Sterk scheve kolommen:\", skewed_cols)"
   ]
  },
  {
   "cell_type": "markdown",
   "id": "b3fa789d",
   "metadata": {},
   "source": [
    "## Fase 1: RandomizedSearchCV"
   ]
  },
  {
   "cell_type": "code",
   "execution_count": null,
   "id": "7a45dc62",
   "metadata": {},
   "outputs": [],
   "source": [
    "# Broad parameter ranges\n",
    "param_dist = {\n",
    "    'model__n_estimators': randint(100, 400),\n",
    "    'model__max_depth': randint(4, 16),\n",
    "    'model__min_samples_split': randint(2, 10),\n",
    "    'model__min_samples_leaf': randint(1, 5)\n",
    "}\n",
    "\n",
    "random_search = RandomizedSearchCV(\n",
    "    estimator=random_forest_pipeline,\n",
    "    param_distributions=param_dist,\n",
    "    n_iter=25,          # number of random combinations to test\n",
    "    scoring='r2',\n",
    "    cv=3,               # fewer folds = faster\n",
    "    n_jobs=-1,\n",
    "    random_state=42,\n",
    "    verbose=2\n",
    ")\n",
    "\n",
    "random_search.fit(X_train, y_train)\n",
    "\n",
    "print(\"Best parameters (random search):\", random_search.best_params_)\n",
    "print(\"Best CV R²:\", random_search.best_score_)\n",
    "\n",
    "# (Optional) Save for later\n",
    "import joblib\n",
    "joblib.dump(random_search, \"random_search_rf.pkl\")\n",
    "\n",
    "# Store the best params for grid refinement\n",
    "best = random_search.best_params_"
   ]
  },
  {
   "cell_type": "markdown",
   "id": "824a19ed",
   "metadata": {},
   "source": [
    "Best parameters (random search): {'model__max_depth': 8, 'model__min_samples_leaf': 1, 'model__min_samples_split': 8, 'model__n_estimators': 373}\n",
    "Best CV R²: 0.047162919920938094"
   ]
  },
  {
   "cell_type": "markdown",
   "id": "b8295222",
   "metadata": {},
   "source": [
    "## Fase 2: GridSearchCV "
   ]
  },
  {
   "cell_type": "code",
   "execution_count": null,
   "id": "c14d86d4",
   "metadata": {},
   "outputs": [],
   "source": [
    "# Define a tighter grid around the best RandomizedSearchCV result\n",
    "param_grid = {\n",
    "    'model__n_estimators': [best['model__n_estimators'] - 50,\n",
    "                            best['model__n_estimators'],\n",
    "                            best['model__n_estimators'] + 50],\n",
    "    'model__max_depth': [best['model__max_depth'] - 2,\n",
    "                         best['model__max_depth'],\n",
    "                         best['model__max_depth'] + 2],\n",
    "    'model__min_samples_split': [best['model__min_samples_split'] - 1,\n",
    "                                 best['model__min_samples_split'],\n",
    "                                 best['model__min_samples_split'] + 1],\n",
    "    'model__min_samples_leaf': [best['model__min_samples_leaf'] - 1,\n",
    "                                best['model__min_samples_leaf'],\n",
    "                                best['model__min_samples_leaf'] + 1]\n",
    "}\n",
    "\n",
    "# Remove invalid (≤ 0) values\n",
    "for key, vals in param_grid.items():\n",
    "    param_grid[key] = [v for v in vals if v > 0]\n",
    "\n",
    "# Define grid search\n",
    "grid_search = GridSearchCV(\n",
    "    estimator=random_forest_pipeline,\n",
    "    param_grid=param_grid,\n",
    "    scoring='r2',\n",
    "    cv=5,\n",
    "    n_jobs=-1,\n",
    "    verbose=2\n",
    ")\n",
    "\n",
    "grid_search.fit(X_train, y_train)\n",
    "\n",
    "print(\"Best parameters (grid refinement):\", grid_search.best_params_)\n",
    "print(\"Cross-val R²:\", grid_search.best_score_)\n",
    "\n",
    "# Save the trained grid search for later use\n",
    "import joblib\n",
    "joblib.dump(grid_search, \"grid_search_rf.pkl\")"
   ]
  },
  {
   "cell_type": "markdown",
   "id": "05466368",
   "metadata": {},
   "source": [
    "Best parameters (grid refinement): {'model__max_depth': 8, 'model__min_samples_leaf': 2, 'model__min_samples_split': 8, 'model__n_estimators': 373}\n",
    "<br>\n",
    "Cross-val R²: 0.05182079174157097"
   ]
  },
  {
   "cell_type": "code",
   "execution_count": null,
   "id": "e8c2999f",
   "metadata": {},
   "outputs": [],
   "source": [
    "grid_search = joblib.load(\"grid_search_rf.pkl\")"
   ]
  },
  {
   "cell_type": "code",
   "execution_count": null,
   "id": "8d588e01",
   "metadata": {},
   "outputs": [],
   "source": [
    "from sklearn.model_selection import KFold, cross_val_score\n",
    "from sklearn.metrics import make_scorer, r2_score\n",
    "import numpy as np\n",
    "\n",
    "# Define KFold (5 splits, shuffled for randomness)\n",
    "kfold = KFold(n_splits=5, shuffle=True, random_state=42)\n",
    "\n",
    "# Evaluate Linear Regression\n",
    "scores_lin = cross_val_score(lineair_pipeline, X, y, cv=kfold,\n",
    "                             scoring=make_scorer(r2_score))\n",
    "\n",
    "# Evaluate Random Forest\n",
    "scores_rf = cross_val_score(random_forest_pipeline, X, y, cv=kfold,\n",
    "                            scoring=make_scorer(r2_score))\n",
    "\n",
    "print(\"Linear Regression R² per fold:\", scores_lin)\n",
    "print(\"Random Forest R² per fold:\", scores_rf)\n",
    "print(\"Mean ± SD (Linear):\", np.mean(scores_lin), \"±\", np.std(scores_lin))\n",
    "print(\"Mean ± SD (Random Forest):\", np.mean(scores_rf), \"±\", np.std(scores_rf))\n",
    "\n",
    "\n",
    "# Custom scorer for RMSE\n",
    "rmse_scorer = make_scorer(lambda y_true, y_pred: \n",
    "                          root_mean_squared_error(y_true, y_pred),\n",
    "                          greater_is_better=False)\n",
    "\n",
    "# Add RMSE cross-val\n",
    "scores_rf_rmse = cross_val_score(random_forest_pipeline, X, y, cv=kfold, scoring=rmse_scorer)\n",
    "print(\"Random Forest RMSE per fold:\", -scores_rf_rmse)\n"
   ]
  },
  {
   "cell_type": "code",
   "execution_count": null,
   "id": "98823922",
   "metadata": {},
   "outputs": [],
   "source": [
    "from scipy.stats import ttest_rel\n",
    "\n",
    "# Perform a paired t-test on the cross-validation R² scores\n",
    "t_stat, p_val = ttest_rel(scores_rf, scores_lin)\n",
    "\n",
    "print(f\"T-statistic = {t_stat:.4f}, p-value = {p_val:.4f}\")\n",
    "\n",
    "# Interpretation\n",
    "if p_val < 0.05:\n",
    "    print(\"Significant difference: Random Forest and Linear Regression perform differently.\")\n",
    "else:\n",
    "    print(\"No statistically significant difference detected.\")"
   ]
  },
  {
   "cell_type": "markdown",
   "id": "b0534763",
   "metadata": {},
   "source": [
    "## Evaluatie test data"
   ]
  },
  {
   "cell_type": "code",
   "execution_count": null,
   "id": "7ca9bab3",
   "metadata": {},
   "outputs": [],
   "source": [
    "beste_model = grid_search.best_estimator_\n",
    "y_pred_rf = beste_model.predict(X_test)\n",
    "\n",
    "r2_rf = r2_score(y_test, y_pred_rf)\n",
    "rmse_rf = root_mean_squared_error(y_test, y_pred_rf)\n",
    "\n",
    "print(f\"Test R²: {r2_rf:.4f}\")\n",
    "print(f\"Test RMSE: {rmse_rf:.4f}\")"
   ]
  },
  {
   "cell_type": "markdown",
   "id": "987c6925",
   "metadata": {},
   "source": [
    "## Resultaten vergelijken"
   ]
  },
  {
   "cell_type": "code",
   "execution_count": null,
   "id": "36ea2757",
   "metadata": {},
   "outputs": [],
   "source": [
    "y_pred_lin = lineair_pipeline.predict(X_test)\n",
    "r2_lin = r2_score(y_test, y_pred_lin)\n",
    "rmse_lin = root_mean_squared_error(y_test, y_pred_lin)\n",
    "\n",
    "resultaten = pd.DataFrame({\n",
    "    'Model': ['Lineaire regressie', 'Random Forest'],\n",
    "    'R2': [r2_lin, r2_rf],\n",
    "    'RMSE': [rmse_lin, rmse_rf]\n",
    "}).round({'R2': 4, 'RMSE': 2})\n",
    "\n",
    "display(resultaten)"
   ]
  },
  {
   "cell_type": "markdown",
   "id": "27ea2347",
   "metadata": {},
   "source": [
    "### Observaties resultaten "
   ]
  },
  {
   "cell_type": "markdown",
   "id": "8812b0b6",
   "metadata": {},
   "source": [
    "Random forest presteert beter dan lineare regressie: R² iets omhoog en RMSE iets omlaag. \n",
    "<br>\n",
    "RMSE van 20 is logisch, omdat je populariteit niet alleen op basis van audio features kunt voorspellen. "
   ]
  },
  {
   "cell_type": "markdown",
   "id": "e68e5a74",
   "metadata": {},
   "source": [
    "### Feature Importances"
   ]
  },
  {
   "cell_type": "code",
   "execution_count": null,
   "id": "4921ae5b",
   "metadata": {},
   "outputs": [],
   "source": [
    "model = grid_search.best_estimator_.named_steps['model']\n",
    "importances = model.feature_importances_\n",
    "\n",
    "# Use helper to get feature names\n",
    "preprocessor = grid_search.best_estimator_.named_steps['preprocess']\n",
    "feature_names = get_feature_names_from_column_transformer(preprocessor)\n",
    "\n",
    "# Create series and sort \n",
    "feat_importance = pd.Series(importances, index=feature_names).sort_values(ascending=False)\n",
    "\n",
    "#Plot top 15 belangrijke features\n",
    "\n",
    "plt.figure(figsize=(10, 6))\n",
    "feat_importance.head(15).plot(kind='bar', color='mediumseagreen')\n",
    "plt.title(\"Belangrijkste Features (Random Forest)\")\n",
    "plt.ylabel(\"Feature Importance\")\n",
    "plt.xlabel(\"Feature\")\n",
    "plt.tight_layout()\n",
    "plt.show()"
   ]
  },
  {
   "cell_type": "code",
   "execution_count": null,
   "id": "d071678b",
   "metadata": {},
   "outputs": [],
   "source": [
    "print(feat_importance.to_string())"
   ]
  }
 ],
 "metadata": {
  "kernelspec": {
   "display_name": ".venv (3.13.3)",
   "language": "python",
   "name": "python3"
  },
  "language_info": {
   "codemirror_mode": {
    "name": "ipython",
    "version": 3
   },
   "file_extension": ".py",
   "mimetype": "text/x-python",
   "name": "python",
   "nbconvert_exporter": "python",
   "pygments_lexer": "ipython3",
   "version": "3.13.3"
  }
 },
 "nbformat": 4,
 "nbformat_minor": 5
}
