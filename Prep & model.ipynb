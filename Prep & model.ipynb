{
 "cells": [
  {
   "cell_type": "markdown",
   "id": "d5ae150c",
   "metadata": {},
   "source": [
    "# Data Preparation, Pipelines & Model "
   ]
  },
  {
   "cell_type": "code",
   "execution_count": null,
   "id": "ff3be992",
   "metadata": {},
   "outputs": [],
   "source": [
    "# Modules importeren\n",
    "import pandas as pd\n",
    "import matplotlib.pyplot as plt\n",
    "import numpy as np\n",
    "from sklearn.preprocessing import StandardScaler, OneHotEncoder, FunctionTransformer\n",
    "from sklearn.pipeline import Pipeline\n",
    "from sklearn.linear_model import LinearRegression\n",
    "from sklearn.model_selection import train_test_split, GridSearchCV\n",
    "from sklearn.metrics import mean_squared_error, r2_score, root_mean_squared_error\n",
    "from sklearn.compose import ColumnTransformer\n",
    "from sklearn.base import BaseEstimator, TransformerMixin\n",
    "from sklearn.ensemble import RandomForestRegressor"
   ]
  },
  {
   "cell_type": "code",
   "execution_count": null,
   "id": "e0e3d764",
   "metadata": {},
   "outputs": [],
   "source": [
    "# Dataset importeren \n",
    "df = pd.read_csv(\"/Users/odessa/Desktop/Applied Data Science & AI/Data Science/Code Inleiding data science/song_data.csv\")"
   ]
  },
  {
   "cell_type": "code",
   "execution_count": null,
   "id": "3915d806",
   "metadata": {},
   "outputs": [],
   "source": [
    "# Target variabele maken \n",
    "target = 'song_popularity'"
   ]
  },
  {
   "cell_type": "code",
   "execution_count": null,
   "id": "e0cf8ec1",
   "metadata": {},
   "outputs": [],
   "source": [
    "#df.drop(columns=[\"song_name\"], inplace=True) # inplace=True veranderd de originele dataframe zonder nieuwe dataframe te maken "
   ]
  },
  {
   "cell_type": "markdown",
   "id": "1a787fa6",
   "metadata": {},
   "source": [
    "### Phase 3: Data Preparation"
   ]
  },
  {
   "cell_type": "code",
   "execution_count": 2,
   "id": "9dc18af5",
   "metadata": {},
   "outputs": [],
   "source": [
    "# 2 nummers droppen\n",
    "df = df.drop([7119, 11171]).reset_index(drop=True)"
   ]
  },
  {
   "cell_type": "code",
   "execution_count": 3,
   "id": "71414a8c",
   "metadata": {},
   "outputs": [
    {
     "name": "stdout",
     "output_type": "stream",
     "text": [
      "Totaal aantal waardes in de dataframe vóór het verwijderen van dubbele waardes uit song_name en song_duration_ms: 18833\n",
      "Totaal aantal waardes in de dataframe na verwijderen van dubbele waardes uit song_name en song_duration_ms: 14466\n"
     ]
    }
   ],
   "source": [
    "print(f\"Totaal aantal waardes in de dataframe vóór het verwijderen van dubbele waardes uit song_name en song_duration_ms: {len(df)}\")\n",
    "\n",
    "# Dubbele waardes droppen van song_name en song_duration \n",
    "# Als ik alleen song_name duplicates zou verwijderen, zou ik misschien covers van nummers verwijderen, dus daarom check ik ook de song_duration \n",
    "df.drop_duplicates(subset=['song_name', 'song_duration_ms'], inplace = True)\n",
    "print(f\"Totaal aantal waardes in de dataframe na verwijderen van dubbele waardes uit song_name en song_duration_ms: {len(df)}\")"
   ]
  },
  {
   "cell_type": "code",
   "execution_count": 4,
   "id": "cfd97395",
   "metadata": {},
   "outputs": [],
   "source": [
    "df.drop(columns=[\"song_name\"], inplace=True) # inplace=True veranderd de originele dataframe zonder nieuwe dataframe te maken "
   ]
  },
  {
   "cell_type": "code",
   "execution_count": 5,
   "id": "3a0835b1",
   "metadata": {},
   "outputs": [],
   "source": [
    "X = df.drop(columns=[target], axis=1)\n",
    "y = df[target]"
   ]
  },
  {
   "cell_type": "markdown",
   "id": "5b80686b",
   "metadata": {},
   "source": [
    "## Winsorizer Class"
   ]
  },
  {
   "cell_type": "code",
   "execution_count": 6,
   "id": "83534109",
   "metadata": {},
   "outputs": [],
   "source": [
    "# BaseEstimator zorgt dat sklearn mijn class kan herkennen als model/stap in pipeline.\n",
    "# TransformerMixin geeft .fit_transform().\n",
    "class Winsorizer(BaseEstimator, TransformerMixin):\n",
    "    def __init__(self, kolommen): \n",
    "        self.kolommen = kolommen \n",
    "        self.grenzen_ = None # '_' betekent dat het attribuut pas beschikbaar wordt, nadat fit() is uitgevoerd. \n",
    "                             # None, omdat de grenzen nog niet bestaan -- worden berekend bij fit().\n",
    "\n",
    "    def fit(self, X, y=None):\n",
    "        \"\"\"Bereken de onder- en bovengrenzen per kolom met interkwartielafstand-regel.\"\"\"\n",
    "        self.grenzen_ = {}\n",
    "        for kolom in self.kolommen:\n",
    "            Q1 = X[kolom].quantile(0.25)\n",
    "            Q3 = X[kolom].quantile(0.75)\n",
    "            IKR = Q3 - Q1 \n",
    "            ondergrens = Q1 - 1.5 * IKR\n",
    "            bovengrens = Q3 + 1.5 * IKR\n",
    "            self.grenzen_[kolom] = (ondergrens, bovengrens)\n",
    "        return self \n",
    "    \n",
    "    def transform(self, X):\n",
    "        \"\"\"Winsoriseer uitschieters: vervang alle waardes buiten de grenzen met de dichtstbijzijnde grenswaarde.\"\"\"\n",
    "        X = X.copy() # Kopie maken van data \n",
    "        for kolom, (ondergrens, bovengrens) in self.grenzen_.items():\n",
    "            X.loc[X[kolom] < ondergrens, kolom] = ondergrens \n",
    "            X.loc[X[kolom] > bovengrens, kolom] = bovengrens \n",
    "        return X\n",
    "    def get_feature_names_out(self, input_features=None):\n",
    "        return np.array(self.kolommen)"
   ]
  },
  {
   "cell_type": "markdown",
   "id": "f0e3f138",
   "metadata": {},
   "source": [
    "## Key Cyclic Encoder class "
   ]
  },
  {
   "cell_type": "code",
   "execution_count": 7,
   "id": "f4adfb5a",
   "metadata": {},
   "outputs": [],
   "source": [
    "class ToonsoortCyclischeEncoder(BaseEstimator, TransformerMixin):\n",
    "    \"\"\"\n",
    "    Cyclisch encoden van de toonsoort/key (0-11) met sinus en cosinus. \n",
    "    \"\"\"\n",
    "\n",
    "    def __init__(self, kolom='key', max_waarde=12):\n",
    "        self.kolom = kolom\n",
    "        self.max_waarde = max_waarde\n",
    "    \n",
    "    def fit(self, X, y=None):\n",
    "        return self \n",
    "    \n",
    "    def transform(self, X):\n",
    "        X = X.copy()\n",
    "        k = X[self.kolom]\n",
    "        X[f'{self.kolom}_sin'] = np.sin(2 * np.pi * k/self.max_waarde)\n",
    "        X[f'{self.kolom}_cos'] = np.cos(2 * np.pi * k/self.max_waarde)\n",
    "        return X.drop(columns=[self.kolom])\n",
    "    def get_feature_names_out(self, input_features=None):\n",
    "        return np.array(self.kolommen)"
   ]
  },
  {
   "cell_type": "markdown",
   "id": "c9a4ec21",
   "metadata": {},
   "source": [
    "### Phase 4: Modeling "
   ]
  },
  {
   "cell_type": "markdown",
   "id": "8cd89d72",
   "metadata": {},
   "source": [
    "Supervised learning, omdat je de uitkomst al hebt \n",
    "<br>\n",
    "Supervised learning heeft 2 hoofdtakken: regressie en classificatie \n",
    "<br>\n",
    "RMSE \n",
    "<br>\n",
    "Meervoudige lineare regressie \n",
    "<br>\n",
    "Logistieke lineare regressie is classification \n",
    "<br>\n",
    "Random forests is het begin van dat machine learning slim werd "
   ]
  },
  {
   "cell_type": "code",
   "execution_count": 8,
   "id": "a4b509f2",
   "metadata": {},
   "outputs": [],
   "source": [
    "def nieuwe_features(X):\n",
    "    X = X.copy()\n",
    "    X['energy_dance'] = X['energy'] * X['danceability']\n",
    "    X['tempo_loudness'] = X['tempo'] * X['loudness']\n",
    "    X['valence_energy'] = X['audio_valence'] * X['energy']\n",
    "    X['acoustic_energy_ratio'] = X['acousticness'] / (X['energy'] + 0.001)\n",
    "    X['speech_loudness_ratio'] = X['speechiness'] / (abs(X['loudness']) + 0.001)\n",
    "    X['acoustic_dance_ratio'] = X['acousticness'] / (X['danceability'] + 0.001)\n",
    "    X['energy_per_tempo'] = X['energy'] / (X['tempo'] + 0.001)\n",
    "    X['valence_dance'] = X['audio_valence'] * X['danceability']\n",
    "    X['duration_energy_ratio'] = X['song_duration_ms'] / (X['energy'] + 0.001)\n",
    "\n",
    "    # Niet - lineaire verbanden \n",
    "    X['energy_sq'] = X['energy'] ** 2\n",
    "    X['tempo_log'] = np.log1p(X['tempo'])\n",
    "    X['loudness_sq'] = X['loudness'] ** 2\n",
    "    return X\n",
    "feature_engineering = FunctionTransformer(nieuwe_features, validate=False)"
   ]
  },
  {
   "cell_type": "code",
   "execution_count": 9,
   "id": "6468c8ac",
   "metadata": {},
   "outputs": [],
   "source": [
    "# Train en test set maken \n",
    "X_train, X_test, y_train, y_test = train_test_split(\n",
    "   X, y, test_size=0.2, random_state = 42\n",
    ")"
   ]
  },
  {
   "cell_type": "code",
   "execution_count": 10,
   "id": "970024d4",
   "metadata": {},
   "outputs": [],
   "source": [
    "# Kolommen indelen\n",
    "kolommen_winsoriseren = ['song_duration_ms', 'loudness', 'tempo']\n",
    "categorische_kolommen = ['time_signature']\n",
    "cyclische_kolommen = ['key']\n",
    "\n",
    "#Alle nummerieke kolommen behalve target\n",
    "numerieke_kolommen = X.select_dtypes(include=['int64', 'float64']).columns.tolist()\n",
    "overige_kolommen = [\n",
    "    c for c in numerieke_kolommen \n",
    "    if c not in kolommen_winsoriseren + categorische_kolommen + cyclische_kolommen\n",
    "]"
   ]
  },
  {
   "cell_type": "markdown",
   "id": "de6553bf",
   "metadata": {},
   "source": [
    "## Pipelines "
   ]
  },
  {
   "cell_type": "code",
   "execution_count": 11,
   "id": "38095c30",
   "metadata": {},
   "outputs": [],
   "source": [
    "# Preprocessing\n",
    "preprocessor = ColumnTransformer([\n",
    "    ('winsor_scale', Pipeline ([ # Pipeline zorgt dat alle transformaties in de serie worden uitgevoerd op dezelfde kolommen. \n",
    "        ('winsor', Winsorizer(kolommen=kolommen_winsoriseren)),\n",
    "        ('scaler', StandardScaler()) # Dit moet hier in winsor_scale, omdat anders de gewinsoriseerde kolommen weer weggegooid worden. \n",
    "    ]), kolommen_winsoriseren),\n",
    "    \n",
    "    ('onehot', OneHotEncoder(handle_unknown='ignore'), categorische_kolommen),\n",
    "    \n",
    "    ('key_cyclisch', Pipeline([\n",
    "        ('encoder', ToonsoortCyclischeEncoder(kolom='key', max_waarde=12)),\n",
    "        ('scaler', StandardScaler())\n",
    "    ]), cyclische_kolommen),\n",
    "    ('scale_overige_kolommen', StandardScaler(), overige_kolommen),\n",
    "],\n",
    "remainder=StandardScaler()) # Anders vallen nieuwe features weg "
   ]
  },
  {
   "cell_type": "code",
   "execution_count": 12,
   "id": "7ea04ccb",
   "metadata": {},
   "outputs": [],
   "source": [
    "# Lineaire Regressie \n",
    "lineair_pipeline = Pipeline([\n",
    "    ('feature_creation', feature_engineering),\n",
    "    ('preprocess', preprocessor),\n",
    "    ('model', LinearRegression())\n",
    "])"
   ]
  },
  {
   "cell_type": "code",
   "execution_count": 13,
   "id": "33ab262e",
   "metadata": {},
   "outputs": [],
   "source": [
    "# Trainen en evalueren \n",
    "lineair_pipeline.fit(X_train, y_train)\n",
    "y_pred = lineair_pipeline.predict(X_test)"
   ]
  },
  {
   "cell_type": "code",
   "execution_count": 14,
   "id": "ecf7fafc",
   "metadata": {},
   "outputs": [],
   "source": [
    "random_forest_pipeline = Pipeline([\n",
    "    ('feature_creation', feature_engineering),\n",
    "    ('preprocess', preprocessor),\n",
    "    ('model', RandomForestRegressor(\n",
    "        random_state=42,\n",
    "        n_jobs=-1\n",
    "    ))\n",
    "])"
   ]
  },
  {
   "cell_type": "code",
   "execution_count": null,
   "id": "d2380c03",
   "metadata": {},
   "outputs": [],
   "source": [
    "param_grid = {\n",
    "    'model__n_estimators': [100, 200, 400],\n",
    "    'model__max_depth': [6, 8, 10, 12, 14],\n",
    "    'model__min_samples_split': [2, 4, 6, 8],\n",
    "    'model__min_samples_leaf': [1, 2, 4]\n",
    "}\n",
    "\n",
    "grid_search = GridSearchCV(\n",
    "    estimator=random_forest_pipeline,\n",
    "    param_grid=param_grid,\n",
    "    scoring='r2',\n",
    "    cv=5,\n",
    "    n_jobs=-1,\n",
    "    verbose=2\n",
    ")\n",
    "\n",
    "grid_search.fit(X_train, y_train)\n"
   ]
  },
  {
   "cell_type": "code",
   "execution_count": 16,
   "id": "7a45dc62",
   "metadata": {},
   "outputs": [
    {
     "name": "stdout",
     "output_type": "stream",
     "text": [
      "Beste parameters: {'model__max_depth': 10, 'model__min_samples_leaf': 1, 'model__min_samples_split': 6, 'model__n_estimators': 400}\n",
      "Cross-val (train) R²: 0.0580\n",
      "Test R²: 0.0520\n",
      "Test RMSE: 20.0811\n"
     ]
    }
   ],
   "source": [
    "beste_model = grid_search.best_estimator_\n",
    "y_pred_rf = beste_model.predict(X_test)\n",
    "\n",
    "r2_rf = r2_score(y_test, y_pred_rf)\n",
    "mse_rf = mean_squared_error(y_test, y_pred_rf)\n",
    "rmse_rf = root_mean_squared_error(y_test, y_pred_rf)\n",
    "\n",
    "# Evaluatie\n",
    "print(\"Beste parameters:\", grid_search.best_params_)\n",
    "print(f\"Cross-val (train) R²: {grid_search.best_score_:.4f}\")\n",
    "print(f\"Test R²: {r2_rf:.4f}\")\n",
    "print(f\"Test RMSE: {rmse_rf:.4f}\")"
   ]
  },
  {
   "cell_type": "code",
   "execution_count": 19,
   "id": "2f9c1c15",
   "metadata": {},
   "outputs": [
    {
     "data": {
      "application/vnd.microsoft.datawrangler.viewer.v0+json": {
       "columns": [
        {
         "name": "index",
         "rawType": "int64",
         "type": "integer"
        },
        {
         "name": "Model",
         "rawType": "object",
         "type": "string"
        },
        {
         "name": "R2",
         "rawType": "float64",
         "type": "float"
        },
        {
         "name": "RMSE",
         "rawType": "float64",
         "type": "float"
        }
       ],
       "ref": "ee2481b8-6742-4d52-8023-3e6b17ab2a81",
       "rows": [
        [
         "0",
         "Lineaire regressie",
         "0.03245368541582361",
         "20.28702284380007"
        ],
        [
         "1",
         "Random Forest",
         "0.052000123095261364",
         "20.081057383724684"
        ]
       ],
       "shape": {
        "columns": 3,
        "rows": 2
       }
      },
      "text/html": [
       "<div>\n",
       "<style scoped>\n",
       "    .dataframe tbody tr th:only-of-type {\n",
       "        vertical-align: middle;\n",
       "    }\n",
       "\n",
       "    .dataframe tbody tr th {\n",
       "        vertical-align: top;\n",
       "    }\n",
       "\n",
       "    .dataframe thead th {\n",
       "        text-align: right;\n",
       "    }\n",
       "</style>\n",
       "<table border=\"1\" class=\"dataframe\">\n",
       "  <thead>\n",
       "    <tr style=\"text-align: right;\">\n",
       "      <th></th>\n",
       "      <th>Model</th>\n",
       "      <th>R2</th>\n",
       "      <th>RMSE</th>\n",
       "    </tr>\n",
       "  </thead>\n",
       "  <tbody>\n",
       "    <tr>\n",
       "      <th>0</th>\n",
       "      <td>Lineaire regressie</td>\n",
       "      <td>0.032454</td>\n",
       "      <td>20.287023</td>\n",
       "    </tr>\n",
       "    <tr>\n",
       "      <th>1</th>\n",
       "      <td>Random Forest</td>\n",
       "      <td>0.052000</td>\n",
       "      <td>20.081057</td>\n",
       "    </tr>\n",
       "  </tbody>\n",
       "</table>\n",
       "</div>"
      ],
      "text/plain": [
       "                Model        R2       RMSE\n",
       "0  Lineaire regressie  0.032454  20.287023\n",
       "1       Random Forest  0.052000  20.081057"
      ]
     },
     "metadata": {},
     "output_type": "display_data"
    }
   ],
   "source": [
    "resultaten = pd.DataFrame({\n",
    "    'Model': ['Lineaire regressie', 'Random Forest'],\n",
    "    'R2': [r2_score(y_test, y_pred), r2_rf],\n",
    "    'RMSE': [root_mean_squared_error(y_test, y_pred), rmse_rf]\n",
    "})\n",
    "display(resultaten)"
   ]
  }
 ],
 "metadata": {
  "kernelspec": {
   "display_name": ".venv (3.13.3)",
   "language": "python",
   "name": "python3"
  },
  "language_info": {
   "codemirror_mode": {
    "name": "ipython",
    "version": 3
   },
   "file_extension": ".py",
   "mimetype": "text/x-python",
   "name": "python",
   "nbconvert_exporter": "python",
   "pygments_lexer": "ipython3",
   "version": "3.13.3"
  }
 },
 "nbformat": 4,
 "nbformat_minor": 5
}
