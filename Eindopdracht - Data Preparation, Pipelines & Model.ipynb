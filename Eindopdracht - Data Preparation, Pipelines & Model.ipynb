{
 "cells": [
  {
   "cell_type": "markdown",
   "id": "d5ae150c",
   "metadata": {},
   "source": [
    "# Data Preparation, Pipelines & Model "
   ]
  },
  {
   "cell_type": "code",
   "execution_count": 2,
   "id": "ff3be992",
   "metadata": {},
   "outputs": [],
   "source": [
    "# Modules importeren\n",
    "import pandas as pd\n",
    "from pandas.plotting import scatter_matrix\n",
    "import matplotlib.pyplot as plt\n",
    "import seaborn as sns \n",
    "import numpy as np\n",
    "from sklearn.preprocessing import StandardScaler, OneHotEncoder\n",
    "from sklearn.pipeline import Pipeline\n",
    "from sklearn.linear_model import LinearRegression\n",
    "from sklearn.model_selection import train_test_split\n",
    "from sklearn.metrics import mean_squared_error, r2_score\n",
    "from sklearn.compose import ColumnTransformer\n",
    "\n",
    "# Dataset importeren \n",
    "df = pd.read_csv(\"/Users/odessa/Desktop/Applied Data Science & AI/Data Science/Code Inleiding data science/song_data.csv\")\n",
    "\n",
    "# Target variabele maken \n",
    "target = 'song_popularity'\n",
    "#df.drop(columns=[\"song_name\"], inplace=True) # inplace=True veranderd de originele dataframe zonder nieuwe dataframe te maken "
   ]
  },
  {
   "cell_type": "markdown",
   "id": "1a787fa6",
   "metadata": {},
   "source": [
    "### Phase 3: Data Preparation"
   ]
  },
  {
   "cell_type": "code",
   "execution_count": 3,
   "id": "9dc18af5",
   "metadata": {},
   "outputs": [],
   "source": [
    "# 2 nummers droppen\n",
    "df = df.drop([7119, 11171]).reset_index(drop=True)"
   ]
  },
  {
   "cell_type": "code",
   "execution_count": null,
   "id": "71414a8c",
   "metadata": {},
   "outputs": [
    {
     "name": "stdout",
     "output_type": "stream",
     "text": [
      "Totaal aantal waardes in de dataframe vóór het verwijderen van dubbele waardes uit song_name en song_duration_ms: 18833\n",
      "Totaal aantal waardes in de dataframe na verwijderen van dubbele waardes uit song_name en song_duration_ms: 14466\n"
     ]
    }
   ],
   "source": [
    "print(f\"Totaal aantal waardes in de dataframe vóór het verwijderen van dubbele waardes uit song_name en song_duration_ms: {len(df)}\")\n",
    "\n",
    "# Dubbele waardes droppen van song_name en song_duration \n",
    "# Als ik alleen song_name duplicates zou verwijderen, zou ik misschien covers van nummers verwijderen, dus daarom check ik ook de song_duration \n",
    "df.drop_duplicates(subset=['song_name', 'song_duration_ms'], inplace = True)\n",
    "print(f\"Totaal aantal waardes in de dataframe na verwijderen van dubbele waardes uit song_name en song_duration_ms: {len(df)}\")"
   ]
  },
  {
   "cell_type": "code",
   "execution_count": null,
   "id": "cfd97395",
   "metadata": {},
   "outputs": [],
   "source": [
    "df.drop(columns=[\"song_name\"], inplace=True) # inplace=True veranderd de originele dataframe zonder nieuwe dataframe te maken "
   ]
  },
  {
   "cell_type": "code",
   "execution_count": null,
   "id": "cc29ab09",
   "metadata": {},
   "outputs": [],
   "source": [
    "# class maken en daarna in pipeline zetten \n",
    "def ikr_grenzen_berekenen(df: pd.DataFrame, kolommen=None):\n",
    "    \"\"\"\n",
    "    Berekent voor elke numerieke kolom de onder- en bovengrens \n",
    "    op basis van interkwartielafstand (IKR).\n",
    "    \"\"\"\n",
    "    if kolommen is None: \n",
    "        kolommen = df.select_dtypes(include=['int64', 'float64']).columns\n",
    "    \n",
    "    grenzen = {}\n",
    "\n",
    "    for kolom in kolommen: \n",
    "        Q1 = df[kolom].quantile(0.25)\n",
    "        Q3 = df[kolom].quantile(0.75)\n",
    "        IKR = Q3 - Q1 \n",
    "        ondergrens = Q1 - 1.5 * IKR\n",
    "        bovengrens = Q3 + 1.5 * IKR\n",
    "        grenzen[kolom] = (ondergrens, bovengrens)\n",
    "\n",
    "    return grenzen \n",
    "\n",
    "\n",
    "def uitschieters_detecteren(df: pd.DataFrame, grenzen: dict):\n",
    "    \"\"\"\n",
    "    Geeft een overzicht van het aantal uitschieters en percentage uitschieters per kolom.\n",
    "    \"\"\"\n",
    "    overzicht = []\n",
    "    totaal_rijen = len(df)\n",
    "\n",
    "    for kolom, (ondergrens, bovengrens) in grenzen.items():\n",
    "        voorwaarde = (df[kolom] < ondergrens) | (df[kolom] > bovengrens)\n",
    "        aantal = voorwaarde.sum()\n",
    "        overzicht.append({\n",
    "            'kolom': kolom,\n",
    "            'aantal_uitschieters': aantal,\n",
    "            'percentage': round(100 * aantal / totaal_rijen, 2)\n",
    "        })\n",
    "    return pd.DataFrame(overzicht).sort_values('percentage', ascending = False)\n",
    "\n",
    "def winsoriseren(df: pd.DataFrame, grenzen: dict):\n",
    "    \"\"\"\n",
    "    Winsorisatie functie: waarden buiten de grenzen worden vervangen \n",
    "    door de dichtstbijzijnde grenswaarde.\n",
    "    \"\"\"\n",
    "    df_gecorrigeerd = df.copy()\n",
    "    for kolom, (ondergrens, bovengrens) in grenzen.items():\n",
    "        df_gecorrigeerd[kolom] = df_gecorrigeerd[kolom].astype(float)\n",
    "        df_gecorrigeerd.loc[df_gecorrigeerd[kolom] < ondergrens, kolom] = ondergrens\n",
    "        df_gecorrigeerd.loc[df_gecorrigeerd[kolom] > bovengrens, kolom] = bovengrens\n",
    "    return df_gecorrigeerd"
   ]
  },
  {
   "cell_type": "code",
   "execution_count": null,
   "id": "74ea833f",
   "metadata": {},
   "outputs": [],
   "source": [
    "# Song_popularity eerst splitsen van de rest \n",
    "x = df.drop(columns=[target])\n",
    "y = df[target]"
   ]
  },
  {
   "cell_type": "code",
   "execution_count": null,
   "id": "9c395ac8",
   "metadata": {},
   "outputs": [],
   "source": [
    "# Kolommen kiezen voor winsorisatie \n",
    "kolommen_winsoriseren = ['song_duration_ms', 'loudness', 'tempo', 'time_signature']\n",
    "#  Grenzen berekenen \n",
    "grenzen_voor = ikr_grenzen_berekenen(x[kolommen_winsoriseren])"
   ]
  },
  {
   "cell_type": "code",
   "execution_count": null,
   "id": "32c91ba6",
   "metadata": {},
   "outputs": [
    {
     "data": {
      "application/vnd.microsoft.datawrangler.viewer.v0+json": {
       "columns": [
        {
         "name": "index",
         "rawType": "int64",
         "type": "integer"
        },
        {
         "name": "kolom",
         "rawType": "object",
         "type": "string"
        },
        {
         "name": "aantal_uitschieters",
         "rawType": "int64",
         "type": "integer"
        },
        {
         "name": "percentage",
         "rawType": "float64",
         "type": "float"
        }
       ],
       "ref": "4359d59f-c4f2-4dc2-ae4c-6eeb33f67dbb",
       "rows": [
        [
         "3",
         "time_signature",
         "931",
         "6.44"
        ],
        [
         "0",
         "song_duration_ms",
         "623",
         "4.31"
        ],
        [
         "1",
         "loudness",
         "548",
         "3.79"
        ],
        [
         "2",
         "tempo",
         "63",
         "0.44"
        ]
       ],
       "shape": {
        "columns": 3,
        "rows": 4
       }
      },
      "text/html": [
       "<div>\n",
       "<style scoped>\n",
       "    .dataframe tbody tr th:only-of-type {\n",
       "        vertical-align: middle;\n",
       "    }\n",
       "\n",
       "    .dataframe tbody tr th {\n",
       "        vertical-align: top;\n",
       "    }\n",
       "\n",
       "    .dataframe thead th {\n",
       "        text-align: right;\n",
       "    }\n",
       "</style>\n",
       "<table border=\"1\" class=\"dataframe\">\n",
       "  <thead>\n",
       "    <tr style=\"text-align: right;\">\n",
       "      <th></th>\n",
       "      <th>kolom</th>\n",
       "      <th>aantal_uitschieters</th>\n",
       "      <th>percentage</th>\n",
       "    </tr>\n",
       "  </thead>\n",
       "  <tbody>\n",
       "    <tr>\n",
       "      <th>3</th>\n",
       "      <td>time_signature</td>\n",
       "      <td>931</td>\n",
       "      <td>6.44</td>\n",
       "    </tr>\n",
       "    <tr>\n",
       "      <th>0</th>\n",
       "      <td>song_duration_ms</td>\n",
       "      <td>623</td>\n",
       "      <td>4.31</td>\n",
       "    </tr>\n",
       "    <tr>\n",
       "      <th>1</th>\n",
       "      <td>loudness</td>\n",
       "      <td>548</td>\n",
       "      <td>3.79</td>\n",
       "    </tr>\n",
       "    <tr>\n",
       "      <th>2</th>\n",
       "      <td>tempo</td>\n",
       "      <td>63</td>\n",
       "      <td>0.44</td>\n",
       "    </tr>\n",
       "  </tbody>\n",
       "</table>\n",
       "</div>"
      ],
      "text/plain": [
       "              kolom  aantal_uitschieters  percentage\n",
       "3    time_signature                  931        6.44\n",
       "0  song_duration_ms                  623        4.31\n",
       "1          loudness                  548        3.79\n",
       "2             tempo                   63        0.44"
      ]
     },
     "metadata": {},
     "output_type": "display_data"
    }
   ],
   "source": [
    "# Uitschieters detecteren \n",
    "uitschieters_voor = uitschieters_detecteren(x, grenzen_voor)\n",
    "display(uitschieters_voor)"
   ]
  },
  {
   "cell_type": "markdown",
   "id": "a347e29b",
   "metadata": {},
   "source": [
    "instrumentalness, speechiness, liveness, danceability, energy, acousticness, audio_valence, energy zijn scores van 0 tot 1. \n",
    "Hier niet op winsoriseren, 'uitschieters' hier zijn geen echte uitschieters. \n",
    "\n",
    "audio_mode is binair. Niet winsoriseren \n",
    "\n",
    "key = 0 tot 11 (toonsoorten). Dit is categorisch numeriek. Niet winsoriseren \n",
    "\n",
    "time_signature = van 3-7. Niet winsoriseren. Waardes van 0-2 zijn er al uitgehaald \n",
    "song_duration_ms. Winsoriseren \n",
    "loudness. Winsoriseren\n",
    "tempo. Winsoriseren\n"
   ]
  },
  {
   "cell_type": "code",
   "execution_count": null,
   "id": "4335a86f",
   "metadata": {},
   "outputs": [],
   "source": [
    "# Kopie maken van x dataframe (df zonder target)\n",
    "df_gecorrigeerd = x.copy()\n",
    "# Winsorisatie toepassen op geselecteerde kolommen \n",
    "df_gecorrigeerd[kolommen_winsoriseren] = winsoriseren(x[kolommen_winsoriseren], grenzen_voor)"
   ]
  },
  {
   "cell_type": "code",
   "execution_count": null,
   "id": "66efb893",
   "metadata": {},
   "outputs": [
    {
     "data": {
      "application/vnd.microsoft.datawrangler.viewer.v0+json": {
       "columns": [
        {
         "name": "index",
         "rawType": "int64",
         "type": "integer"
        },
        {
         "name": "kolom",
         "rawType": "object",
         "type": "string"
        },
        {
         "name": "aantal_uitschieters",
         "rawType": "int64",
         "type": "integer"
        },
        {
         "name": "percentage",
         "rawType": "float64",
         "type": "float"
        }
       ],
       "ref": "e2c60ffc-0055-4e43-8437-c914756e39e7",
       "rows": [
        [
         "0",
         "song_duration_ms",
         "0",
         "0.0"
        ],
        [
         "1",
         "loudness",
         "0",
         "0.0"
        ],
        [
         "2",
         "tempo",
         "0",
         "0.0"
        ],
        [
         "3",
         "time_signature",
         "0",
         "0.0"
        ]
       ],
       "shape": {
        "columns": 3,
        "rows": 4
       }
      },
      "text/html": [
       "<div>\n",
       "<style scoped>\n",
       "    .dataframe tbody tr th:only-of-type {\n",
       "        vertical-align: middle;\n",
       "    }\n",
       "\n",
       "    .dataframe tbody tr th {\n",
       "        vertical-align: top;\n",
       "    }\n",
       "\n",
       "    .dataframe thead th {\n",
       "        text-align: right;\n",
       "    }\n",
       "</style>\n",
       "<table border=\"1\" class=\"dataframe\">\n",
       "  <thead>\n",
       "    <tr style=\"text-align: right;\">\n",
       "      <th></th>\n",
       "      <th>kolom</th>\n",
       "      <th>aantal_uitschieters</th>\n",
       "      <th>percentage</th>\n",
       "    </tr>\n",
       "  </thead>\n",
       "  <tbody>\n",
       "    <tr>\n",
       "      <th>0</th>\n",
       "      <td>song_duration_ms</td>\n",
       "      <td>0</td>\n",
       "      <td>0.0</td>\n",
       "    </tr>\n",
       "    <tr>\n",
       "      <th>1</th>\n",
       "      <td>loudness</td>\n",
       "      <td>0</td>\n",
       "      <td>0.0</td>\n",
       "    </tr>\n",
       "    <tr>\n",
       "      <th>2</th>\n",
       "      <td>tempo</td>\n",
       "      <td>0</td>\n",
       "      <td>0.0</td>\n",
       "    </tr>\n",
       "    <tr>\n",
       "      <th>3</th>\n",
       "      <td>time_signature</td>\n",
       "      <td>0</td>\n",
       "      <td>0.0</td>\n",
       "    </tr>\n",
       "  </tbody>\n",
       "</table>\n",
       "</div>"
      ],
      "text/plain": [
       "              kolom  aantal_uitschieters  percentage\n",
       "0  song_duration_ms                    0         0.0\n",
       "1          loudness                    0         0.0\n",
       "2             tempo                    0         0.0\n",
       "3    time_signature                    0         0.0"
      ]
     },
     "metadata": {},
     "output_type": "display_data"
    }
   ],
   "source": [
    "grenzen_na = ikr_grenzen_berekenen(df_gecorrigeerd[kolommen_winsoriseren])\n",
    "uitschieters_na = uitschieters_detecteren(df_gecorrigeerd, grenzen_na)\n",
    "display(uitschieters_na)"
   ]
  },
  {
   "cell_type": "code",
   "execution_count": null,
   "id": "3fc0238c",
   "metadata": {},
   "outputs": [
    {
     "data": {
      "application/vnd.microsoft.datawrangler.viewer.v0+json": {
       "columns": [
        {
         "name": "index",
         "rawType": "int64",
         "type": "integer"
        },
        {
         "name": "song_popularity",
         "rawType": "int64",
         "type": "integer"
        },
        {
         "name": "song_duration_ms",
         "rawType": "float64",
         "type": "float"
        },
        {
         "name": "acousticness",
         "rawType": "float64",
         "type": "float"
        },
        {
         "name": "danceability",
         "rawType": "float64",
         "type": "float"
        },
        {
         "name": "energy",
         "rawType": "float64",
         "type": "float"
        },
        {
         "name": "instrumentalness",
         "rawType": "float64",
         "type": "float"
        },
        {
         "name": "key",
         "rawType": "int64",
         "type": "integer"
        },
        {
         "name": "liveness",
         "rawType": "float64",
         "type": "float"
        },
        {
         "name": "loudness",
         "rawType": "float64",
         "type": "float"
        },
        {
         "name": "audio_mode",
         "rawType": "int64",
         "type": "integer"
        },
        {
         "name": "speechiness",
         "rawType": "float64",
         "type": "float"
        },
        {
         "name": "tempo",
         "rawType": "float64",
         "type": "float"
        },
        {
         "name": "time_signature",
         "rawType": "float64",
         "type": "float"
        },
        {
         "name": "audio_valence",
         "rawType": "float64",
         "type": "float"
        }
       ],
       "ref": "cff2cad2-425a-422d-919a-d6228dd2856b",
       "rows": [
        [
         "18816",
         "62",
         "175777.0",
         "0.0128",
         "0.214",
         "0.148",
         "0.0579999999999999",
         "7",
         "0.113",
         "-16.071875",
         "1",
         "0.037",
         "46.591",
         "4.0",
         "0.0277"
        ],
        [
         "15291",
         "46",
         "147373.0",
         "0.919",
         "0.71",
         "0.114",
         "0.0",
         "4",
         "0.154",
         "-12.764",
         "0",
         "0.2689999999999999",
         "47.953",
         "4.0",
         "0.433"
        ],
        [
         "4833",
         "52",
         "230000.0",
         "0.8079999999999999",
         "0.146",
         "0.126",
         "0.949",
         "2",
         "0.327",
         "-16.071875",
         "1",
         "0.04",
         "51.607",
         "4.0",
         "0.0356"
        ],
        [
         "13248",
         "11",
         "272506.0",
         "0.275",
         "0.5479999999999999",
         "0.493",
         "0.0",
         "10",
         "0.0634",
         "-12.743",
         "1",
         "0.176",
         "52.181",
         "4.0",
         "0.634"
        ],
        [
         "5953",
         "47",
         "336517.75",
         "0.6629999999999999",
         "0.0594",
         "0.216",
         "0.918",
         "8",
         "0.0451",
         "-16.071875",
         "1",
         "0.0493",
         "54.213",
         "4.0",
         "0.0243"
        ]
       ],
       "shape": {
        "columns": 14,
        "rows": 5
       }
      },
      "text/html": [
       "<div>\n",
       "<style scoped>\n",
       "    .dataframe tbody tr th:only-of-type {\n",
       "        vertical-align: middle;\n",
       "    }\n",
       "\n",
       "    .dataframe tbody tr th {\n",
       "        vertical-align: top;\n",
       "    }\n",
       "\n",
       "    .dataframe thead th {\n",
       "        text-align: right;\n",
       "    }\n",
       "</style>\n",
       "<table border=\"1\" class=\"dataframe\">\n",
       "  <thead>\n",
       "    <tr style=\"text-align: right;\">\n",
       "      <th></th>\n",
       "      <th>song_popularity</th>\n",
       "      <th>song_duration_ms</th>\n",
       "      <th>acousticness</th>\n",
       "      <th>danceability</th>\n",
       "      <th>energy</th>\n",
       "      <th>instrumentalness</th>\n",
       "      <th>key</th>\n",
       "      <th>liveness</th>\n",
       "      <th>loudness</th>\n",
       "      <th>audio_mode</th>\n",
       "      <th>speechiness</th>\n",
       "      <th>tempo</th>\n",
       "      <th>time_signature</th>\n",
       "      <th>audio_valence</th>\n",
       "    </tr>\n",
       "  </thead>\n",
       "  <tbody>\n",
       "    <tr>\n",
       "      <th>18816</th>\n",
       "      <td>62</td>\n",
       "      <td>175777.00</td>\n",
       "      <td>0.0128</td>\n",
       "      <td>0.2140</td>\n",
       "      <td>0.148</td>\n",
       "      <td>0.058</td>\n",
       "      <td>7</td>\n",
       "      <td>0.1130</td>\n",
       "      <td>-16.071875</td>\n",
       "      <td>1</td>\n",
       "      <td>0.0370</td>\n",
       "      <td>46.591</td>\n",
       "      <td>4.0</td>\n",
       "      <td>0.0277</td>\n",
       "    </tr>\n",
       "    <tr>\n",
       "      <th>15291</th>\n",
       "      <td>46</td>\n",
       "      <td>147373.00</td>\n",
       "      <td>0.9190</td>\n",
       "      <td>0.7100</td>\n",
       "      <td>0.114</td>\n",
       "      <td>0.000</td>\n",
       "      <td>4</td>\n",
       "      <td>0.1540</td>\n",
       "      <td>-12.764000</td>\n",
       "      <td>0</td>\n",
       "      <td>0.2690</td>\n",
       "      <td>47.953</td>\n",
       "      <td>4.0</td>\n",
       "      <td>0.4330</td>\n",
       "    </tr>\n",
       "    <tr>\n",
       "      <th>4833</th>\n",
       "      <td>52</td>\n",
       "      <td>230000.00</td>\n",
       "      <td>0.8080</td>\n",
       "      <td>0.1460</td>\n",
       "      <td>0.126</td>\n",
       "      <td>0.949</td>\n",
       "      <td>2</td>\n",
       "      <td>0.3270</td>\n",
       "      <td>-16.071875</td>\n",
       "      <td>1</td>\n",
       "      <td>0.0400</td>\n",
       "      <td>51.607</td>\n",
       "      <td>4.0</td>\n",
       "      <td>0.0356</td>\n",
       "    </tr>\n",
       "    <tr>\n",
       "      <th>13248</th>\n",
       "      <td>11</td>\n",
       "      <td>272506.00</td>\n",
       "      <td>0.2750</td>\n",
       "      <td>0.5480</td>\n",
       "      <td>0.493</td>\n",
       "      <td>0.000</td>\n",
       "      <td>10</td>\n",
       "      <td>0.0634</td>\n",
       "      <td>-12.743000</td>\n",
       "      <td>1</td>\n",
       "      <td>0.1760</td>\n",
       "      <td>52.181</td>\n",
       "      <td>4.0</td>\n",
       "      <td>0.6340</td>\n",
       "    </tr>\n",
       "    <tr>\n",
       "      <th>5953</th>\n",
       "      <td>47</td>\n",
       "      <td>336517.75</td>\n",
       "      <td>0.6630</td>\n",
       "      <td>0.0594</td>\n",
       "      <td>0.216</td>\n",
       "      <td>0.918</td>\n",
       "      <td>8</td>\n",
       "      <td>0.0451</td>\n",
       "      <td>-16.071875</td>\n",
       "      <td>1</td>\n",
       "      <td>0.0493</td>\n",
       "      <td>54.213</td>\n",
       "      <td>4.0</td>\n",
       "      <td>0.0243</td>\n",
       "    </tr>\n",
       "  </tbody>\n",
       "</table>\n",
       "</div>"
      ],
      "text/plain": [
       "       song_popularity  song_duration_ms  acousticness  danceability  energy  \\\n",
       "18816               62         175777.00        0.0128        0.2140   0.148   \n",
       "15291               46         147373.00        0.9190        0.7100   0.114   \n",
       "4833                52         230000.00        0.8080        0.1460   0.126   \n",
       "13248               11         272506.00        0.2750        0.5480   0.493   \n",
       "5953                47         336517.75        0.6630        0.0594   0.216   \n",
       "\n",
       "       instrumentalness  key  liveness   loudness  audio_mode  speechiness  \\\n",
       "18816             0.058    7    0.1130 -16.071875           1       0.0370   \n",
       "15291             0.000    4    0.1540 -12.764000           0       0.2690   \n",
       "4833              0.949    2    0.3270 -16.071875           1       0.0400   \n",
       "13248             0.000   10    0.0634 -12.743000           1       0.1760   \n",
       "5953              0.918    8    0.0451 -16.071875           1       0.0493   \n",
       "\n",
       "        tempo  time_signature  audio_valence  \n",
       "18816  46.591             4.0         0.0277  \n",
       "15291  47.953             4.0         0.4330  \n",
       "4833   51.607             4.0         0.0356  \n",
       "13248  52.181             4.0         0.6340  \n",
       "5953   54.213             4.0         0.0243  "
      ]
     },
     "metadata": {},
     "output_type": "display_data"
    }
   ],
   "source": [
    "# target terugzetten \n",
    "df_gecorrigeerd.insert(0, target, y)\n",
    "display(df_gecorrigeerd.head())"
   ]
  },
  {
   "cell_type": "code",
   "execution_count": null,
   "id": "e124f53d",
   "metadata": {},
   "outputs": [
    {
     "name": "stdout",
     "output_type": "stream",
     "text": [
      "Index(['song_popularity', 'song_duration_ms', 'acousticness', 'danceability',\n",
      "       'energy', 'instrumentalness', 'key', 'liveness', 'loudness',\n",
      "       'audio_mode', 'speechiness', 'tempo', 'time_signature',\n",
      "       'audio_valence'],\n",
      "      dtype='object')\n"
     ]
    }
   ],
   "source": [
    "print(df_gecorrigeerd.select_dtypes(include=['int64', 'float64']).columns)"
   ]
  },
  {
   "cell_type": "code",
   "execution_count": null,
   "id": "033a51cb",
   "metadata": {},
   "outputs": [],
   "source": [
    "# Train en test set maken \n",
    "x = df_gecorrigeerd.drop('song_popularity', axis=1)\n",
    "y = df_gecorrigeerd['song_popularity']\n",
    "\n",
    "x_train, x_test, y_train, y_test = train_test_split(\n",
    "   x, y, test_size=0.2, random_state = 42\n",
    ")"
   ]
  },
  {
   "cell_type": "markdown",
   "id": "c9a4ec21",
   "metadata": {},
   "source": [
    "### Phase 4: Modeling "
   ]
  },
  {
   "cell_type": "markdown",
   "id": "8cd89d72",
   "metadata": {},
   "source": [
    "Supervised learning, omdat je de uitkomst al hebt \n",
    "<br>\n",
    "Supervised learning heeft 2 hoofdtakken: regressie en classificatie \n",
    "<br>\n",
    "RMSE \n",
    "<br>\n",
    "Meervoudige lineare regressie \n",
    "<br>\n",
    "Logistieke lineare regressie is classification \n",
    "<br>\n",
    "Random forests is het begin van dat machine learning slim werd "
   ]
  }
 ],
 "metadata": {
  "kernelspec": {
   "display_name": ".venv (3.13.3)",
   "language": "python",
   "name": "python3"
  },
  "language_info": {
   "codemirror_mode": {
    "name": "ipython",
    "version": 3
   },
   "file_extension": ".py",
   "mimetype": "text/x-python",
   "name": "python",
   "nbconvert_exporter": "python",
   "pygments_lexer": "ipython3",
   "version": "3.13.3"
  }
 },
 "nbformat": 4,
 "nbformat_minor": 5
}
