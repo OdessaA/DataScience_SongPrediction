{
 "cells": [
  {
   "cell_type": "markdown",
   "id": "7e085924",
   "metadata": {},
   "source": [
    "# Data Exploratie "
   ]
  },
  {
   "cell_type": "markdown",
   "id": "5a772ddc",
   "metadata": {},
   "source": [
    "### Phase 1: Business Understanding"
   ]
  },
  {
   "cell_type": "markdown",
   "id": "3f84e867",
   "metadata": {},
   "source": [
    "Het doel van dit model is om te testen of populariteit van een nummer \n",
    "<br>\n",
    "voorspelt kan worden met lineaire regressie o.b.v de audio-features \n",
    "<br>\n",
    "in deze dataset. "
   ]
  },
  {
   "cell_type": "markdown",
   "id": "5c77f14f",
   "metadata": {},
   "source": [
    "### Phase 2: Data Understanding "
   ]
  },
  {
   "cell_type": "code",
   "execution_count": 1,
   "id": "06bd96e7",
   "metadata": {},
   "outputs": [],
   "source": [
    "# Modules importeren\n",
    "import pandas as pd\n",
    "from pandas.plotting import scatter_matrix\n",
    "import matplotlib.pyplot as plt\n",
    "import seaborn as sns \n",
    "import numpy as np\n",
    "from sklearn.preprocessing import StandardScaler, OneHotEncoder\n",
    "from sklearn.pipeline import Pipeline\n",
    "from sklearn.linear_model import LinearRegression\n",
    "from sklearn.model_selection import train_test_split\n",
    "from sklearn.metrics import mean_squared_error, r2_score\n",
    "from sklearn.compose import ColumnTransformer\n",
    "\n",
    "# Dataset importeren \n",
    "df = pd.read_csv(\"/Users/odessa/Desktop/Applied Data Science & AI/Data Science/Code Inleiding data science/song_data.csv\")\n",
    "\n",
    "# Target variabele maken \n",
    "target = 'song_popularity'\n",
    "#df.drop(columns=[\"song_name\"], inplace=True) # inplace=True veranderd de originele dataframe zonder nieuwe dataframe te maken "
   ]
  },
  {
   "cell_type": "code",
   "execution_count": null,
   "id": "149e42ac",
   "metadata": {},
   "outputs": [],
   "source": [
    "# Eerste 5 rijen van de dataframe printen\n",
    "display(df.head())\n",
    "# Er zijn in totaal 16 kolommen in deze dataframe"
   ]
  },
  {
   "cell_type": "code",
   "execution_count": null,
   "id": "a2f581c4",
   "metadata": {},
   "outputs": [],
   "source": [
    "# Datatypes printen en checken of er nullwaardes zijn \n",
    "df.info()"
   ]
  },
  {
   "cell_type": "code",
   "execution_count": null,
   "id": "9bb92475",
   "metadata": {},
   "outputs": [],
   "source": [
    "# Statistiche informatie weergeven \n",
    "df.describe().T\n",
    "\n",
    "# Opvallend: \n",
    "# Time_signature van 0 \n",
    "# Loudness heeft normaliter een waarde tussen -60 en 0 dB \n",
    "# Tempo heeft een minimum van 0\n",
    "\n",
    "# danceability minimum = 0 checken ?\n",
    "# speechiness minimum = 0 checken ?\n",
    "\n",
    "# Deze punten worden aangepakt bij fase 3 "
   ]
  },
  {
   "cell_type": "code",
   "execution_count": null,
   "id": "ce88dee5",
   "metadata": {},
   "outputs": [],
   "source": [
    "# Hoeveel waardes zitten in de dataframe? \n",
    "print(f\"Totaal aantal waardes in de dataframe: {len(df)}\")\n",
    "\n",
    "# Hoeveel unieke rijen in elke kolom? \n",
    "df.nunique().sort_values(ascending=False)"
   ]
  },
  {
   "cell_type": "markdown",
   "id": "22666126",
   "metadata": {},
   "source": [
    "### Grafieken plotten "
   ]
  },
  {
   "cell_type": "code",
   "execution_count": null,
   "id": "3bcd181a",
   "metadata": {},
   "outputs": [],
   "source": [
    "# Matplotlib histogrammen plotten \n",
    "df.hist(figsize=(15,12), bins=30)\n",
    "plt.tight_layout()\n",
    "plt.show"
   ]
  },
  {
   "cell_type": "code",
   "execution_count": null,
   "id": "bef32f9f",
   "metadata": {},
   "outputs": [],
   "source": [
    "# Plot popularity distribution\n",
    "plt.hist(df[\"song_popularity\"], bins=20, color=\"skyblue\", edgecolor=\"black\")\n",
    "plt.title(\"Popularity Distribution\")\n",
    "plt.xlabel(\"Popularity (0-100)\")\n",
    "plt.ylabel(\"Number of songs\")\n",
    "plt.show()"
   ]
  },
  {
   "cell_type": "markdown",
   "id": "c4bf8e21",
   "metadata": {},
   "source": [
    "### Correlaties\n"
   ]
  },
  {
   "cell_type": "markdown",
   "id": "d6fb375a",
   "metadata": {},
   "source": [
    "0.00 – 0.30\tnauwelijks of geen correlatie\n",
    "<br>\n",
    "0.30 – 0.50\tlage of zwakke correlatie\n",
    "<br>\n",
    "0.50 – 0.70\tmiddelmatige correlatie\n",
    "<br>\n",
    "0.70 – 0.90\thoge of sterke correlatie\n",
    "<br>\n",
    "0.90 – 1.00\tzeer hoge of zeer sterke correlatie"
   ]
  },
  {
   "cell_type": "code",
   "execution_count": null,
   "id": "3ed4c2d1",
   "metadata": {},
   "outputs": [],
   "source": [
    "df_num = df.select_dtypes(include=['number']).copy()\n",
    "corr_matrix = df_num.corr()\n",
    "print(corr_matrix['song_popularity'].sort_values(ascending=True))"
   ]
  },
  {
   "cell_type": "code",
   "execution_count": null,
   "id": "25bf8c83",
   "metadata": {},
   "outputs": [],
   "source": [
    "plt.figure(figsize = (10,8))\n",
    "sns.heatmap(df.corr(numeric_only=True), annot=True, cmap='coolwarm')\n",
    "plt.title(\"Correlatie heatmap\")\n",
    "plt.show()\n",
    "\n",
    "# Loudness en energy hebben een sterke positieve correlatie: 0.77\n",
    "# energy en acousticness hebben een redelijk sterke negatieve correlatie: -0.68\n",
    "# loudness en acousticness hebben een negatieve correlatie: -0.57 \n",
    "# loudness en instrumentallness hebben een negatieve correlatie: -0.4"
   ]
  },
  {
   "cell_type": "code",
   "execution_count": null,
   "id": "781ffb78",
   "metadata": {},
   "outputs": [],
   "source": [
    "attributes = [\"energy\", \"loudness\", \"acousticness\",\n",
    "\"instrumentalness\"]\n",
    "scatter_matrix(df[attributes], figsize=(12, 8))\n",
    "plt.show()"
   ]
  },
  {
   "cell_type": "markdown",
   "id": "2e6aad5c",
   "metadata": {},
   "source": [
    "### Phase 3: Data Preparation"
   ]
  },
  {
   "cell_type": "code",
   "execution_count": null,
   "id": "4f34c82f",
   "metadata": {},
   "outputs": [],
   "source": [
    "# time_signature gaat van 3 tot 7 volgens spotify api\n",
    "df[\"time_signature\"].value_counts()\n",
    "# waardes van 0 en 1 kan niet "
   ]
  },
  {
   "cell_type": "code",
   "execution_count": null,
   "id": "7d0008c1",
   "metadata": {},
   "outputs": [],
   "source": [
    "# Indexen van time_signature == 0 \n",
    "time_sig_is_zero = df[df['time_signature'] == 0]\n",
    "print(time_sig_is_zero['time_signature'])"
   ]
  },
  {
   "cell_type": "code",
   "execution_count": null,
   "id": "17b7fd3e",
   "metadata": {},
   "outputs": [],
   "source": [
    "# Indexen van time_signature == 1\n",
    "time_sig_is_one = df[df['time_signature'] == 1]\n",
    "print(time_sig_is_one['time_signature'])"
   ]
  },
  {
   "cell_type": "code",
   "execution_count": null,
   "id": "9300ddc7",
   "metadata": {},
   "outputs": [],
   "source": [
    "# Dataframe maken van time_signatures 0 en 1 \n",
    "df_time_signature_0_1 = pd.concat([time_sig_is_zero, time_sig_is_one])"
   ]
  },
  {
   "cell_type": "code",
   "execution_count": null,
   "id": "e88ae861",
   "metadata": {},
   "outputs": [],
   "source": [
    "# Statistische berekeningen zien van waardes met time signatures van 0 en 1 \n",
    "display(df_time_signature_0_1.describe())"
   ]
  },
  {
   "cell_type": "code",
   "execution_count": null,
   "id": "fb04a20b",
   "metadata": {},
   "outputs": [],
   "source": [
    "display(df_time_signature_0_1.sort_values(by='song_duration_ms').head(25))\n",
    "#TO-DO: index 7119 verwijderen "
   ]
  },
  {
   "cell_type": "code",
   "execution_count": null,
   "id": "e174feb3",
   "metadata": {},
   "outputs": [],
   "source": [
    "display(df_time_signature_0_1.sort_values(by='danceability').head(25))\n",
    "# TO-DO: index 11171 verwijderen want speechiness, danceability en tempo = 0, "
   ]
  },
  {
   "cell_type": "code",
   "execution_count": null,
   "id": "09bffaac",
   "metadata": {},
   "outputs": [],
   "source": [
    "# Nummers met een decibelvolume boven 0. \n",
    "luidste_nummers = df.loc[df['loudness'] > 0, ['song_name', 'loudness', 'song_popularity']]\n",
    "print(luidste_nummers)\n",
    "\n",
    "# 7 waardes. "
   ]
  },
  {
   "cell_type": "code",
   "execution_count": null,
   "id": "bbf8cb33",
   "metadata": {},
   "outputs": [],
   "source": [
    "# Tempo waardes sorteren van laag naar hoog \n",
    "df = df.sort_values('tempo')\n",
    "\n",
    "# Nummers met een tempo van 0. \n",
    "nul_tempo = df.loc[df['tempo'] == 0, ['song_name', 'tempo', 'song_popularity']]\n",
    "print(f'Nummers met een tempo van 0: {nul_tempo}')\n",
    "\n",
    "# Tempo == 0 is opgelost na verwijderen nummers 9499 en 6415"
   ]
  },
  {
   "cell_type": "code",
   "execution_count": null,
   "id": "bfcaf47d",
   "metadata": {},
   "outputs": [],
   "source": [
    "# Bij song_name veel dubbele waardes \n",
    "totaal_song_name = df['song_name'].count()\n",
    "unieke_song_name = df['song_name'].nunique()\n",
    "dubbel_song_name = totaal_song_name - unieke_song_name\n",
    "\n",
    "print(f\"song_name heeft {dubbel_song_name} dubbele waardes\")"
   ]
  },
  {
   "cell_type": "code",
   "execution_count": null,
   "id": "3352c940",
   "metadata": {},
   "outputs": [],
   "source": [
    "df['instrumentalness'].value_counts()"
   ]
  }
 ],
 "metadata": {
  "kernelspec": {
   "display_name": ".venv (3.13.3)",
   "language": "python",
   "name": "python3"
  },
  "language_info": {
   "codemirror_mode": {
    "name": "ipython",
    "version": 3
   },
   "file_extension": ".py",
   "mimetype": "text/x-python",
   "name": "python",
   "nbconvert_exporter": "python",
   "pygments_lexer": "ipython3",
   "version": "3.13.3"
  }
 },
 "nbformat": 4,
 "nbformat_minor": 5
}
